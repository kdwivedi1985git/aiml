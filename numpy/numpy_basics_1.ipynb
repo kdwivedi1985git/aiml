{
  "cells": [
    {
      "cell_type": "markdown",
      "metadata": {
        "id": "view-in-github",
        "colab_type": "text"
      },
      "source": [
        "<a href=\"https://colab.research.google.com/github/kdwivedi1985git/datascience/blob/main/numpy/numpy_basics_1.ipynb\" target=\"_parent\"><img src=\"https://colab.research.google.com/assets/colab-badge.svg\" alt=\"Open In Colab\"/></a>"
      ]
    },
    {
      "cell_type": "markdown",
      "metadata": {
        "id": "oxg1yZlMrQNa"
      },
      "source": [
        "### Numpy"
      ]
    },
    {
      "cell_type": "markdown",
      "metadata": {
        "id": "b8VQcIQmrQNh"
      },
      "source": [
        "### Numpy Array and Indexing"
      ]
    },
    {
      "cell_type": "code",
      "execution_count": null,
      "metadata": {
        "id": "KAPpyNc6rQNi",
        "outputId": "afae004e-741e-4300-ae9c-73ea0e34a765"
      },
      "outputs": [
        {
          "name": "stdout",
          "output_type": "stream",
          "text": [
            "numpy path:: <module 'numpy.version' from 'c:\\\\Users\\\\dwivedik\\\\AppData\\\\Local\\\\Programs\\\\Python\\\\Python311\\\\Lib\\\\site-packages\\\\numpy\\\\version.py'>\n",
            "numpy version:: 1.25.2\n",
            "1 D Array:: [1 2 3 4 5 6]\n",
            "\n",
            "2 D Array:: [[1 2 3]\n",
            " [4 5 6]]\n",
            "\n",
            "3 D Array:: [[[1 2 3]\n",
            "  [4 5 6]]\n",
            "\n",
            " [[7 8 9]\n",
            "  [8 8 8]]]\n"
          ]
        }
      ],
      "source": [
        "import numpy as np\n",
        "\n",
        "print(\"numpy path::\",np.version)\n",
        "print(\"numpy version::\",np.__version__)\n",
        "\n",
        "arr1D=np.array([1,2,3,4,5,6])\n",
        "arr2D=np.array([[1,2,3,],[4,5,6]])\n",
        "arr3D=np.array([[[1,2,3],[4,5,6]],[[7,8,9],[8,8,8]]])\n",
        "\n",
        "print(\"1 D Array::\",arr1D)\n",
        "print(\"\\n2 D Array::\",arr2D)\n",
        "print(\"\\n3 D Array::\",arr3D)"
      ]
    },
    {
      "cell_type": "markdown",
      "metadata": {
        "id": "mzBfbvfBrQNk"
      },
      "source": [
        "### Reading values for array indexes"
      ]
    },
    {
      "cell_type": "code",
      "execution_count": null,
      "metadata": {
        "id": "dYLFD3RbrQNk",
        "outputId": "377afde7-50b7-4d0a-9eaf-2f6970fa7f4c"
      },
      "outputs": [
        {
          "name": "stdout",
          "output_type": "stream",
          "text": [
            "4th element on 1st row from arr1D:: 4\n",
            "\n",
            "2ed element on 2nd row:: 5\n",
            "\n",
            "Last element from 2nd dim arr2D:: 6\n",
            "\n",
            "Third element of the second array of the first from 3D:: 9\n"
          ]
        }
      ],
      "source": [
        "import numpy as np\n",
        "\n",
        "arr1D=np.array([1,2,3,4,5,6])\n",
        "arr2D=np.array([[1,2,3,],[4,5,6]])\n",
        "arr3D=np.array([[[1,2,3],[4,5,6]],[[7,8,9],[8,8,8]]])\n",
        "\n",
        "print('4th element on 1st row from arr1D::',arr1D[3])\n",
        "print('\\n2ed element on 2nd row::',arr2D[1,1])\n",
        "print('\\nLast element from 2nd dim arr2D::',arr2D[1,-1])\n",
        "print('\\nThird element of the second array of the first from 3D::',arr3D[1,0,2])\n"
      ]
    },
    {
      "cell_type": "markdown",
      "metadata": {
        "id": "wH-jSTY8rQNk"
      },
      "source": [
        "### Slicing"
      ]
    },
    {
      "cell_type": "code",
      "execution_count": null,
      "metadata": {
        "id": "u3R5By3arQNl",
        "outputId": "8366b134-a7af-4787-c2ea-b7baad034501"
      },
      "outputs": [
        {
          "name": "stdout",
          "output_type": "stream",
          "text": [
            "##########1D Array##########\n",
            "\n",
            "All in arr1D:: [1 2 3 4 5 6]\n",
            "All after 1st in arr1D:: [2 3 4 5 6]\n",
            "All before 4th in arr1D:: [1 2 3]\n",
            "All after 3rd index in arr1D:: [3 4 5 6]\n",
            "Every other element from array in arr1D:: [1 3 5]\n",
            "Every other element between 1 to 3:: [2 4]\n",
            "Every third element between 1 to 5:: [2]\n",
            "All in reverse order from arr1D:: [6 5 4 3 2 1]\n",
            "3rd from last to end arr1D:: [3 4 5]\n",
            "\n",
            "##########2D Array##########\n",
            "\n",
            "In 2DArr from second element, slice elements from index 1 to index 4:: [8 9 1 2]\n",
            "In 2DArr From both elements, return index 2:: [3 9]\n",
            "In 2DArr From both elements, return index 2:: [3 9]\n",
            "In 2DArr From both elements, slice index 1 to index 4. This is give 2D array:: [[2 3 4]\n",
            " [8 9 1]]\n",
            "\n",
            "##########3D Array##########\n",
            "\n",
            "In 3DArr from all elements, slice elements from index 1 to index 2:: [[[2]\n",
            "  [5]]\n",
            "\n",
            " [[8]\n",
            "  [8]]]\n"
          ]
        }
      ],
      "source": [
        "import numpy as np\n",
        "\n",
        "arr1D=np.array([1,2,3,4,5,6])\n",
        "arr2D=np.array([[1,2,3,4,5,6],[7,8,9,1,2,3]])\n",
        "arr3D=np.array([[[1,2,3],[4,5,6]],[[7,8,9],[8,8,8]]])\n",
        "\n",
        "print(\"##########1D Array##########\\n\")\n",
        "print(\"All in arr1D::\",arr1D[:])\n",
        "print(\"All after 1st in arr1D::\",arr1D[1:])\n",
        "print(\"All before 4th in arr1D::\",arr1D[:3])\n",
        "print(\"All after 3rd index in arr1D::\",arr1D[2::])\n",
        "print(\"Every other element from array in arr1D::\",arr1D[::2])\n",
        "print(\"Every other element between 1 to 3::\",arr1D[1:4:2])\n",
        "print(\"Every third element between 1 to 5::\",arr1D[1:4:3])\n",
        "print(\"All in reverse order from arr1D::\",arr1D[::-1])\n",
        "print(\"3rd from last to end arr1D::\",arr1D[-4:-1])\n",
        "\n",
        "print(\"\\n##########2D Array##########\\n\")\n",
        "print(\"In 2DArr from second element, slice elements from index 1 to index 4::\",arr2D[1,1:5])\n",
        "print(\"In 2DArr From both elements, return index 2::\",arr2D[:,2])\n",
        "print(\"In 2DArr From both elements, return index 2::\",arr2D[0:2,2])\n",
        "print(\"In 2DArr From both elements, slice index 1 to index 4. This is give 2D array::\",arr2D[0:2,1:4])\n",
        "\n",
        "\n",
        "print(\"\\n##########3D Array##########\\n\")\n",
        "print(\"In 3DArr from all elements, slice elements from index 1 to index 2::\",arr3D[:,:,1:2])"
      ]
    },
    {
      "cell_type": "markdown",
      "metadata": {
        "id": "MHhTe9jKrQNl"
      },
      "source": [
        "### Data Types in NumPy\n",
        "\n",
        "NumPy has some extra data types, and refer to data types with one character, like i for integers, u for unsigned integers etc.\n",
        "\n",
        "Below is a list of all data types in NumPy and the characters used to represent them.\n",
        "\n",
        "i - integer\n",
        "\n",
        "b - boolean\n",
        "\n",
        "u - unsigned integer\n",
        "\n",
        "f - float\n",
        "\n",
        "c - complex float\n",
        "\n",
        "m - timedelta\n",
        "\n",
        "M - datetime\n",
        "\n",
        "O - object\n",
        "\n",
        "S - string\n",
        "\n",
        "U - unicode string\n",
        "\n",
        "V - fixed chunk of memory for other type ( void )"
      ]
    },
    {
      "cell_type": "markdown",
      "metadata": {
        "id": "ohodQcnerQNm"
      },
      "source": [
        "### Checking datatype of array"
      ]
    },
    {
      "cell_type": "code",
      "execution_count": null,
      "metadata": {
        "id": "KI39JymrrQNm",
        "outputId": "c6029fc5-c209-4bc0-e6d3-e3b889877981"
      },
      "outputs": [
        {
          "name": "stdout",
          "output_type": "stream",
          "text": [
            "arr type- <U6\n",
            "arr type- int32\n"
          ]
        }
      ],
      "source": [
        "import numpy as np\n",
        "\n",
        "arr = np.array(['apple', 'banana', 'cherry'])\n",
        "\n",
        "print(\"arr type-\",arr.dtype)\n",
        "\n",
        "arr1 = np.array([1,2,3,4,5])\n",
        "print(\"arr type-\",arr1.dtype)\n"
      ]
    },
    {
      "cell_type": "markdown",
      "metadata": {
        "id": "jMcdjmOIrQNn"
      },
      "source": [
        "### Changing the datatype of array using \"dtype\""
      ]
    },
    {
      "cell_type": "code",
      "execution_count": null,
      "metadata": {
        "id": "CBsBpj70rQNn",
        "outputId": "9344b4d1-5a91-46d9-d4b5-3a4a08210098"
      },
      "outputs": [
        {
          "name": "stdout",
          "output_type": "stream",
          "text": [
            "current datatype- <U1\n",
            "current datatype- int32\n",
            "current datatype- |S1\n"
          ]
        }
      ],
      "source": [
        "import numpy as np\n",
        "\n",
        "arr = np.array(['1','2','3','4','5'])\n",
        "\n",
        "print(\"current datatype-\",arr.dtype)\n",
        "\n",
        "arr1 = np.array(['1','2','3','4','5'],dtype='i')\n",
        "print(\"current datatype-\",arr1.dtype)\n",
        "\n",
        "arr3 = np.array([1, 2, 3, 4], dtype='S')\n",
        "print(\"current datatype-\",arr3.dtype)\n",
        "\n"
      ]
    },
    {
      "cell_type": "markdown",
      "metadata": {
        "id": "tiqM3j0JrQNn"
      },
      "source": [
        "### NumPy Array Copy vs View"
      ]
    },
    {
      "cell_type": "code",
      "execution_count": null,
      "metadata": {
        "id": "ubwc8pporQNn",
        "outputId": "06d947eb-d3c1-459f-81cb-b39c0d58ec73"
      },
      "outputs": [
        {
          "name": "stdout",
          "output_type": "stream",
          "text": [
            "Original Array:: [ 1 10  3  4  5]\n",
            "copied array after chnages:: [0 2 3 4 5]\n",
            "view array after the changes original:: [ 1 10  3  4  5]\n",
            "Original Array:: [ 1 10  3  4  5]\n"
          ]
        }
      ],
      "source": [
        "import numpy as np\n",
        "\n",
        "arr = np.array([1, 2, 3, 4, 5])\n",
        "\n",
        "arr1= arr.copy()\n",
        "\n",
        "arr2= arr.view()\n",
        "\n",
        "arr1[0]=0\n",
        "arr2[1]=10\n",
        "\n",
        "print(\"Original Array::\",arr)\n",
        "print(\"copied array after chnages::\",arr1)\n",
        "print(\"view array after the changes original::\",arr2)\n",
        "print(\"Original Array after view array was chnaged::\",arr)"
      ]
    },
    {
      "cell_type": "markdown",
      "metadata": {
        "id": "mQGDyOHXrQNn"
      },
      "source": [
        "#### NumPy Array Shape-\n",
        "\n",
        "shape\n",
        "\n",
        "ndmin - to change the dimension of array"
      ]
    },
    {
      "cell_type": "code",
      "execution_count": null,
      "metadata": {
        "id": "2yajMZTxrQNn",
        "outputId": "7f876667-29ff-4644-f662-fbeb5cf1b76c"
      },
      "outputs": [
        {
          "name": "stdout",
          "output_type": "stream",
          "text": [
            "Array- [[1 2 3 4]\n",
            " [5 6 7 8]] ---shape:: (2, 4)\n",
            "\n",
            "Array arr1 - [[[[[1 2 3 4]]]]] ---shape:: (1, 1, 1, 1, 4)\n",
            "\n",
            "Array arr2- [[[[[1 2 3 4]\n",
            "    [5 6 7 8]]]]] ---shape:: (1, 1, 1, 2, 4)\n"
          ]
        }
      ],
      "source": [
        "import numpy as np\n",
        "\n",
        "arr = np.array([[1, 2, 3, 4], [5, 6, 7, 8]])\n",
        "\n",
        "print(\"Array-\",arr, \"---shape::\",arr.shape)\n",
        "\n",
        "\n",
        "arr1 = np.array([1, 2, 3, 4], ndmin=5)\n",
        "print(\"\\nArray arr1 -\",arr1, \"---shape::\",arr1.shape)\n",
        "\n",
        "arr2 = np.array([[1, 2, 3, 4], [5, 6, 7, 8]], ndmin=5)\n",
        "print(\"\\nArray arr2-\",arr2, \"---shape::\",arr2.shape)"
      ]
    },
    {
      "cell_type": "markdown",
      "metadata": {
        "id": "kPsNl8IYrQNo"
      },
      "source": [
        "#### Array Reshaping- reshape"
      ]
    },
    {
      "cell_type": "code",
      "execution_count": null,
      "metadata": {
        "id": "8DkjIAnyrQNo",
        "outputId": "841297e5-b61d-4494-bef2-87e2312c5246"
      },
      "outputs": [
        {
          "name": "stdout",
          "output_type": "stream",
          "text": [
            "\n",
            "newarr1:: [[ 1  2  3]\n",
            " [ 4  5  6]\n",
            " [ 7  8  9]\n",
            " [10 11 12]]\n",
            "\n",
            "newarr2:: [[[ 1  2]\n",
            "  [ 3  4]\n",
            "  [ 5  6]]\n",
            "\n",
            " [[ 7  8]\n",
            "  [ 9 10]\n",
            "  [11 12]]]\n",
            "\n",
            "newarr3:: [[[ 1  2  3]\n",
            "  [ 4  5  6]]\n",
            "\n",
            " [[ 7  8  9]\n",
            "  [10 11 12]]]\n",
            "\n",
            "newarr5:: [[[ 1  2]\n",
            "  [ 3  4]]\n",
            "\n",
            " [[ 5  6]\n",
            "  [ 7  8]]\n",
            "\n",
            " [[ 9 10]\n",
            "  [11 12]]]\n",
            "\n",
            "newarr3 change to original:: [ 1  2  3  4  5  6  7  8  9 10 11 12]\n",
            "\n",
            " arr3D change to 1D:: [ 1  2  3  4  5  6  7  8  9 10 11 12]\n"
          ]
        }
      ],
      "source": [
        "import numpy as np\n",
        "\n",
        "arr = np.array([1, 2, 3, 4, 5, 6, 7, 8, 9, 10, 11, 12])\n",
        "\n",
        "newarr1 = arr.reshape(4, 3)\n",
        "print(\"\\nnewarr1::\",newarr1)\n",
        "\n",
        "newarr2=arr.reshape(2,3,2)\n",
        "print('\\nnewarr2::',newarr2)\n",
        "\n",
        "newarr3=arr.reshape(2,2,3)\n",
        "print('\\nnewarr3::',newarr3)\n",
        "\n",
        "newarr4=arr.reshape(3,2,-1) #-1 will automatically calculate the number for us\n",
        "print('\\nnewarr4::',newarr4)\n",
        "\n",
        "newarr5=arr.reshape(3,-1,2) #-1 will automatically calculate the number for us\n",
        "print('\\nnewarr5::',newarr5)\n",
        "\n",
        "print('\\nnewarr3 change to original::',newarr3.base)\n",
        "\n",
        "arr3D=np.array([[[1,2],[3,4],[5,6]],[[7,8],[ 9,10],[11,12]]])\n",
        "print('\\n arr3D change to 1D::',arr3D.reshape(-1))\n",
        "\n",
        "\n",
        "\n",
        "\n"
      ]
    },
    {
      "cell_type": "markdown",
      "metadata": {
        "id": "jXpIi-Z-rQNo"
      },
      "source": [
        "#### Array Iterations"
      ]
    },
    {
      "cell_type": "code",
      "execution_count": null,
      "metadata": {
        "id": "n2148PwNrQNo",
        "outputId": "eaebdf50-da90-482b-c6dd-069e9584beb6"
      },
      "outputs": [
        {
          "name": "stdout",
          "output_type": "stream",
          "text": [
            "\n",
            "ele:: [[1 2 3]\n",
            " [4 5 6]]\n",
            "\n",
            "ele:: [[ 7  8  9]\n",
            " [10 11 12]]\n",
            "\n",
            "###############\n",
            "i= [1 2 3]\n",
            "i= [4 5 6]\n",
            "i= [7 8 9]\n",
            "i= [10 11 12]\n",
            "\n",
            "###############\n",
            "j= 1\n",
            "j= 2\n",
            "j= 3\n",
            "j= 4\n",
            "j= 5\n",
            "j= 6\n",
            "j= 7\n",
            "j= 8\n",
            "j= 9\n",
            "j= 10\n",
            "j= 11\n",
            "j= 12\n"
          ]
        }
      ],
      "source": [
        "import numpy as np\n",
        "\n",
        "arr = np.array([[[1, 2, 3], [4, 5, 6]], [[7, 8, 9], [10, 11, 12]]])\n",
        "\n",
        "for ele in arr:\n",
        "  print(\"\\nele::\",ele)\n",
        "\n",
        "print(\"\\n###############\")\n",
        "for ele in arr:\n",
        "  for i in ele:\n",
        "    print(\"i=\",i)\n",
        "\n",
        "\n",
        "print(\"\\n###############\")\n",
        "for ele in arr:\n",
        "  for i in ele:\n",
        "    for j in i:\n",
        "      print(\"j=\",j)\n"
      ]
    },
    {
      "cell_type": "markdown",
      "metadata": {
        "id": "3Xu_nQX2rQNo"
      },
      "source": [
        "#### Array iteration with \"nditer\" - to read each element as 1D"
      ]
    },
    {
      "cell_type": "code",
      "execution_count": null,
      "metadata": {
        "id": "wRRsemcPrQNp",
        "outputId": "9c1aeb0b-3dd6-406f-b2a0-e889eae0873d"
      },
      "outputs": [
        {
          "name": "stdout",
          "output_type": "stream",
          "text": [
            "1\n",
            "2\n",
            "3\n",
            "4\n",
            "5\n",
            "6\n",
            "7\n",
            "8\n",
            "9\n",
            "10\n",
            "11\n",
            "12\n",
            "\n",
            "###############\n",
            "1\n",
            "3\n",
            "5\n",
            "7\n",
            "\n",
            "###############\n",
            "(0,) 1\n",
            "(1,) 2\n",
            "(2,) 3\n",
            "\n",
            "###############\n",
            "(0, 0) 1\n",
            "(0, 1) 2\n",
            "(0, 2) 3\n",
            "(0, 3) 4\n",
            "(1, 0) 5\n",
            "(1, 1) 6\n",
            "(1, 2) 7\n",
            "(1, 3) 8\n"
          ]
        }
      ],
      "source": [
        "import numpy as np\n",
        "\n",
        "arr = np.array([[[1, 2, 3], [4, 5, 6]], [[7, 8, 9], [10, 11, 12]]])\n",
        "\n",
        "for ele in np.nditer(arr):\n",
        "    print(ele)\n",
        "\n",
        "\n",
        "arr = np.array([[1, 2, 3, 4], [5, 6, 7, 8]])\n",
        "\n",
        "print(\"\\n###############\")\n",
        "for x in np.nditer(arr[:, ::2]):\n",
        "  print(x)\n",
        "\n",
        "\n",
        "print(\"\\n###############\")\n",
        "arr = np.array([1, 2, 3])\n",
        "\n",
        "for idx, x in np.ndenumerate(arr):\n",
        "  print(idx, x)\n",
        "\n",
        "print(\"\\n###############\")\n",
        "arr = np.array([[1, 2, 3, 4], [5, 6, 7, 8]])\n",
        "\n",
        "for idx, x in np.ndenumerate(arr):\n",
        "  print(idx, x)"
      ]
    },
    {
      "cell_type": "markdown",
      "metadata": {
        "id": "68dyCEdrrQNp"
      },
      "source": [
        "#### Join, Split-\n",
        "concatenate\n",
        "\n",
        "stack- If axis is not explicitly passed it is taken as 0.\n",
        "\n",
        "hstack\n",
        "\n",
        "vstack\n",
        "\n",
        "dstack"
      ]
    },
    {
      "cell_type": "code",
      "execution_count": null,
      "metadata": {
        "id": "vktsNYXJrQNp",
        "outputId": "18e131ef-bcb6-4663-adb4-e07e3acc3902"
      },
      "outputs": [
        {
          "name": "stdout",
          "output_type": "stream",
          "text": [
            "\n",
            "concatenate with axis=0 joins horizontally:: [1 2 3 4 5 6]\n",
            "\n",
            "concatenate with axis=1 joins vertically:: [[1 2 5 6]\n",
            " [3 4 7 8]]\n",
            "\n",
            " stack with axis=1-> [[[1 2]\n",
            "  [5 6]]\n",
            "\n",
            " [[3 4]\n",
            "  [7 8]]]\n",
            "################Join without axis################\n",
            "\n",
            " vstack arr5:: [[1 2 3]\n",
            " [4 5 6]]\n",
            "\n",
            " hstack arr5:: [1 2 3 4 5 6]\n",
            "\n",
            " dstack arr5-to stack along height, which is the same as depth:: [[[1 4]\n",
            "  [2 5]\n",
            "  [3 6]]]\n"
          ]
        }
      ],
      "source": [
        "import numpy as np\n",
        "\n",
        "arr11 = np.array([1, 2, 3])\n",
        "\n",
        "arr22 = np.array([4, 5, 6])\n",
        "\n",
        "arr3=np.concatenate((arr11,arr22),axis=0)\n",
        "\n",
        "print(\"\\nconcatenate with axis=0 joins horizontally::\",arr3)\n",
        "\n",
        "\n",
        "arr1 = np.array([[1, 2], [3, 4]])\n",
        "arr2 = np.array([[5, 6], [7, 8]])\n",
        "arr3=np.concatenate((arr1,arr2),axis=1)\n",
        "\n",
        "print(\"\\nconcatenate with axis=1 joins vertically::\",arr3)\n",
        "\n",
        "arr4=np.stack((arr1,arr2),axis=1)\n",
        "print(\"\\n stack with axis=1->\",arr4)\n",
        "\n",
        "print(\"################Join without axis################\")\n",
        "\n",
        "arr5=np.vstack((arr11,arr22))\n",
        "arr6=np.hstack((arr11,arr22))\n",
        "arr7=np.dstack((arr11,arr22))\n",
        "\n",
        "print(\"\\n vstack arr5::\",arr5)\n",
        "print(\"\\n hstack arr5::\",arr6)\n",
        "print(\"\\n dstack arr5-to stack along height, which is the same as depth::\",arr7)"
      ]
    },
    {
      "cell_type": "markdown",
      "metadata": {
        "id": "-cRCMccwrQNp"
      },
      "source": [
        "#### Split"
      ]
    },
    {
      "cell_type": "code",
      "execution_count": null,
      "metadata": {
        "id": "P3a0HMp9rQNp",
        "outputId": "889698e8-e430-4e87-dbda-b18e9ea74807"
      },
      "outputs": [
        {
          "name": "stdout",
          "output_type": "stream",
          "text": [
            "[array([1, 2]), array([3, 4]), array([5, 6])]\n",
            "[array([1, 2]), array([3, 4]), array([5]), array([6])]\n",
            "[array([[1, 2],\n",
            "       [3, 4]]), array([[5, 6]]), array([[7, 8]]), array([[ 9, 10]]), array([[11, 12]])]\n",
            "[array([[1, 2],\n",
            "       [3, 4]]), array([[5, 6],\n",
            "       [7, 8]]), array([[ 9, 10],\n",
            "       [11, 12]])]\n"
          ]
        }
      ],
      "source": [
        "import numpy as np\n",
        "\n",
        "arr = np.array([1, 2, 3, 4, 5, 6])\n",
        "\n",
        "arr1=np.array_split(arr,3)\n",
        "print(arr1)\n",
        "\n",
        "arr2 = np.array_split(arr, 4)\n",
        "print(arr2)\n",
        "\n",
        "arr = np.array([[1, 2], [3, 4], [5, 6], [7, 8], [9, 10], [11, 12]])\n",
        "arr3=np.array_split(arr,5)\n",
        "print(arr3)\n",
        "\n",
        "arr4 = np.vsplit(arr, 3)\n",
        "print(arr4)"
      ]
    },
    {
      "cell_type": "markdown",
      "metadata": {
        "id": "HGuzS6-crQNp"
      },
      "source": [
        "#### Search, sort and filter"
      ]
    },
    {
      "cell_type": "code",
      "execution_count": null,
      "metadata": {
        "id": "erZE_pd8rQNq",
        "outputId": "36b54835-d39a-4c35-ecdb-2dc0d1537051"
      },
      "outputs": [
        {
          "name": "stdout",
          "output_type": "stream",
          "text": [
            "(array([3, 5, 6], dtype=int64),)\n",
            "(array([1, 3, 5, 6], dtype=int64),)\n",
            "7\n",
            "3\n",
            "7\n"
          ]
        }
      ],
      "source": [
        "import numpy as np\n",
        "\n",
        "arr = np.array([1, 2, 3, 4, 5, 4, 4])\n",
        "###Tells the index\n",
        "x=np.where(arr==4)\n",
        "print(x)\n",
        "\n",
        "y=np.where(arr%2==0)\n",
        "print(y)\n",
        "\n",
        "z=np.searchsorted(arr,5)\n",
        "print(z)\n",
        "\n",
        "a=np.searchsorted(arr,4,side='left')\n",
        "print(a)\n",
        "\n",
        "b=np.searchsorted(arr,4,side='right')\n",
        "print(b)"
      ]
    },
    {
      "cell_type": "code",
      "execution_count": null,
      "metadata": {
        "id": "QC7KGmdurQNq",
        "outputId": "7599a239-36b2-4ea4-aa6e-53b44efcf9be"
      },
      "outputs": [
        {
          "name": "stdout",
          "output_type": "stream",
          "text": [
            "[[2 3 4]\n",
            " [0 1 5]]\n"
          ]
        }
      ],
      "source": [
        "import numpy as np\n",
        "\n",
        "arr = np.array([[3, 2, 4], [5, 0, 1]])\n",
        "\n",
        "print(np.sort(arr))"
      ]
    },
    {
      "cell_type": "code",
      "execution_count": null,
      "metadata": {
        "id": "sU7f28GQrQNq",
        "outputId": "d7e29d89-6771-41f9-a700-576674216fbf"
      },
      "outputs": [
        {
          "name": "stdout",
          "output_type": "stream",
          "text": [
            "[41 43]\n"
          ]
        }
      ],
      "source": [
        "import numpy as np\n",
        "\n",
        "arr = np.array([41, 42, 43, 44])\n",
        "\n",
        "x = [True, False, True, False]\n",
        "\n",
        "newarr = arr[x]\n",
        "\n",
        "print(newarr)"
      ]
    },
    {
      "cell_type": "code",
      "execution_count": null,
      "metadata": {
        "id": "ntqgAJEmrQNq",
        "outputId": "9a5b79f3-2bc6-4f00-cdea-26a535ec2f60"
      },
      "outputs": [
        {
          "data": {
            "text/plain": [
              "array([[35, 74],\n",
              "       [37, 37],\n",
              "       [39, 93]])"
            ]
          },
          "execution_count": 5,
          "metadata": {},
          "output_type": "execute_result"
        }
      ],
      "source": [
        "import numpy as np\n",
        "\n",
        "demo_matrix = np.array(([13,35,74,48], [23,37,37,38],[73,39,93,39]))\n",
        "demo_matrix[0:3, 1:3]"
      ]
    },
    {
      "cell_type": "code",
      "execution_count": null,
      "metadata": {
        "id": "bp-r0Pz9rQNq",
        "outputId": "45d6093b-c7c8-4eff-e077-33d8381b927c"
      },
      "outputs": [
        {
          "data": {
            "text/plain": [
              "array([ 5,  5,  5,  5,  5,  5,  5,  8,  9, 10])"
            ]
          },
          "execution_count": 3,
          "metadata": {},
          "output_type": "execute_result"
        }
      ],
      "source": [
        "demo_matrix=np.array([1,2,3,4,5,6,7,8,9,10])\n",
        "demo_matrix[0:7]=5\n",
        "demo_matrix"
      ]
    },
    {
      "cell_type": "code",
      "execution_count": null,
      "metadata": {
        "id": "GPvFt1AorQNq",
        "outputId": "f368f866-94c4-4d37-edd3-0bb01d3f11e1"
      },
      "outputs": [
        {
          "name": "stdout",
          "output_type": "stream",
          "text": [
            "[0 1 2 3 4 5 6 7 8 9]\n"
          ]
        },
        {
          "data": {
            "text/plain": [
              "array([ True,  True,  True, False, False, False, False, False, False,\n",
              "       False])"
            ]
          },
          "execution_count": 11,
          "metadata": {},
          "output_type": "execute_result"
        }
      ],
      "source": [
        "import numpy as np\n",
        "demo_array = np.arange(0,10)  #Arrange data from start to end.\n",
        "print(demo_array)\n",
        "demo_array<3\n"
      ]
    },
    {
      "cell_type": "code",
      "execution_count": null,
      "metadata": {
        "id": "Z_ndzAtZrQNq",
        "outputId": "0815301a-c94e-4924-9fef-6942e4d33b19"
      },
      "outputs": [
        {
          "name": "stdout",
          "output_type": "stream",
          "text": [
            "[ 0  5 10 15 20 25]\n"
          ]
        }
      ],
      "source": [
        "import numpy as np\n",
        "\n",
        "#help(np.arange)\n",
        "arr1=arr=np.arange(start=0,stop=30,step=5)\n",
        "print(arr1)"
      ]
    },
    {
      "cell_type": "markdown",
      "metadata": {
        "id": "e8tzZ0kTrQNr"
      },
      "source": [
        "#### np.linspace()-> returns numbers which are evenly distributes\n",
        "start: default=0\n",
        "\n",
        "stop: end of interval\n",
        "\n",
        "num: no of samples to generate, default =50"
      ]
    },
    {
      "cell_type": "code",
      "execution_count": null,
      "metadata": {
        "id": "HAFqBcrBrQNr",
        "outputId": "f0aa879e-fe35-4e95-d78e-a04bd6a8a9c8"
      },
      "outputs": [
        {
          "name": "stdout",
          "output_type": "stream",
          "text": [
            "[0.         0.10204082 0.20408163 0.30612245 0.40816327 0.51020408\n",
            " 0.6122449  0.71428571 0.81632653 0.91836735 1.02040816 1.12244898\n",
            " 1.2244898  1.32653061 1.42857143 1.53061224 1.63265306 1.73469388\n",
            " 1.83673469 1.93877551 2.04081633 2.14285714 2.24489796 2.34693878\n",
            " 2.44897959 2.55102041 2.65306122 2.75510204 2.85714286 2.95918367\n",
            " 3.06122449 3.16326531 3.26530612 3.36734694 3.46938776 3.57142857\n",
            " 3.67346939 3.7755102  3.87755102 3.97959184 4.08163265 4.18367347\n",
            " 4.28571429 4.3877551  4.48979592 4.59183673 4.69387755 4.79591837\n",
            " 4.89795918 5.        ]\n",
            "[ 0.          0.50505051  1.01010101  1.51515152  2.02020202  2.52525253\n",
            "  3.03030303  3.53535354  4.04040404  4.54545455  5.05050505  5.55555556\n",
            "  6.06060606  6.56565657  7.07070707  7.57575758  8.08080808  8.58585859\n",
            "  9.09090909  9.5959596  10.1010101  10.60606061 11.11111111 11.61616162\n",
            " 12.12121212 12.62626263 13.13131313 13.63636364 14.14141414 14.64646465\n",
            " 15.15151515 15.65656566 16.16161616 16.66666667 17.17171717 17.67676768\n",
            " 18.18181818 18.68686869 19.19191919 19.6969697  20.2020202  20.70707071\n",
            " 21.21212121 21.71717172 22.22222222 22.72727273 23.23232323 23.73737374\n",
            " 24.24242424 24.74747475 25.25252525 25.75757576 26.26262626 26.76767677\n",
            " 27.27272727 27.77777778 28.28282828 28.78787879 29.29292929 29.7979798\n",
            " 30.3030303  30.80808081 31.31313131 31.81818182 32.32323232 32.82828283\n",
            " 33.33333333 33.83838384 34.34343434 34.84848485 35.35353535 35.85858586\n",
            " 36.36363636 36.86868687 37.37373737 37.87878788 38.38383838 38.88888889\n",
            " 39.39393939 39.8989899  40.4040404  40.90909091 41.41414141 41.91919192\n",
            " 42.42424242 42.92929293 43.43434343 43.93939394 44.44444444 44.94949495\n",
            " 45.45454545 45.95959596 46.46464646 46.96969697 47.47474747 47.97979798\n",
            " 48.48484848 48.98989899 49.49494949 50.        ]\n"
          ]
        }
      ],
      "source": [
        "print(np.linspace(0,5))\n",
        "print(np.linspace(0,50,100))\n",
        "\n",
        "#end-start/49\n",
        "#(5-0)/49 for 50 samples"
      ]
    },
    {
      "cell_type": "code",
      "execution_count": null,
      "metadata": {
        "id": "k3Y6p8_XrQNr",
        "outputId": "1fb65f7a-94d1-414a-b331-1daa07ee8e69"
      },
      "outputs": [
        {
          "data": {
            "text/plain": [
              "array([10.        , 11.11111111, 12.22222222, 13.33333333, 14.44444444,\n",
              "       15.55555556, 16.66666667, 17.77777778, 18.88888889, 20.        ])"
            ]
          },
          "execution_count": 15,
          "metadata": {},
          "output_type": "execute_result"
        }
      ],
      "source": [
        "np.linspace(10,20,10)"
      ]
    },
    {
      "cell_type": "markdown",
      "metadata": {
        "id": "p3JJ2_LurQNr"
      },
      "source": [
        "np.zeros()-> returns a matrix filled with zeros"
      ]
    },
    {
      "cell_type": "code",
      "execution_count": null,
      "metadata": {
        "id": "rhn7PrtbrQNr",
        "outputId": "28fc5954-3259-439f-9e3b-76e4cf0108b9"
      },
      "outputs": [
        {
          "data": {
            "text/plain": [
              "array([[0., 0., 0.],\n",
              "       [0., 0., 0.]])"
            ]
          },
          "execution_count": 19,
          "metadata": {},
          "output_type": "execute_result"
        }
      ],
      "source": [
        "np.zeros([2,3])"
      ]
    },
    {
      "cell_type": "code",
      "execution_count": null,
      "metadata": {
        "id": "f16cYiZSrQN2",
        "outputId": "ccf42c1f-0a3b-4fd8-9993-849f44ed6e42"
      },
      "outputs": [
        {
          "data": {
            "text/plain": [
              "array([[[1., 1., 1., 1., 1.],\n",
              "        [1., 1., 1., 1., 1.],\n",
              "        [1., 1., 1., 1., 1.],\n",
              "        [1., 1., 1., 1., 1.]],\n",
              "\n",
              "       [[1., 1., 1., 1., 1.],\n",
              "        [1., 1., 1., 1., 1.],\n",
              "        [1., 1., 1., 1., 1.],\n",
              "        [1., 1., 1., 1., 1.]],\n",
              "\n",
              "       [[1., 1., 1., 1., 1.],\n",
              "        [1., 1., 1., 1., 1.],\n",
              "        [1., 1., 1., 1., 1.],\n",
              "        [1., 1., 1., 1., 1.]]])"
            ]
          },
          "execution_count": 20,
          "metadata": {},
          "output_type": "execute_result"
        }
      ],
      "source": [
        "np.ones([3,4,5])"
      ]
    },
    {
      "cell_type": "markdown",
      "metadata": {
        "id": "-Pv5sDkgrQN3"
      },
      "source": [
        "np.eye()-> Creates identitiy matrix->matrix with diagonal one and zeros at other places"
      ]
    },
    {
      "cell_type": "code",
      "execution_count": null,
      "metadata": {
        "id": "ZfLR_pnXrQN3",
        "outputId": "ed8a5e62-1b3c-48e9-9146-503e158974b6"
      },
      "outputs": [
        {
          "name": "stdout",
          "output_type": "stream",
          "text": [
            "[[1. 0. 0. 0. 0.]\n",
            " [0. 1. 0. 0. 0.]\n",
            " [0. 0. 1. 0. 0.]\n",
            " [0. 0. 0. 1. 0.]\n",
            " [0. 0. 0. 0. 1.]]\n",
            "\n",
            " ##################\n",
            "[[0. 0. 0.]\n",
            " [0. 0. 0.]]\n",
            "\n",
            " ##################\n",
            "[[1. 0. 0.]\n",
            " [0. 1. 0.]\n",
            " [0. 0. 1.]]\n"
          ]
        }
      ],
      "source": [
        "print(np.eye(5,5))\n",
        "\n",
        "print(\"\\n ##################\")\n",
        "\n",
        "x=np.zeros([2,3])\n",
        "print(x)\n",
        "\n",
        "print(\"\\n ##################\")\n",
        "y=np.eye(3)\n",
        "print(y)\n"
      ]
    },
    {
      "cell_type": "code",
      "execution_count": null,
      "metadata": {
        "id": "3TN2_L_1rQN3",
        "outputId": "0e0f53d1-68b2-4aba-c67b-c6bce9bcc86b"
      },
      "outputs": [
        {
          "data": {
            "text/plain": [
              "array([[ 0,  1,  2],\n",
              "       [ 3,  4,  5],\n",
              "       [ 6,  7,  8],\n",
              "       [ 9, 10, 11]])"
            ]
          },
          "execution_count": 39,
          "metadata": {},
          "output_type": "execute_result"
        }
      ],
      "source": [
        "v1=np.arange(0,12)\n",
        "v2=v1.reshape(4,3)\n",
        "v2"
      ]
    },
    {
      "cell_type": "markdown",
      "metadata": {
        "id": "ElF9AbFVrQN3"
      },
      "source": [
        "##### Arithmetic operations on arrays"
      ]
    },
    {
      "cell_type": "code",
      "execution_count": null,
      "metadata": {
        "id": "MLnln7HkrQN3",
        "outputId": "2dd0e190-ad8d-42ff-cf00-a14c1d1081a4"
      },
      "outputs": [
        {
          "name": "stdout",
          "output_type": "stream",
          "text": [
            "Sum of arrays= [ 2  4  6  8 10]\n"
          ]
        }
      ],
      "source": [
        "a1=np.array([1,2,3,4,5])\n",
        "a2=np.array([1,2,3,4,5])\n",
        "print(\"Sum of arrays=\",a1+a2)"
      ]
    },
    {
      "cell_type": "code",
      "execution_count": null,
      "metadata": {
        "id": "2zBBxrY_rQN3",
        "outputId": "289cbd10-f12e-4432-c947-8dc556f87e6a"
      },
      "outputs": [
        {
          "name": "stdout",
          "output_type": "stream",
          "text": [
            "[[1 2]\n",
            " [3 4]]\n",
            "[[1. 0.]\n",
            " [0. 1.]]\n",
            "\n",
            "Div:: [[ 1. inf]\n",
            " [inf  4.]]\n"
          ]
        },
        {
          "name": "stderr",
          "output_type": "stream",
          "text": [
            "C:\\Users\\dwivedik\\AppData\\Local\\Temp\\ipykernel_8100\\965104536.py:6: RuntimeWarning: divide by zero encountered in divide\n",
            "  print(\"\\nDiv::\",m1/m2)\n"
          ]
        }
      ],
      "source": [
        "m1=np.arange(1,5).reshape(2,2)\n",
        "m2=np.eye(2)\n",
        "print(m1)\n",
        "print(m2)\n",
        "\n",
        "print(\"\\nDiv::\",m1/m2)"
      ]
    },
    {
      "cell_type": "code",
      "execution_count": null,
      "metadata": {
        "id": "099xytBErQN3",
        "outputId": "beeb63f4-6370-439b-e0a5-49a270caa7a5"
      },
      "outputs": [
        {
          "name": "stdout",
          "output_type": "stream",
          "text": [
            "-9\n",
            "-1\n"
          ]
        }
      ],
      "source": [
        "m1=np.arange(-9,0,1).reshape(3,3)\n",
        "print(np.min(m1))\n",
        "print(np.max(m1))"
      ]
    },
    {
      "cell_type": "code",
      "execution_count": null,
      "metadata": {
        "id": "zZTMbW9orQN4",
        "outputId": "5b026433-36be-49c2-e67e-bc9bc85908ee"
      },
      "outputs": [
        {
          "name": "stdout",
          "output_type": "stream",
          "text": [
            "21\n"
          ]
        },
        {
          "data": {
            "text/plain": [
              "array([ 0,  6, 12, 18])"
            ]
          },
          "execution_count": 27,
          "metadata": {},
          "output_type": "execute_result"
        }
      ],
      "source": [
        "import numpy as np\n",
        "\n",
        "mat = np.matrix([[ 1, 4, 9, 121, 144, 169],\n",
        "                [ 16, 25, 36, 196, 225, 256],\n",
        "                [ 49, 64, 81, 289, 324, 361]])\n",
        "\n",
        "mat.mean()\n",
        "\n",
        "np.cos([0, 1, 2, 3, 4])\n",
        "\n",
        "mat = np.array([[1, 2, 1], [4, 5, 9],[1, 8, 9]])\n",
        "mat[1]=5\n",
        "mat\n",
        "\n",
        "array_1 = np.array([1, 2, 3, 5, 8])\n",
        "array_2 = np.array([0, 3, 4, 2, 1])\n",
        "new_array = array_1+ array_2\n",
        "final_array = new_array*array_1\n",
        "print(final_array[2])\n",
        "\n",
        "np.ones([2,2])\n",
        "\n",
        "n1 = np.matrix([[121, 144, 169], [196, 225, 256], [ 289, 324, 361]])\n",
        "n2 = np.matrix([[ 1, 4, 9], [ 1, 5, 4], [ 9, 4, 8]])\n",
        "\n",
        "#Dot product\n",
        "n1@n2\n",
        "\n",
        "array_1 = np.linspace(0,20,6)\n",
        "array_1\n",
        "\n",
        "array_2 = np.arange(0,20,6)\n",
        "array_2\n",
        "\n"
      ]
    }
  ],
  "metadata": {
    "kernelspec": {
      "display_name": "Python 3",
      "language": "python",
      "name": "python3"
    },
    "language_info": {
      "codemirror_mode": {
        "name": "ipython",
        "version": 3
      },
      "file_extension": ".py",
      "mimetype": "text/x-python",
      "name": "python",
      "nbconvert_exporter": "python",
      "pygments_lexer": "ipython3",
      "version": "3.11.4"
    },
    "orig_nbformat": 4,
    "colab": {
      "provenance": [],
      "include_colab_link": true
    }
  },
  "nbformat": 4,
  "nbformat_minor": 0
}