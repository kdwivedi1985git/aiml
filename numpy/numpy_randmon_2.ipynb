{
  "cells": [
    {
      "cell_type": "markdown",
      "metadata": {
        "id": "view-in-github",
        "colab_type": "text"
      },
      "source": [
        "<a href=\"https://colab.research.google.com/github/kdwivedi1985git/datascience/blob/main/numpy/numpy_randmon_2.ipynb\" target=\"_parent\"><img src=\"https://colab.research.google.com/assets/colab-badge.svg\" alt=\"Open In Colab\"/></a>"
      ]
    },
    {
      "cell_type": "markdown",
      "metadata": {
        "id": "ukayR-7pyyIn"
      },
      "source": [
        "## Random Distribution"
      ]
    },
    {
      "cell_type": "markdown",
      "metadata": {
        "id": "wfw5wufxyyIo"
      },
      "source": [
        "#### random.rand()-\n",
        "returns the distribution over [0,1]"
      ]
    },
    {
      "cell_type": "code",
      "execution_count": null,
      "metadata": {
        "id": "XF7s-WTByyIo",
        "outputId": "9900e5d3-6d7c-4bff-d497-64edef365603"
      },
      "outputs": [
        {
          "name": "stdout",
          "output_type": "stream",
          "text": [
            "\n",
            " rand:: 0.6074168669244311\n",
            "\n",
            " randint:: 2\n",
            "\n",
            " 5 random numbers from 100:: [38 83 93 12 85]\n",
            "\n",
            " 5*5 matrix random numbers from 100:: [[57  1 99 94 14]\n",
            " [69 19  3 56 70]\n",
            " [61 67 26 47 72]\n",
            " [ 4 96 67  9 47]\n",
            " [88 73 58 21  9]]\n",
            "\n",
            " 2  random numbers in decimal:: [0.92391999 0.90624448]\n",
            "\n",
            " 2*2 matix random numbers in decimal:: [[0.94963298 0.35738432]\n",
            " [0.40290062 0.23627743]]\n"
          ]
        }
      ],
      "source": [
        "from numpy import random\n",
        "\n",
        "print(\"\\n rand::\",random.rand())\n",
        "print(\"\\n randint::\",random.randint(10))\n",
        "\n",
        "print(\"\\n 5 random numbers from 100::\",random.randint(100,size=(5)))\n",
        "print(\"\\n 5*5 matrix random numbers from 100::\",random.randint(100,size=(5,5)))\n",
        "\n",
        "print(\"\\n 2  random numbers in decimal::\",random.rand(2))\n",
        "print(\"\\n 2*2 matix random numbers in decimal::\",random.rand(2,2))\n"
      ]
    },
    {
      "cell_type": "code",
      "execution_count": null,
      "metadata": {
        "id": "csT9P2HayyIp",
        "outputId": "305b4b15-36b6-4d02-fe22-c4461994eb22"
      },
      "outputs": [
        {
          "data": {
            "text/plain": [
              "array([[2, 7, 7],\n",
              "       [6, 4, 5]])"
            ]
          },
          "execution_count": 19,
          "metadata": {},
          "output_type": "execute_result"
        }
      ],
      "source": [
        "random.randint(2,8,[2,3])"
      ]
    },
    {
      "cell_type": "markdown",
      "metadata": {
        "id": "C3IdMM-pyyIp"
      },
      "source": [
        "#### random.randn()-\n",
        "returns the array whose samples are drawn randomnly from standard normal distribution(Mean as 0 and Standard deviation as 0)"
      ]
    },
    {
      "cell_type": "code",
      "execution_count": null,
      "metadata": {
        "id": "BMGd_em5yyIp",
        "outputId": "7bbdba4b-bff0-4a72-c4a0-c9963f373e65"
      },
      "outputs": [
        {
          "data": {
            "text/plain": [
              "array([-0.97562448,  1.58378048, -0.93927935,  1.09196609,  0.83747904])"
            ]
          },
          "execution_count": 20,
          "metadata": {},
          "output_type": "execute_result"
        }
      ],
      "source": [
        "import numpy as np\n",
        "\n",
        "from numpy import random\n",
        "\n",
        "random.randn(5)"
      ]
    },
    {
      "cell_type": "code",
      "execution_count": null,
      "metadata": {
        "id": "p4olQyVIyyIq"
      },
      "outputs": [],
      "source": [
        "m=random.randn(5,5)"
      ]
    },
    {
      "cell_type": "code",
      "execution_count": null,
      "metadata": {
        "id": "W4pNqsWMyyIq",
        "outputId": "fa95715a-a81c-47de-fe39-d0903584e3e3"
      },
      "outputs": [
        {
          "name": "stdout",
          "output_type": "stream",
          "text": [
            "Mean:: 0.18905731160319597\n",
            "Standard Deviation:: 1.001554402825923\n"
          ]
        }
      ],
      "source": [
        "\n",
        "print(\"Mean::\",np.mean(m))\n",
        "print(\"Standard Deviation::\",np.std(m))\n"
      ]
    },
    {
      "cell_type": "code",
      "execution_count": null,
      "metadata": {
        "id": "IGgYgQelyyIq",
        "outputId": "ef8941ac-1fe8-4257-817e-9fb4adbc901a"
      },
      "outputs": [
        {
          "name": "stdout",
          "output_type": "stream",
          "text": [
            "\n",
            "arr:: [-1.39453207 -0.24795807  0.49678617  0.23612119  0.12977309  0.22895573\n",
            " -0.72446609 -0.02488202 -0.18387934 -1.38112543]\n",
            "\n",
            "arr2:: [3 6 9]\n",
            "\n",
            "filter arr2 indexes in arr1:: [ 0.23612119 -0.72446609 -1.38112543]\n"
          ]
        }
      ],
      "source": [
        "randarr=np.random.randn(10)\n",
        "print(\"\\narr::\",randarr)\n",
        "print(\"\\narr2::\",np.arange(3,10,3))\n",
        "print(\"\\nfilter arr2 indexes in arr1::\",randarr[np.arange(3,10,3)])"
      ]
    },
    {
      "cell_type": "code",
      "execution_count": null,
      "metadata": {
        "id": "0FxN_2H_yyIq",
        "outputId": "9ce06e51-0be6-40e1-b20f-2e53c5019e3b"
      },
      "outputs": [
        {
          "data": {
            "text/plain": [
              "array([False, False,  True,  True,  True,  True, False, False, False,\n",
              "       False])"
            ]
          },
          "execution_count": 24,
          "metadata": {},
          "output_type": "execute_result"
        }
      ],
      "source": [
        "randarr>0"
      ]
    },
    {
      "cell_type": "code",
      "execution_count": null,
      "metadata": {
        "id": "8M2Q6moIyyIq",
        "outputId": "d0119ea4-39fb-4dee-c4f2-c14aaffa8146"
      },
      "outputs": [
        {
          "data": {
            "text/plain": [
              "array([0.49678617, 0.23612119, 0.12977309, 0.22895573])"
            ]
          },
          "execution_count": 25,
          "metadata": {},
          "output_type": "execute_result"
        }
      ],
      "source": [
        "#search gt 0 from arr\n",
        "randarr[randarr>0]"
      ]
    },
    {
      "cell_type": "code",
      "execution_count": null,
      "metadata": {
        "id": "93kSXxVqyyIq",
        "outputId": "bc5e37b7-a675-4fed-c579-2ca26d374df2"
      },
      "outputs": [
        {
          "data": {
            "text/plain": [
              "array([ 2.        ,  3.        ,  0.49678617,  0.23612119,  0.12977309,\n",
              "        0.22895573, -0.72446609, -0.02488202, -0.18387934, -1.38112543])"
            ]
          },
          "execution_count": 30,
          "metadata": {},
          "output_type": "execute_result"
        }
      ],
      "source": [
        "randarr[0:2]=[2,3]\n",
        "randarr"
      ]
    },
    {
      "cell_type": "code",
      "execution_count": null,
      "metadata": {
        "id": "3HEQHPGTyyIq",
        "outputId": "3c2fb7a3-5908-48f5-80b5-c3c49b2b9a58"
      },
      "outputs": [
        {
          "data": {
            "text/plain": [
              "array([ 2.        ,  3.        ,  0.49678617,  0.23612119,  0.12977309,\n",
              "        0.22895573, 99.        , 99.        , 99.        , 99.        ])"
            ]
          },
          "execution_count": 31,
          "metadata": {},
          "output_type": "execute_result"
        }
      ],
      "source": [
        "#change values less than 0 to 99\n",
        "randarr[randarr<0]=99\n",
        "randarr"
      ]
    },
    {
      "cell_type": "code",
      "execution_count": null,
      "metadata": {
        "id": "mLeIylhbyyIr",
        "outputId": "3ffca45e-a023-4fb7-b23b-05388e555c84"
      },
      "outputs": [
        {
          "data": {
            "text/plain": [
              "array([[6, 5, 9, 9, 0],\n",
              "       [5, 2, 9, 8, 0],\n",
              "       [6, 6, 9, 0, 9],\n",
              "       [1, 0, 6, 4, 2],\n",
              "       [1, 7, 4, 8, 3]])"
            ]
          },
          "execution_count": 45,
          "metadata": {},
          "output_type": "execute_result"
        }
      ],
      "source": [
        "mat=random.randint(10,size=[5,5])\n",
        "mat"
      ]
    },
    {
      "cell_type": "code",
      "execution_count": null,
      "metadata": {
        "id": "vksabRb5yyIr",
        "outputId": "c2a09bce-db76-4a47-c4ec-c8e030c59e54"
      },
      "outputs": [
        {
          "data": {
            "text/plain": [
              "array([[ 6,  5,  9,  9,  0],\n",
              "       [ 5,  2, 99,  8,  0],\n",
              "       [ 6,  6, 99,  0,  9],\n",
              "       [ 1,  0,  6,  4,  2],\n",
              "       [ 1,  7,  4,  8,  3]])"
            ]
          },
          "execution_count": 46,
          "metadata": {},
          "output_type": "execute_result"
        }
      ],
      "source": [
        "mat[1:3,2:3]=99\n",
        "mat\n",
        "\n",
        "#mat[:]=3# it will change every single value"
      ]
    },
    {
      "cell_type": "code",
      "execution_count": null,
      "metadata": {
        "id": "ub1hk0YjyyIr",
        "outputId": "5b8b7fcd-6fa8-4e9d-f70b-c176f8d43473"
      },
      "outputs": [
        {
          "data": {
            "text/plain": [
              "array([[ 5,  9],\n",
              "       [ 2, 99]])"
            ]
          },
          "execution_count": 47,
          "metadata": {},
          "output_type": "execute_result"
        }
      ],
      "source": [
        "submatrix=mat[0:2,1:3]\n",
        "submatrix"
      ]
    },
    {
      "cell_type": "code",
      "execution_count": null,
      "metadata": {
        "id": "ilapZi5CyyIr",
        "outputId": "77231310-545c-4e2a-bb41-1c1b505d7a71"
      },
      "outputs": [
        {
          "data": {
            "text/plain": [
              "array([[1, 1],\n",
              "       [1, 1]])"
            ]
          },
          "execution_count": 48,
          "metadata": {},
          "output_type": "execute_result"
        }
      ],
      "source": [
        "submatrix[:]=1\n",
        "submatrix"
      ]
    },
    {
      "cell_type": "code",
      "execution_count": null,
      "metadata": {
        "id": "PxpQxA2wyyIr",
        "outputId": "0d268dc4-4a6d-46a8-fc44-7a98566189db"
      },
      "outputs": [
        {
          "data": {
            "text/plain": [
              "array([[ 6,  5,  9,  9,  0],\n",
              "       [ 5,  2, 99,  8,  0],\n",
              "       [ 6,  6, 99,  0,  9],\n",
              "       [ 1,  0,  6,  4,  2],\n",
              "       [ 1,  7,  4,  8,  3]])"
            ]
          },
          "execution_count": 49,
          "metadata": {},
          "output_type": "execute_result"
        }
      ],
      "source": [
        "mat\n",
        "\n",
        "#changing the submatrix modified the original array.\n",
        "#To handle this scenerio, we can use np.copy()\n",
        "# use submatrix=mat[0:2,1:3].copy()\n",
        "\n"
      ]
    },
    {
      "cell_type": "markdown",
      "metadata": {
        "id": "SrUngLBYyyIr"
      },
      "source": [
        "#### Generate Random Number From Array\n",
        "choice"
      ]
    },
    {
      "cell_type": "code",
      "execution_count": null,
      "metadata": {
        "id": "7kNWXOnPyyIr",
        "outputId": "46fda6d2-2be7-4bcf-f210-7a4f79a8e646"
      },
      "outputs": [
        {
          "name": "stdout",
          "output_type": "stream",
          "text": [
            "random number from array:: 5\n",
            "2*3 random matrix from array:: [[2 1 5 2]\n",
            " [1 1 4 3]]\n"
          ]
        }
      ],
      "source": [
        "from numpy import random\n",
        "\n",
        "print(\"random number from array::\",random.choice([1,2,3,4,5,6]))\n",
        "\n",
        "print(\"2*4 random matrix from array::\",random.choice([1,2,3,4,5,6],size=(2,4)))"
      ]
    },
    {
      "cell_type": "markdown",
      "metadata": {
        "id": "dMeVRDtGyyIr"
      },
      "source": [
        "#### Data distribution using percentage"
      ]
    },
    {
      "cell_type": "code",
      "execution_count": null,
      "metadata": {
        "id": "GKK--OVuyyIr",
        "outputId": "05d6c32c-2a1a-4f1a-8884-eb50ab471cab"
      },
      "outputs": [
        {
          "name": "stdout",
          "output_type": "stream",
          "text": [
            "\n",
            " Random choices for 1D:: [3 3 3 4 3 2 3 3 3 4]\n",
            "[[1 2 2 3]\n",
            " [3 3 3 3]\n",
            " [2 4 4 3]\n",
            " [3 3 3 1]\n",
            " [4 2 1 2]]\n"
          ]
        }
      ],
      "source": [
        "from numpy import  random\n",
        "\n",
        "x= random.choice([1,2,3,4,5],size=(10),p=[0.1,0.4,0.3,0.2,0])\n",
        "print(\"\\n Random choices for 1D::\",x)\n",
        "\n",
        "y= random.choice([1,2,3,4,5],p=[0.1,0.4,0.3,0.2,0],size=(5,4))\n",
        "print(y)"
      ]
    },
    {
      "cell_type": "markdown",
      "metadata": {
        "id": "JlUPlod_yyIr"
      },
      "source": [
        "#### shuffle or random permutation"
      ]
    },
    {
      "cell_type": "code",
      "execution_count": null,
      "metadata": {
        "id": "UYiaNDDOyyIr",
        "outputId": "66f26f0b-08b7-4965-c88c-22271a0d37b6"
      },
      "outputs": [
        {
          "name": "stdout",
          "output_type": "stream",
          "text": [
            "shuffle:: [1 5 2 4 3]\n",
            "permutation:: [1 5 2 4 3]\n"
          ]
        }
      ],
      "source": [
        "import numpy as np\n",
        "\n",
        "arr= np.array([1,2,3,4,5])\n",
        "\n",
        "np.random.shuffle(arr)\n",
        "print(\"shuffle::\",arr)\n",
        "\n",
        "np.random.permutation(arr)\n",
        "print(\"permutation::\",arr)"
      ]
    },
    {
      "cell_type": "markdown",
      "metadata": {
        "id": "Vmp42CK-yyIs"
      },
      "source": [
        "## Data visulization APIs: seaborn and matplotlib- These will be used to visualize the random disributions below\n",
        "\n",
        "Seaborn- Seaborn is a library that uses Matplotlib underneath to plot graphs. It will be used to visualize random distributions\n",
        "\n",
        "displots-takes as input an array and plots a curve corresponding to the distribution\n",
        "\n",
        "Matplotlib -Import the pyplot object of the Matplotlib module\n"
      ]
    },
    {
      "cell_type": "code",
      "execution_count": null,
      "metadata": {
        "id": "NucJgtM0yyIs",
        "outputId": "e31e8030-c82d-44a1-de12-2e5d32ba3f5e"
      },
      "outputs": [
        {
          "name": "stderr",
          "output_type": "stream",
          "text": [
            "c:\\Users\\dwivedik\\AppData\\Local\\Programs\\Python\\Python311\\Lib\\site-packages\\seaborn\\axisgrid.py:118: UserWarning: The figure layout has changed to tight\n",
            "  self._figure.tight_layout(*args, **kwargs)\n"
          ]
        },
        {
          "data": {
            "image/png": "[encoded data removed]",
            "text/plain": [
              "<Figure size 500x500 with 1 Axes>"
            ]
          },
          "metadata": {},
          "output_type": "display_data"
        }
      ],
      "source": [
        "#pip install seaborn\n",
        "\n",
        "import seaborn as sns\n",
        "import matplotlib.pyplot as plt\n",
        "\n",
        "sns.displot([0,1,2,3,4,5])\n",
        "plt.show()"
      ]
    },
    {
      "cell_type": "code",
      "execution_count": null,
      "metadata": {
        "id": "5QaplZhCyyIs",
        "outputId": "eea96884-f973-4472-9faa-72cc702f4d77"
      },
      "outputs": [
        {
          "name": "stderr",
          "output_type": "stream",
          "text": [
            "C:\\Users\\dwivedik\\AppData\\Local\\Temp\\ipykernel_23756\\2192789431.py:1: UserWarning: \n",
            "\n",
            "`distplot` is a deprecated function and will be removed in seaborn v0.14.0.\n",
            "\n",
            "Please adapt your code to use either `displot` (a figure-level function with\n",
            "similar flexibility) or `histplot` (an axes-level function for histograms).\n",
            "\n",
            "For a guide to updating your code to use the new functions, please see\n",
            "https://gist.github.com/mwaskom/de44147ed2974457ad6372750bbe5751\n",
            "\n",
            "  sns.distplot([0,1,2,3,4,5])\n"
          ]
        },
        {
          "data": {
            "text/plain": [
              "<function matplotlib.pyplot.show(close=None, block=None)>"
            ]
          },
          "execution_count": 32,
          "metadata": {},
          "output_type": "execute_result"
        },
        {
          "data": {
            "image/png": "[encoded data removed]",
            "text/plain": [
              "<Figure size 640x480 with 1 Axes>"
            ]
          },
          "metadata": {},
          "output_type": "display_data"
        }
      ],
      "source": [
        "sns.distplot([0,1,2,3,4,5])\n",
        "plt.show"
      ]
    },
    {
      "cell_type": "code",
      "execution_count": null,
      "metadata": {
        "id": "zqSdPJLtyyIs",
        "outputId": "56ac1783-2cf8-4f53-b4f6-041ebf91ae7f"
      },
      "outputs": [
        {
          "name": "stderr",
          "output_type": "stream",
          "text": [
            "C:\\Users\\dwivedik\\AppData\\Local\\Temp\\ipykernel_23756\\299229084.py:1: UserWarning: \n",
            "\n",
            "`distplot` is a deprecated function and will be removed in seaborn v0.14.0.\n",
            "\n",
            "Please adapt your code to use either `displot` (a figure-level function with\n",
            "similar flexibility) or `kdeplot` (an axes-level function for kernel density plots).\n",
            "\n",
            "For a guide to updating your code to use the new functions, please see\n",
            "https://gist.github.com/mwaskom/de44147ed2974457ad6372750bbe5751\n",
            "\n",
            "  sns.distplot([0,1,2,3,4,5],hist=False)\n"
          ]
        },
        {
          "data": {
            "image/png": "[encoded data removed]",
            "text/plain": [
              "<Figure size 640x480 with 1 Axes>"
            ]
          },
          "metadata": {},
          "output_type": "display_data"
        }
      ],
      "source": [
        "sns.distplot([0,1,2,3,4,5],hist=False)\n",
        "plt.show()"
      ]
    },
    {
      "cell_type": "markdown",
      "metadata": {
        "id": "5K30s2cvyyIs"
      },
      "source": [
        "#### random normal distribution\n",
        "\n",
        "loc - (Mean) where the peak of the bell exists.\n",
        "\n",
        "scale - (Standard Deviation) how flat the graph distribution should be.\n",
        "\n",
        "size - The shape of the returned array."
      ]
    },
    {
      "cell_type": "code",
      "execution_count": null,
      "metadata": {
        "id": "2-9XINVFyyIs",
        "outputId": "e5309ef8-b3f5-4555-fb90-572f5acd5797"
      },
      "outputs": [
        {
          "name": "stdout",
          "output_type": "stream",
          "text": [
            "\n",
            " normal distribution:: [[-0.39347953 -0.03093072 -0.30501391]\n",
            " [-1.07646916 -0.52876387  2.12700322]]\n",
            "\n",
            " Normal distribution with mean as 1 and standard deviation as 2:: [[ 1.14820105  2.71352614  0.6080726 ]\n",
            " [-2.32448576 -2.0951385  -0.91234784]]\n",
            "\n",
            " ################################ \n",
            "\n"
          ]
        },
        {
          "name": "stderr",
          "output_type": "stream",
          "text": [
            "c:\\Users\\dwivedik\\AppData\\Local\\Programs\\Python\\Python311\\Lib\\site-packages\\seaborn\\axisgrid.py:118: UserWarning: The figure layout has changed to tight\n",
            "  self._figure.tight_layout(*args, **kwargs)\n"
          ]
        },
        {
          "data": {
            "image/png": "[encoded data removed]",
            "text/plain": [
              "<Figure size 558.875x500 with 1 Axes>"
            ]
          },
          "metadata": {},
          "output_type": "display_data"
        },
        {
          "name": "stderr",
          "output_type": "stream",
          "text": [
            "C:\\Users\\dwivedik\\AppData\\Local\\Temp\\ipykernel_23756\\3073467172.py:15: UserWarning: \n",
            "\n",
            "`distplot` is a deprecated function and will be removed in seaborn v0.14.0.\n",
            "\n",
            "Please adapt your code to use either `displot` (a figure-level function with\n",
            "similar flexibility) or `histplot` (an axes-level function for histograms).\n",
            "\n",
            "For a guide to updating your code to use the new functions, please see\n",
            "https://gist.github.com/mwaskom/de44147ed2974457ad6372750bbe5751\n",
            "\n",
            "  sns.distplot(y)\n"
          ]
        },
        {
          "data": {
            "image/png": "[encoded data removed]",
            "text/plain": [
              "<Figure size 640x480 with 1 Axes>"
            ]
          },
          "metadata": {},
          "output_type": "display_data"
        },
        {
          "name": "stderr",
          "output_type": "stream",
          "text": [
            "C:\\Users\\dwivedik\\AppData\\Local\\Temp\\ipykernel_23756\\3073467172.py:18: UserWarning: \n",
            "\n",
            "`distplot` is a deprecated function and will be removed in seaborn v0.14.0.\n",
            "\n",
            "Please adapt your code to use either `displot` (a figure-level function with\n",
            "similar flexibility) or `kdeplot` (an axes-level function for kernel density plots).\n",
            "\n",
            "For a guide to updating your code to use the new functions, please see\n",
            "https://gist.github.com/mwaskom/de44147ed2974457ad6372750bbe5751\n",
            "\n",
            "  sns.distplot(y,hist=False)\n"
          ]
        },
        {
          "data": {
            "image/png": "[encoded data removed]",
            "text/plain": [
              "<Figure size 640x480 with 1 Axes>"
            ]
          },
          "metadata": {},
          "output_type": "display_data"
        }
      ],
      "source": [
        "import numpy as np\n",
        "import seaborn as sns\n",
        "from matplotlib import pyplot as plt\n",
        "\n",
        "x= np.random.normal(size=(2,3))\n",
        "print(\"\\n normal distribution::\",x)\n",
        "\n",
        "y=np.random.normal(loc=1.0,scale=2.0,size=(2,3))\n",
        "print(\"\\n Normal distribution with mean as 1 and standard deviation as 2::\",y)\n",
        "\n",
        "print(\"\\n ################################ \\n\")\n",
        "sns.displot(y)\n",
        "plt.show()\n",
        "\n",
        "sns.distplot(y)\n",
        "plt.show()\n",
        "\n",
        "sns.distplot(y,hist=False)\n",
        "plt.show()"
      ]
    },
    {
      "cell_type": "markdown",
      "metadata": {
        "id": "29J0a8bKyyIs"
      },
      "source": [
        "#### Binomial distribution\n",
        "\n",
        "Binomial Distribution is a Discrete Distribution.\n",
        "\n",
        "It describes the outcome of binary scenarios, e.g. toss of a coin, it will either be head or tails.\n",
        "\n",
        "It has three parameters:\n",
        "\n",
        "n - number of trials.\n",
        "\n",
        "p - probability of occurence of each trial (e.g. for toss of a coin 0.5 each).\n",
        "\n",
        "size - The shape of the returned array."
      ]
    },
    {
      "cell_type": "code",
      "execution_count": null,
      "metadata": {
        "id": "egdMCnSTyyIs",
        "outputId": "80a65912-24ee-4e1b-e89a-f3119d8abf15"
      },
      "outputs": [
        {
          "name": "stdout",
          "output_type": "stream",
          "text": [
            "[ 5  3  8  5  5  5  3  5  8  5  3  3  8  7  4  4  4  7  4  5  8  7  1  5\n",
            "  4  6  5  6  3  7  6  5  7  3  7  3  4  7  4  3  4  7  7  3  2  7  5  6\n",
            "  7  6  3  1  5  7  5  8  6  4  7  6  3  5  5  5  4  6  3  7  6  8  5  5\n",
            "  8  6  5  2  5  6  3  3  7  5  5  5  6  5  2  5  6  3  6  5  6  6  6  5\n",
            "  5  5  6  5  7  8  5  4  7  4  5  8  4  5  7  4  5  5  5  4  6  5  3  3\n",
            "  3  4  8  3  5  2  4  4  4  6  7  3  5  2  8  3  4  5  6  4  7  6  6  4\n",
            "  3  3  6  2  5  5  6  5  5  1  7  5  7  7  4  3  5  4  5  8  2  3  7  5\n",
            "  7  8  5  5  7  3  4  5  6  2  6  2  6  5  4  2  5  5  5  5  5  7  8  4\n",
            "  3  4  3  3  4  5  7  5  5  4  6  6  5  5  5  3  5  6  4  4  3  6  6  5\n",
            "  3  7  7  7  2  8  4  3  5  7  7  5  3  5  5  5  7  5  4  6  3  7  7  5\n",
            "  6  9  5  2  4  6  5  5  3  5  2  5  4  3  8  6  6  3  4  5  7  5  4  5\n",
            "  4  5  4  4  5  1  7  7  8  4  6  2  3  6  4  3  5  5  7  7  5  5  9  5\n",
            "  5  6  4  2  4  6  6  9  4  6  4  3  7  4  4  6  2  4  3  3  4  4  5  4\n",
            "  6  3  6  5  6  5  6  5  3  4  6  3  3  5  5  3  2  4  4  4  4  3  7  5\n",
            "  3  4  4  7  6  6  1  2  4  3  3  7  5  3  5  7  5  6  6  5  7  2  4  6\n",
            "  7  5  3  4  4  8  6  3  6  5  5  2  5  6  6  4  5  5  5  4  4  4  4  6\n",
            "  3  4  6  6  3  6  5  7  5  3  4  5  7  5  5  7  5  4  7  5  4  6  4  2\n",
            "  8  3  3  7  7  7  6  4  2  5  3  4  5  7  3  6  1  3  8  3  5  4  7  6\n",
            "  8  6  7  4  7  4  5  4  4  8  3  6  3  3  3  5  6  5  4  6  9  3  8  7\n",
            "  7  4  4  5  6  7  3  7  4  3  4  4  3  5  5  1  5  5  5  4  5  4  6  6\n",
            "  6  1  3  5  5  4  5  5  6  5  4  4  5  5  4  4  5  4  7  6  7  7  7  4\n",
            "  4  6  3  4  4  6  3  4  8  6  5  3  5  7  4  5  5  7  4  5  5  5  4  4\n",
            "  7  5  3  5  5  7  5  3  4  5  6  8  5  6  3  7  4  6  5  8  4  3  6  7\n",
            "  6  5  5  5  6  5  6  4  3  7  7  5  7  7  4  6  3  5  6  3  4  5  7  7\n",
            "  5  3  4  5  4  4  7  4  5  6  6  8  4  8  6  6  5  5  6  2  6  5  5  5\n",
            "  6  5  6  5  5  3  5  4  4  2  7  6  4  3  4  8  2  6  6  4  2  4  6  7\n",
            "  3  5  6  4  6  4  5  5  6  7  5  4  4  5  5  5  6  4  4  6  9  3  2  5\n",
            "  7  4  6  0  6  7  5  4  5  5  7  6  3  6  2  3  5  4  3  7  7  5  5  5\n",
            "  6  8  4  5  2  6  7  5  5  3  4  4  6  6  7  6  7  5  5  4  2  5  2  5\n",
            "  5  6  4  3  3  1  3  6  3  5  3  8  4  6  6  6  5  7  3  7  8  6  6  2\n",
            "  7  7  5  5  6  9  5  6  4  4  7  6  5  6  8  3  4  4  5  5  5  5  4  5\n",
            "  5  6  4  5  5  4  5 10  7  6  4  2  6  8  6  5  6  8  3  4  6  4  4  2\n",
            "  6  5  4  2  3  6  2  6  6  3  3  6  6  6  5  7  2  5  6  5  7  6  3  7\n",
            "  6  5  5  6  5  3  6  4  5  5  7  7  5  7  6  6  6  4  7  5  7  4  6  5\n",
            "  5  5  3  6  8  6  4  5  5  8  6  4  5  5  6  7  2  5  6  8  5  7  6  4\n",
            "  7  8  6  4  3  4  3  4  6  3  4  5  4  5  3  5  4  6  1  4  3  5  5  3\n",
            "  4  5  7  5  2  4  5  2  3  7  6  3  7  5  4  7  5  4  5  8  6  7  6  6\n",
            "  6  6  7  7  4  6  8  5  2  4  4  1  6  5  6  7  7  6  6  7  4  4  6  5\n",
            "  6  5  7  1  6  8  7  5  6  5  3  4  4  7  5  7  4  6  6  4  7  3  7  6\n",
            "  7  4  4  5  3  5  8  7  4  5  8  4  6  2  7  4  2  6  6  5  4  4  4  6\n",
            "  2  5  7  6  5  7  4  6  5  5  7  6  8  4  7  4  5  4  5  7  6  6  5  7\n",
            "  7  2  3  6  3  3  3  5  6  7  2  4  4  7  5  4]\n"
          ]
        },
        {
          "name": "stderr",
          "output_type": "stream",
          "text": [
            "C:\\Users\\dwivedik\\AppData\\Local\\Temp\\ipykernel_23756\\830107762.py:8: UserWarning: \n",
            "\n",
            "`distplot` is a deprecated function and will be removed in seaborn v0.14.0.\n",
            "\n",
            "Please adapt your code to use either `displot` (a figure-level function with\n",
            "similar flexibility) or `histplot` (an axes-level function for histograms).\n",
            "\n",
            "For a guide to updating your code to use the new functions, please see\n",
            "https://gist.github.com/mwaskom/de44147ed2974457ad6372750bbe5751\n",
            "\n",
            "  sns.distplot(x,hist=True,kde=False)\n"
          ]
        },
        {
          "data": {
            "image/png": "[encoded data removed]",
            "text/plain": [
              "<Figure size 640x480 with 1 Axes>"
            ]
          },
          "metadata": {},
          "output_type": "display_data"
        }
      ],
      "source": [
        "from numpy import random\n",
        "from matplotlib import pyplot as plt\n",
        "import seaborn as sns\n",
        "\n",
        "x=random.binomial(n=10,p=0.5,size=(1000))\n",
        "print(x)\n",
        "\n",
        "sns.distplot(x,hist=True,kde=False)\n",
        "plt.show()"
      ]
    },
    {
      "cell_type": "code",
      "execution_count": null,
      "metadata": {
        "id": "8aM-_ClfyyIs",
        "outputId": "37cdc8e8-2249-4904-fe3c-9515b8085509"
      },
      "outputs": [
        {
          "data": {
            "image/png": "[encoded data removed]",
            "text/plain": [
              "<Figure size 640x480 with 1 Axes>"
            ]
          },
          "metadata": {},
          "output_type": "display_data"
        }
      ],
      "source": [
        "sns.boxplot(x)\n",
        "plt.show()"
      ]
    },
    {
      "cell_type": "code",
      "execution_count": null,
      "metadata": {
        "id": "pnfu1QARyyIt",
        "outputId": "02f36dc5-836a-47d5-80f3-d6af12a0f105"
      },
      "outputs": [
        {
          "name": "stderr",
          "output_type": "stream",
          "text": [
            "C:\\Users\\dwivedik\\AppData\\Local\\Temp\\ipykernel_23756\\2180808871.py:1: UserWarning: \n",
            "\n",
            "`distplot` is a deprecated function and will be removed in seaborn v0.14.0.\n",
            "\n",
            "Please adapt your code to use either `displot` (a figure-level function with\n",
            "similar flexibility) or `kdeplot` (an axes-level function for kernel density plots).\n",
            "\n",
            "For a guide to updating your code to use the new functions, please see\n",
            "https://gist.github.com/mwaskom/de44147ed2974457ad6372750bbe5751\n",
            "\n",
            "  sns.distplot(random.normal(loc=50, scale=5, size=1000), hist=False, label='normal')\n",
            "C:\\Users\\dwivedik\\AppData\\Local\\Temp\\ipykernel_23756\\2180808871.py:2: UserWarning: \n",
            "\n",
            "`distplot` is a deprecated function and will be removed in seaborn v0.14.0.\n",
            "\n",
            "Please adapt your code to use either `displot` (a figure-level function with\n",
            "similar flexibility) or `kdeplot` (an axes-level function for kernel density plots).\n",
            "\n",
            "For a guide to updating your code to use the new functions, please see\n",
            "https://gist.github.com/mwaskom/de44147ed2974457ad6372750bbe5751\n",
            "\n",
            "  sns.distplot(random.binomial(n=100, p=0.5, size=1000), hist=False, label='binomial')\n"
          ]
        },
        {
          "data": {
            "image/png": "[encoded data removed]",
            "text/plain": [
              "<Figure size 640x480 with 1 Axes>"
            ]
          },
          "metadata": {},
          "output_type": "display_data"
        }
      ],
      "source": [
        "sns.distplot(random.normal(loc=50, scale=5, size=1000), hist=False, label='normal')\n",
        "sns.distplot(random.binomial(n=100, p=0.5, size=1000), hist=False, label='binomial')\n",
        "\n",
        "plt.show()"
      ]
    },
    {
      "cell_type": "markdown",
      "metadata": {
        "id": "nBFOVNbyyyIt"
      },
      "source": [
        "#### Poisson Distribution\n",
        "Poisson Distribution is a Discrete Distribution.\n",
        "\n",
        "It estimates how many times an event can happen in a specified time. e.g. If someone eats twice a day what is the probability he will eat thrice?\n",
        "\n",
        "It has two parameters:\n",
        "\n",
        "lam - rate or known number of occurrences e.g. 2 for above problem.\n",
        "\n",
        "size - The shape of the returned array."
      ]
    },
    {
      "cell_type": "code",
      "execution_count": null,
      "metadata": {
        "id": "rB5xS-3QyyIt",
        "outputId": "d2ec62f3-c812-43d7-afce-f6c385665f9d"
      },
      "outputs": [
        {
          "name": "stdout",
          "output_type": "stream",
          "text": [
            "[4 0 3 2 4 4 0 1 3 2]\n"
          ]
        }
      ],
      "source": [
        "from numpy import random\n",
        "\n",
        "x = random.poisson(lam=2, size=10)\n",
        "\n",
        "print(x)"
      ]
    },
    {
      "cell_type": "markdown",
      "metadata": {
        "id": "ixgtVzWLyyIt"
      },
      "source": [
        "#### Uniform Distribution\n",
        "Used to describe probability where every event has equal chances of occuring.\n",
        "\n",
        "E.g. Generation of random numbers.\n",
        "\n",
        "It has three parameters:\n",
        "\n",
        "a - lower bound - default 0 .0.\n",
        "\n",
        "b - upper bound - default 1.0.\n",
        "\n",
        "size - The shape of the returned array."
      ]
    },
    {
      "cell_type": "code",
      "execution_count": null,
      "metadata": {
        "id": "f4f56jHtyyIt",
        "outputId": "329d2d7a-2bdb-464a-b8e1-ef0b7890ae5d"
      },
      "outputs": [
        {
          "name": "stdout",
          "output_type": "stream",
          "text": [
            "[[0.86295471 0.23775043 0.33732366]\n",
            " [0.25329856 0.94106608 0.08119746]]\n"
          ]
        }
      ],
      "source": [
        "from numpy import random\n",
        "\n",
        "x = random.uniform(size=(2, 3))\n",
        "\n",
        "print(x)"
      ]
    },
    {
      "cell_type": "markdown",
      "metadata": {
        "id": "8zl-rSThyyIt"
      },
      "source": [
        "#### Logistic Distribution\n",
        "Logistic Distribution is used to describe growth.\n",
        "\n",
        "Used extensively in machine learning in logistic regression, neural networks etc.\n",
        "\n",
        "It has three parameters:\n",
        "\n",
        "loc - mean, where the peak is. Default 0.\n",
        "\n",
        "scale - standard deviation, the flatness of distribution. Default 1.\n",
        "\n",
        "size - The shape of the returned array."
      ]
    },
    {
      "cell_type": "code",
      "execution_count": null,
      "metadata": {
        "id": "CBt3xE-oyyIz",
        "outputId": "005f9992-4ca6-41c2-982a-2b5b588d82c4"
      },
      "outputs": [
        {
          "name": "stdout",
          "output_type": "stream",
          "text": [
            "[[ 3.51801939 -0.64792074 -3.09425929]\n",
            " [-1.88137062  4.18474547  5.40484111]]\n"
          ]
        }
      ],
      "source": [
        "from numpy import random\n",
        "\n",
        "x = random.logistic(loc=1, scale=2, size=(2, 3))\n",
        "\n",
        "print(x)"
      ]
    },
    {
      "cell_type": "markdown",
      "metadata": {
        "id": "eV2Yrpx5yyIz"
      },
      "source": [
        "#### Multinomial Distribution\n",
        "Multinomial distribution is a generalization of binomial distribution.\n",
        "\n",
        "It describes outcomes of multi-nomial scenarios unlike binomial where scenarios must be only one of two. e.g. Blood type of a population, dice roll outcome.\n",
        "\n",
        "It has three parameters:\n",
        "\n",
        "n - number of possible outcomes (e.g. 6 for dice roll).\n",
        "\n",
        "pvals - list of probabilties of outcomes (e.g. [1/6, 1/6, 1/6, 1/6, 1/6, 1/6] for dice roll).\n",
        "\n",
        "size - The shape of the returned array."
      ]
    },
    {
      "cell_type": "code",
      "execution_count": null,
      "metadata": {
        "id": "l8VqBM5zyyIz",
        "outputId": "00491eca-376d-4d89-f406-797afc9837af"
      },
      "outputs": [
        {
          "name": "stdout",
          "output_type": "stream",
          "text": [
            "[0 2 1 1 0 2]\n"
          ]
        }
      ],
      "source": [
        "from numpy import random\n",
        "\n",
        "x = random.multinomial(n=6, pvals=[1/6, 1/6, 1/6, 1/6, 1/6, 1/6])\n",
        "\n",
        "print(x)"
      ]
    },
    {
      "cell_type": "markdown",
      "metadata": {
        "id": "UrhE11SMyyI0"
      },
      "source": [
        "#### Exponential Distribution\n",
        "Exponential distribution is used for describing time till next event e.g. failure/success etc.\n",
        "\n",
        "It has two parameters:\n",
        "\n",
        "scale - inverse of rate ( see lam in poisson distribution ) defaults to 1.0.\n",
        "\n",
        "size - The shape of the returned array."
      ]
    },
    {
      "cell_type": "code",
      "execution_count": null,
      "metadata": {
        "id": "id2avpkByyI0",
        "outputId": "4a1055a1-dd35-44ed-971f-34bdf7a62cb9"
      },
      "outputs": [
        {
          "name": "stdout",
          "output_type": "stream",
          "text": [
            "[[0.31376193 0.83844673 0.72180315]\n",
            " [7.09028231 2.1726409  2.01432678]]\n"
          ]
        }
      ],
      "source": [
        "from numpy import random\n",
        "\n",
        "x = random.exponential(scale=2, size=(2, 3))\n",
        "\n",
        "print(x)"
      ]
    },
    {
      "cell_type": "markdown",
      "metadata": {
        "id": "BMLeB28yyyI0"
      },
      "source": [
        "#### Chi Square Distribution\n",
        "Chi Square distribution is used as a basis to verify the hypothesis.\n",
        "\n",
        "It has two parameters:\n",
        "\n",
        "df - (degree of freedom).\n",
        "\n",
        "size - The shape of the returned array."
      ]
    },
    {
      "cell_type": "code",
      "execution_count": null,
      "metadata": {
        "id": "-bwoHt-iyyI0",
        "outputId": "6b3896fe-4652-4c60-a209-75dab3f3c7e1"
      },
      "outputs": [
        {
          "name": "stdout",
          "output_type": "stream",
          "text": [
            "[[0.87308842 2.225373   0.43448867]\n",
            " [1.06631297 2.42927932 1.36187129]]\n"
          ]
        }
      ],
      "source": [
        "from numpy import random\n",
        "\n",
        "x = random.chisquare(df=2, size=(2, 3))\n",
        "\n",
        "print(x)"
      ]
    },
    {
      "cell_type": "markdown",
      "metadata": {
        "id": "uuyUtv-4yyI0"
      },
      "source": [
        "#### Rayleigh Distribution\n",
        "Rayleigh distribution is used in signal processing.\n",
        "\n",
        "It has two parameters:\n",
        "\n",
        "scale - (standard deviation) decides how flat the distribution will be default 1.0).\n",
        "\n",
        "size - The shape of the returned array."
      ]
    },
    {
      "cell_type": "code",
      "execution_count": null,
      "metadata": {
        "id": "Cp4yg4UVyyI0",
        "outputId": "096b9505-0056-43df-a805-86f7a458f1f8"
      },
      "outputs": [
        {
          "name": "stdout",
          "output_type": "stream",
          "text": [
            "[[1.12392898 4.79834199 3.72431647]\n",
            " [0.76355339 1.69273881 3.54909656]]\n"
          ]
        }
      ],
      "source": [
        "from numpy import random\n",
        "\n",
        "x = random.rayleigh(scale=2, size=(2, 3))\n",
        "\n",
        "print(x)"
      ]
    },
    {
      "cell_type": "markdown",
      "metadata": {
        "id": "fLjEmjbGyyI0"
      },
      "source": [
        "#### Pareto Distribution\n",
        "A distribution following Pareto's law i.e. 80-20 distribution (20% factors cause 80% outcome).\n",
        "\n",
        "It has two parameter:\n",
        "\n",
        "a - shape parameter.\n",
        "\n",
        "size - The shape of the returned array."
      ]
    },
    {
      "cell_type": "code",
      "execution_count": null,
      "metadata": {
        "id": "a8y506wQyyI0",
        "outputId": "4ee8c05f-fe14-483b-beac-89e796e5ebca"
      },
      "outputs": [
        {
          "name": "stdout",
          "output_type": "stream",
          "text": [
            "[[2.44328114e+00 4.34420869e-01 7.74345557e-02]\n",
            " [5.13846079e-01 9.64130057e+00 6.57311132e-03]]\n"
          ]
        }
      ],
      "source": [
        "from numpy import random\n",
        "\n",
        "x = random.pareto(a=2, size=(2, 3))\n",
        "\n",
        "print(x)"
      ]
    },
    {
      "cell_type": "markdown",
      "metadata": {
        "id": "h137cFqhyyI0"
      },
      "source": [
        "#### Zipf distributions are used to sample data based on zipf's law.\n",
        "\n",
        "Zipf's Law: In a collection, the nth common term is 1/n times of the most common term. E.g. the 5th most common word in English occurs nearly 1/5 times as often as the most common word.\n",
        "\n",
        "It has two parameters:\n",
        "\n",
        "a - distribution parameter.\n",
        "\n",
        "size - The shape of the returned array."
      ]
    },
    {
      "cell_type": "code",
      "execution_count": null,
      "metadata": {
        "id": "WaMEz93YyyI0",
        "outputId": "0bb38598-5333-4264-b851-2ccb5ce8f2b3"
      },
      "outputs": [
        {
          "name": "stdout",
          "output_type": "stream",
          "text": [
            "[[29  1  1]\n",
            " [ 1  1  2]]\n"
          ]
        }
      ],
      "source": [
        "from numpy import random\n",
        "\n",
        "x = random.zipf(a=2, size=(2, 3))\n",
        "\n",
        "print(x)"
      ]
    }
  ],
  "metadata": {
    "kernelspec": {
      "display_name": "Python 3",
      "language": "python",
      "name": "python3"
    },
    "language_info": {
      "codemirror_mode": {
        "name": "ipython",
        "version": 3
      },
      "file_extension": ".py",
      "mimetype": "text/x-python",
      "name": "python",
      "nbconvert_exporter": "python",
      "pygments_lexer": "ipython3",
      "version": "3.11.4"
    },
    "orig_nbformat": 4,
    "colab": {
      "provenance": [],
      "include_colab_link": true
    }
  },
  "nbformat": 4,
  "nbformat_minor": 0
}