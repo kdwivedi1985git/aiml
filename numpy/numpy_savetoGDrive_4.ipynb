{
  "cells": [
    {
      "cell_type": "markdown",
      "metadata": {
        "id": "view-in-github",
        "colab_type": "text"
      },
      "source": [
        "<a href=\"https://colab.research.google.com/github/kdwivedi1985git/datascience/blob/main/numpy/numpy_savetoGDrive_4.ipynb\" target=\"_parent\"><img src=\"https://colab.research.google.com/assets/colab-badge.svg\" alt=\"Open In Colab\"/></a>"
      ]
    },
    {
      "cell_type": "markdown",
      "metadata": {
        "id": "WmPLZ4U8rRnx"
      },
      "source": [
        "# Saving numpy file to google drive"
      ]
    },
    {
      "cell_type": "markdown",
      "metadata": {
        "id": "JYcxls5GrRn6"
      },
      "source": [
        "from google.colab import drive\n",
        "drive.mount('/content/drive')\n",
        "\n",
        "npmatrix=np.arange(0,12).reshape(3,4)\n",
        "\n",
        "#save 1numpy array, #it saves the file as .npy file format\n",
        "np.save('/content/drive/MyDrive/myfolder/myfile ',npmatrix)\n",
        "\n",
        "\n",
        "\n",
        "#save multiple numpy arrays, saves file in .npz format (z=zip)\n",
        "np.savez('/content/drive/MyDrive/myfolder/multiplefiles ',npmatrix=npmatrix, npmatrix2=npmatrix2)"
      ]
    },
    {
      "cell_type": "markdown",
      "metadata": {
        "id": "5KAE2DnTrRn7"
      },
      "source": [
        "# Load the numpy file"
      ]
    },
    {
      "cell_type": "code",
      "execution_count": null,
      "metadata": {
        "id": "phJBTL-krRn8"
      },
      "outputs": [],
      "source": [
        "onefile=np.load('/content/drive/MyDrive/myfolder/myfile.npy')\n",
        "files=np.load('/content/drive/MyDrive/myfolder/multiplefiles.npz')\n",
        "\n",
        "files['npmatrix']"
      ]
    },
    {
      "cell_type": "markdown",
      "metadata": {
        "id": "bVaxUcTWrRn-"
      },
      "source": [
        "# Save numpy arrays as .txt file"
      ]
    },
    {
      "cell_type": "markdown",
      "metadata": {
        "id": "C7t5Ymt0rRn_"
      },
      "source": [
        "#save 1numpy array as txt format\n",
        "np.savetxt('/content/drive/MyDrive/myfolder/myfile.txt ',npmatrix, delimiter=',')\n",
        "\n",
        "#load txt file\n",
        "np.loadtxt('/content/drive/MyDrive/myfolder/myfile.txt',delimiter=',')"
      ]
    },
    {
      "cell_type": "markdown",
      "metadata": {
        "id": "7s25bdw3rRn_"
      },
      "source": [
        "#### Save and load numpy arrays in .npy and .npz file from local"
      ]
    },
    {
      "cell_type": "code",
      "execution_count": null,
      "metadata": {
        "id": "XLgM7PAerRoA",
        "outputId": "ec8feb6a-1581-4c82-d9ce-6abe3d8cf60b"
      },
      "outputs": [
        {
          "name": "stdout",
          "output_type": "stream",
          "text": [
            "numpy array saved in single file as well as zip\n"
          ]
        }
      ],
      "source": [
        "import numpy as np\n",
        "\n",
        "npmatrix1= np.arange(0,12).reshape(3,4)\n",
        "npmatrix2= np.arange(10,25).reshape(3,5)\n",
        "npmatrix3= np.random.randint(2,13,15).reshape(5,3)\n",
        "\n",
        "#save one file\n",
        "np.save('sampledata/numpyfiles/mynpmatrix',npmatrix1)\n",
        "\n",
        "#save multiple files as zip in one\n",
        "np.savez('sampledata/numpyfiles/multiplematrixes',npmatrix1=npmatrix1,npmatrix2=npmatrix2,npmatrix3=npmatrix3)\n",
        "\n",
        "print(\"numpy array saved in single file as well as zip\")\n"
      ]
    },
    {
      "cell_type": "code",
      "execution_count": null,
      "metadata": {
        "id": "GeNf5Dy6rRoC",
        "outputId": "dba49fa4-5a2d-46b8-a17f-727e7d6821f5"
      },
      "outputs": [
        {
          "name": "stdout",
          "output_type": "stream",
          "text": [
            "retrive numpy files\n",
            "[[ 0  1  2  3]\n",
            " [ 4  5  6  7]\n",
            " [ 8  9 10 11]]\n",
            "\n",
            " NpzFile 'sampledata/numpyfiles/multiplematrixes.npz' with keys: npmatrix1, npmatrix2, npmatrix3\n"
          ]
        },
        {
          "data": {
            "text/plain": [
              "array([[10, 11, 12, 13, 14],\n",
              "       [15, 16, 17, 18, 19],\n",
              "       [20, 21, 22, 23, 24]])"
            ]
          },
          "execution_count": 22,
          "metadata": {},
          "output_type": "execute_result"
        }
      ],
      "source": [
        "print(\"retrive numpy files\")\n",
        "\n",
        "npfile=np.load('sampledata/numpyfiles/mynpmatrix.npy')\n",
        "print(npfile)\n",
        "\n",
        "\n",
        "npfiles=np.load('sampledata/numpyfiles/multiplematrixes.npz')\n",
        "print(\"\\n\",npfiles)\n",
        "\n",
        "npfiles['npmatrix2']"
      ]
    },
    {
      "cell_type": "markdown",
      "metadata": {
        "id": "-Okxsli0rRoD"
      },
      "source": [
        "#### save and load numpy arrays in txt files"
      ]
    },
    {
      "cell_type": "code",
      "execution_count": null,
      "metadata": {
        "id": "EhaPZ0morRoE",
        "outputId": "5a2630db-a752-413e-d41a-bfd8bf33bb07"
      },
      "outputs": [
        {
          "data": {
            "text/plain": [
              "array([[ 0.,  1.,  2.,  3.],\n",
              "       [ 4.,  5.,  6.,  7.],\n",
              "       [ 8.,  9., 10., 11.]])"
            ]
          },
          "execution_count": 25,
          "metadata": {},
          "output_type": "execute_result"
        }
      ],
      "source": [
        "np.savetxt('sampledata/numpyfiles/mynpmatrix.txt',npmatrix1,delimiter=\",\")\n",
        "\n",
        "file=np.loadtxt('sampledata/numpyfiles/mynpmatrix.txt',delimiter=\",\")\n",
        "\n",
        "file"
      ]
    }
  ],
  "metadata": {
    "kernelspec": {
      "display_name": "Python 3",
      "language": "python",
      "name": "python3"
    },
    "language_info": {
      "codemirror_mode": {
        "name": "ipython",
        "version": 3
      },
      "file_extension": ".py",
      "mimetype": "text/x-python",
      "name": "python",
      "nbconvert_exporter": "python",
      "pygments_lexer": "ipython3",
      "version": "3.11.4"
    },
    "orig_nbformat": 4,
    "colab": {
      "provenance": [],
      "include_colab_link": true
    }
  },
  "nbformat": 4,
  "nbformat_minor": 0
}