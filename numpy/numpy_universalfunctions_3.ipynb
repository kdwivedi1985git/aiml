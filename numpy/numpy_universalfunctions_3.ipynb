{
  "cells": [
    {
      "cell_type": "markdown",
      "metadata": {
        "id": "view-in-github",
        "colab_type": "text"
      },
      "source": [
        "<a href=\"https://colab.research.google.com/github/kdwivedi1985git/datascience/blob/main/numpy/numpy_universalfunctions_3.ipynb\" target=\"_parent\"><img src=\"https://colab.research.google.com/assets/colab-badge.svg\" alt=\"Open In Colab\"/></a>"
      ]
    },
    {
      "cell_type": "markdown",
      "metadata": {
        "id": "G7rdJadNz_IU"
      },
      "source": [
        "## NumPy functions - operate on the ndarray object.\n",
        "\n",
        "Universal Functions are used for vectorization\n",
        "\n",
        "Converting iterative statements into a vector based operation is called vectorization.\n",
        "\n",
        "built-in \"zip\" function- create a vector from x and y array.\n"
      ]
    },
    {
      "cell_type": "code",
      "execution_count": null,
      "metadata": {
        "id": "WGDZ0zWQz_IV",
        "outputId": "de6c7db1-4f92-4e41-a9b8-775b789c3da7"
      },
      "outputs": [
        {
          "name": "stdout",
          "output_type": "stream",
          "text": [
            "[5, 7, 9, 11]\n"
          ]
        }
      ],
      "source": [
        "x = [1, 2, 3, 4]\n",
        "y = [4, 5, 6, 7]\n",
        "z = []\n",
        "\n",
        "for i, j in zip(x, y):\n",
        "  z.append(i + j)\n",
        "print(z)"
      ]
    },
    {
      "cell_type": "code",
      "execution_count": null,
      "metadata": {
        "id": "EmVyM6Oyz_IX",
        "outputId": "bff42497-896a-4f5f-e974-584e521732cb"
      },
      "outputs": [
        {
          "name": "stdout",
          "output_type": "stream",
          "text": [
            "[ 5  7  9 11]\n",
            "True\n",
            "11\n",
            "[0. 0. 0. 0.]\n",
            "True\n",
            "[1 2 3 4 4 5 6 7]\n"
          ]
        }
      ],
      "source": [
        "import numpy as np\n",
        "\n",
        "x = [1, 2, 3, 4]\n",
        "y = [4, 5, 6, 7]\n",
        "\n",
        "z=np.add(x,y)\n",
        "print(z)\n",
        "\n",
        "print(np.all(x))\n",
        "\n",
        "print(np.amax(z))\n",
        "\n",
        "#np.amin\n",
        "print(np.angle(x))\n",
        "print(np.any(y))\n",
        "print(np.append(x,y))\n"
      ]
    },
    {
      "cell_type": "markdown",
      "metadata": {
        "id": "kdIi8YfFz_IX"
      },
      "source": [
        "## Create Your Own ufunc (Universal Function)\n",
        "\n",
        "To create your own ufunc, you have to define a function, like you do with normal functions in Python, then you add it to your NumPy ufunc library with the frompyfunc() method.\n",
        "\n",
        "The frompyfunc() method takes the following arguments:\n",
        "\n",
        "function - the name of the function.\n",
        "inputs - the number of input arguments (arrays).\n",
        "outputs - the number of output arrays."
      ]
    },
    {
      "cell_type": "code",
      "execution_count": null,
      "metadata": {
        "id": "q0oSD964z_IX",
        "outputId": "95d19836-2818-4fbe-9593-5a88b4470824"
      },
      "outputs": [
        {
          "name": "stdout",
          "output_type": "stream",
          "text": [
            "List of Strings from numbers:: ['1' '2' '3' '4' '5']\n",
            "Original array- [345 122 454 232 334  56  66]\n",
            "Checking of number as palindrome- [False False True True False False True]\n",
            "['543' '221' '454' '232' '433' '65' '66']\n",
            "x= [1, 2, 3, 4, 5]\n",
            "y= [1 2 3 4 5]\n",
            "z= [1, 2, 3, 4, 5]\n",
            ">> [4 3 5 4 5 8 9 8]\n"
          ]
        }
      ],
      "source": [
        "import numpy as np\n",
        "\n",
        "arr1=[1,2,3,4,5]\n",
        "\n",
        "stringgenerator=np.frompyfunc(str,1,1)\n",
        "print(\"List of Strings from numbers::\", stringgenerator(arr1))\n",
        "\n",
        "def maxbetween2list(x,y):\n",
        "   max=0\n",
        "   for i, j in zip(list(str(x)),list(str(y))):\n",
        "       max=0\n",
        "       i1,j1=int(i),int(j)\n",
        "       if int(i1) > max:\n",
        "           max=i1\n",
        "       if int(j1) > max:\n",
        "           max=j1\n",
        "\n",
        "       return max\n",
        "\n",
        "\n",
        "def arrReverse(x):\n",
        "    s=str(x)\n",
        "    return s[::-1]\n",
        "\n",
        "# user-defined function to check\n",
        "# whether a no. is palindrome or not\n",
        "def fun(x):\n",
        "    s = str(x)\n",
        "    return s[::-1]== s\n",
        "\n",
        "\n",
        "\n",
        "\n",
        "\n",
        "a = np.array([345, 122, 454, 232, 334, 56, 66])\n",
        "# 'check_palindrome' as universal function\n",
        "check_palindrome = np.frompyfunc(fun, 1, 1)\n",
        "print(\"Original array-\", a)\n",
        "print(\"Checking of number as palindrome-\",\n",
        "                      check_palindrome(a))\n",
        "\n",
        "\n",
        "rev=np.frompyfunc(arrReverse,1,1)\n",
        "print(rev(a))\n",
        "\n",
        "\n",
        "x=[1,2,3,4,5]\n",
        "y=np.array(x)\n",
        "\n",
        "print(\"x=\",x)\n",
        "print(\"y=\",y)\n",
        "z=list(y)\n",
        "print(\"z=\",z)\n",
        "\n",
        "\n",
        "p=np.array([1,2,3,4,5,5,7,8])\n",
        "q=np.array([4,3,5,2,1,8,9,7])\n",
        "\n",
        "maxres=np.frompyfunc(maxbetween2list,2,1)\n",
        "print(\">>\",maxres(p,q))"
      ]
    },
    {
      "cell_type": "markdown",
      "metadata": {
        "id": "kl9QOLpIz_IX"
      },
      "source": [
        "#### Simple Arithmetic\n",
        "add, subtract, multipy, divide, mod, remainder, power, divmod, absolute"
      ]
    },
    {
      "cell_type": "code",
      "execution_count": null,
      "metadata": {
        "id": "fiKGsHqiz_IX",
        "outputId": "5c0f6e96-b977-4543-deab-a9c37c223c0d"
      },
      "outputs": [
        {
          "name": "stdout",
          "output_type": "stream",
          "text": [
            "divide= [0.5        0.95238095 1.36363636 1.73913043 2.08333333 2.4       ]\n",
            "div and mode= (array([0, 0, 1, 1, 2, 2]), array([10, 20,  8, 17,  2, 10]))\n",
            "remainder= [10 20  8 17  2 10]\n",
            "power= [1661992960          0 1749024768          0 1090519040          0]\n",
            "absolute= [20.  21.  22.  23.3 24.  25. ]\n"
          ]
        }
      ],
      "source": [
        "import numpy as np\n",
        "\n",
        "arr1 = np.array([10, 20, 30, 40, 50, 60])\n",
        "arr2 = np.array([20, 21, 22, 23, 24, 25])\n",
        "arr3 = np.array([-20, 21, -22, 23.3, 24, 25])\n",
        "\n",
        "print(\"divide=\",np.divide(arr1,arr2))\n",
        "print(\"div and mode=\",np.divmod(arr1,arr2))\n",
        "print(\"remainder=\",np.remainder(arr1,arr2))\n",
        "print(\"power=\",np.power(arr1,arr2))\n",
        "print(\"absolute=\",np.absolute(arr3))"
      ]
    },
    {
      "cell_type": "markdown",
      "metadata": {
        "id": "-to7aPKsz_IY"
      },
      "source": [
        "#### Rounding Decimals\n",
        "truncation- remove decimal\n",
        "fix - removes decimal\n",
        "rounding-\n",
        "floor\n",
        "ceil"
      ]
    },
    {
      "cell_type": "code",
      "execution_count": null,
      "metadata": {
        "id": "aBAaH8wqz_IY",
        "outputId": "2f8e09d6-8256-462f-a64d-f773f045b5f3"
      },
      "outputs": [
        {
          "name": "stdout",
          "output_type": "stream",
          "text": [
            "3.17\n"
          ]
        }
      ],
      "source": [
        "import numpy as np\n",
        "\n",
        "arr = np.around(3.1666, 2)\n",
        "\n",
        "print(arr)"
      ]
    },
    {
      "cell_type": "markdown",
      "metadata": {
        "id": "4qQ9yk-Lz_IY"
      },
      "source": [
        "#### NumPy Logs\n",
        "\n",
        "log2\n",
        "\n",
        "log10"
      ]
    },
    {
      "cell_type": "markdown",
      "metadata": {
        "id": "wfwJRnO4z_IY"
      },
      "source": [
        "#### summation\n",
        "\n",
        "add\n",
        "\n",
        "sum\n",
        "\n",
        "sum with axis\n"
      ]
    },
    {
      "cell_type": "code",
      "execution_count": null,
      "metadata": {
        "id": "Xf-mr411z_IY",
        "outputId": "fc69a9c9-da53-4d55-ec71-7c3c0cffa83f"
      },
      "outputs": [
        {
          "name": "stdout",
          "output_type": "stream",
          "text": [
            "Vertical sum= [2 4 6]\n",
            "Horizontal sum= [6 6]\n"
          ]
        }
      ],
      "source": [
        "import numpy as np\n",
        "\n",
        "arr1 = np.array([1, 2, 3])\n",
        "arr2 = np.array([1, 2, 3])\n",
        "\n",
        "print(\"Vertical sum=\",np.sum([arr1, arr2], axis=0))\n",
        "print(\"Horizontal sum=\",np.sum([arr1, arr2], axis=1))"
      ]
    },
    {
      "cell_type": "markdown",
      "metadata": {
        "id": "6MmrNekOz_IY"
      },
      "source": [
        "#### Cummulative Sum\n",
        "Cummulative sum means partially adding the elements in array.\n",
        "\n",
        "E.g. The partial sum of [1, 2, 3, 4] would be [1, 1+2, 1+2+3, 1+2+3+4] = [1, 3, 6, 10]"
      ]
    },
    {
      "cell_type": "code",
      "execution_count": null,
      "metadata": {
        "id": "WUaYn1Jlz_IY",
        "outputId": "2adb6793-3a2f-4fa3-8885-fe30cf881e4f"
      },
      "outputs": [
        {
          "name": "stdout",
          "output_type": "stream",
          "text": [
            "[1 3 6]\n"
          ]
        }
      ],
      "source": [
        "import numpy as np\n",
        "\n",
        "arr = np.array([1, 2, 3])\n",
        "\n",
        "newarr = np.cumsum(arr)\n",
        "\n",
        "print(newarr)"
      ]
    },
    {
      "cell_type": "markdown",
      "metadata": {
        "id": "E0Tdi-ySz_IZ"
      },
      "source": [
        "#### Product"
      ]
    },
    {
      "cell_type": "code",
      "execution_count": null,
      "metadata": {
        "id": "vBGmU-w7z_IZ",
        "outputId": "c33a08e7-c3e5-4118-c9b3-a0ed7b09dd0c"
      },
      "outputs": [
        {
          "data": {
            "text/plain": [
              "array([  24, 1680])"
            ]
          },
          "execution_count": 89,
          "metadata": {},
          "output_type": "execute_result"
        }
      ],
      "source": [
        "import numpy as np\n",
        "\n",
        "arr1 = np.array([1, 2, 3, 4])\n",
        "arr2 = np.array([5, 6, 7, 8])\n",
        "\n",
        "np.prod(arr1)\n",
        "np.prod([arr1, arr2])\n",
        "\n",
        "np.prod([arr1, arr2], axis=1)\n",
        "\n",
        "np.prod([arr1, arr2], axis=1)"
      ]
    },
    {
      "cell_type": "markdown",
      "metadata": {
        "id": "bwdtkJwzz_IZ"
      },
      "source": [
        "#### Difference"
      ]
    },
    {
      "cell_type": "code",
      "execution_count": null,
      "metadata": {
        "id": "BUxakTdWz_IZ",
        "outputId": "feafccec-85f3-402c-8a75-695f3b163217"
      },
      "outputs": [
        {
          "name": "stdout",
          "output_type": "stream",
          "text": [
            "[  5  10 -20]\n",
            "[  5 -30]\n"
          ]
        }
      ],
      "source": [
        "import numpy as np\n",
        "\n",
        "arr = np.array([10, 15, 25, 5])\n",
        "\n",
        "newarr1 = np.diff(arr)\n",
        "newarr2 = np.diff(arr, n=2)\n",
        "\n",
        "print(newarr1)\n",
        "print(newarr2)"
      ]
    },
    {
      "cell_type": "markdown",
      "metadata": {
        "id": "gtOUVVnYz_IZ"
      },
      "source": [
        "#### Set Operations"
      ]
    },
    {
      "cell_type": "code",
      "execution_count": null,
      "metadata": {
        "id": "7EpQGQxWz_IZ",
        "outputId": "9e4ce6ef-0b49-4f07-8549-381e742fb219"
      },
      "outputs": [
        {
          "name": "stdout",
          "output_type": "stream",
          "text": [
            "[1 2 3 4 5 6 7]\n",
            "[1 2 3 4 5 6]\n",
            "[3 4]\n",
            "[1 2]\n"
          ]
        }
      ],
      "source": [
        "import numpy as np\n",
        "\n",
        "arr = np.array([1, 1, 1, 2, 3, 4, 5, 5, 6, 7])\n",
        "\n",
        "x = np.unique(arr)\n",
        "\n",
        "print(x)\n",
        "\n",
        "\n",
        "\n",
        "arr1 = np.array([1, 2, 3, 4])\n",
        "arr2 = np.array([3, 4, 5, 6])\n",
        "\n",
        "newarr = np.union1d(arr1, arr2)\n",
        "\n",
        "print(newarr)\n",
        "\n",
        "\n",
        "\n",
        "\n",
        "arr1 = np.array([1, 2, 3, 4])\n",
        "arr2 = np.array([3, 4, 5, 6])\n",
        "\n",
        "newarr = np.intersect1d(arr1, arr2, assume_unique=True)\n",
        "\n",
        "print(newarr)\n",
        "\n",
        "newarr = np.setdiff1d(arr1, arr2, assume_unique=True)\n",
        "\n",
        "print(newarr)"
      ]
    },
    {
      "cell_type": "markdown",
      "metadata": {
        "id": "cqm2klawz_IZ"
      },
      "source": [
        "#### LCM Lowest Common Multiple\n",
        "#### GCD Greatest Common Denominator\n",
        "#### Trigonometric Functions- sin, cos tan\n",
        "#### Hyperbolic Functions- sinh, cosh, tanh"
      ]
    },
    {
      "cell_type": "markdown",
      "metadata": {
        "id": "lsoRSKK7z_IZ"
      },
      "source": [
        "#exponential\n",
        "\n",
        "np.exp()  - thins equals to np.power(2.71,n)"
      ]
    },
    {
      "cell_type": "code",
      "execution_count": null,
      "metadata": {
        "id": "wjAHdz19z_IZ",
        "outputId": "16f26f04-6cfc-4b3a-e241-9c837c70e2e9"
      },
      "outputs": [
        {
          "data": {
            "text/plain": [
              "7.38905609893065"
            ]
          },
          "execution_count": 3,
          "metadata": {},
          "output_type": "execute_result"
        }
      ],
      "source": [
        "np.exp(2)\n",
        "\n",
        "#by default e=2.71"
      ]
    },
    {
      "cell_type": "code",
      "execution_count": null,
      "metadata": {
        "id": "R3WfGkXOz_Ia",
        "outputId": "db44f8c6-b146-4348-8e82-26c992437ba0"
      },
      "outputs": [
        {
          "data": {
            "text/plain": [
              "array([ 2.71828183,  7.3890561 , 20.08553692, 54.59815003])"
            ]
          },
          "execution_count": 4,
          "metadata": {},
          "output_type": "execute_result"
        }
      ],
      "source": [
        "arr=np.array([1,2,3,4])\n",
        "np.exp(arr)"
      ]
    },
    {
      "cell_type": "code",
      "execution_count": null,
      "metadata": {
        "id": "c8RaqytEz_Ia",
        "outputId": "2e24cb68-ba13-493f-88ea-4f711d2bd602"
      },
      "outputs": [
        {
          "name": "stdout",
          "output_type": "stream",
          "text": [
            "matrix:: [[ 0  1  2]\n",
            " [ 3  4  5]\n",
            " [ 6  7  8]\n",
            " [ 9 10 11]]\n",
            "\n",
            " inverse:: [[       inf 1.         0.5       ]\n",
            " [0.33333333 0.25       0.2       ]\n",
            " [0.16666667 0.14285714 0.125     ]\n",
            " [0.11111111 0.1        0.09090909]]\n"
          ]
        },
        {
          "name": "stderr",
          "output_type": "stream",
          "text": [
            "C:\\Users\\dwivedik\\AppData\\Local\\Temp\\ipykernel_4348\\544368070.py:6: RuntimeWarning: divide by zero encountered in divide\n",
            "  print(\"\\n inverse::\",1/matrix)\n"
          ]
        }
      ],
      "source": [
        "#inverse of array\n",
        "matrix=np.arange(0,12).reshape(4,3)\n",
        "print(\"matrix::\",matrix)\n",
        "\n",
        "\n",
        "print(\"\\n inverse::\",1/matrix)\n",
        "\n",
        "#python adds \"inf\" for divide by zero error"
      ]
    },
    {
      "cell_type": "code",
      "execution_count": null,
      "metadata": {
        "id": "QIdhupZ0z_Ia",
        "outputId": "84ce692b-cb65-4cec-8c69-b61a4cbb45dd"
      },
      "outputs": [
        {
          "name": "stdout",
          "output_type": "stream",
          "text": [
            "###########Matrix multiplication or dot product using @ sign###################\n",
            "[[ 90  96 102]\n",
            " [216 231 246]\n",
            " [342 366 390]]\n",
            "\n",
            "###########Transpose###################\n",
            "[[ 90 216 342]\n",
            " [ 96 231 366]\n",
            " [102 246 390]]\n"
          ]
        }
      ],
      "source": [
        "m1=np.arange(1,10).reshape(3,3)\n",
        "m2=np.arange(11,20).reshape(3,3)\n",
        "\n",
        "print(\"###########Matrix multiplication or dot product using @ sign###################\")\n",
        "m3=m1 @ m2\n",
        "print(m3)\n",
        "\n",
        "print(\"\\n###########Transpose###################\")\n",
        "print(np.transpose(m3))\n"
      ]
    },
    {
      "cell_type": "code",
      "execution_count": null,
      "metadata": {
        "id": "32X1TCZ9z_Ia",
        "outputId": "69f67b95-094e-4f82-a0e6-1e28643fec1f"
      },
      "outputs": [
        {
          "name": "stdout",
          "output_type": "stream",
          "text": [
            "\n",
            "###########Other way to transpose ###################\n"
          ]
        },
        {
          "data": {
            "text/plain": [
              "array([[ 90, 216, 342],\n",
              "       [ 96, 231, 366],\n",
              "       [102, 246, 390]])"
            ]
          },
          "execution_count": 21,
          "metadata": {},
          "output_type": "execute_result"
        }
      ],
      "source": [
        "print(\"\\n###########Other way to transpose ###################\")\n",
        "m3.T\n"
      ]
    },
    {
      "cell_type": "code",
      "execution_count": null,
      "metadata": {
        "id": "BBfIl6wHz_Ia",
        "outputId": "f0213b61-b538-4fce-e7ba-eef4cbb155ea"
      },
      "outputs": [
        {
          "name": "stdout",
          "output_type": "stream",
          "text": [
            "[120. 145. 170.]\n",
            "you can't add two arrays if dimentions are not same\n"
          ]
        }
      ],
      "source": [
        "v1=np.linspace(20,50,3)\n",
        "v2=np.linspace(100,120,3)\n",
        "print(v1+v2)\n",
        "\n",
        "print(\"you can't add two arrays if dimentions are not same, it will throw error\")\n",
        "v1=np.linspace(20,50,4) #dim 4\n",
        "v2=np.linspace(100,120,3) #dim 3\n",
        "#print(v1+v2)  #it will throw error"
      ]
    },
    {
      "cell_type": "code",
      "execution_count": null,
      "metadata": {
        "id": "Prq2aBedz_Ia",
        "outputId": "169b0693-a0c6-4f64-c4fd-d4aca3c67814"
      },
      "outputs": [
        {
          "name": "stdout",
          "output_type": "stream",
          "text": [
            "[2 3 4]\n",
            "[0.5        0.33333333 0.25      ]\n",
            "[ 4  9 16]\n"
          ]
        }
      ],
      "source": [
        "v1=np.arange(2,5,1)\n",
        "print(v1)\n",
        "print(1/v1)\n",
        "print(v1**2)"
      ]
    },
    {
      "cell_type": "code",
      "execution_count": null,
      "metadata": {
        "id": "wcBIoQL9z_Ia"
      },
      "outputs": [],
      "source": []
    }
  ],
  "metadata": {
    "kernelspec": {
      "display_name": "Python 3",
      "language": "python",
      "name": "python3"
    },
    "language_info": {
      "codemirror_mode": {
        "name": "ipython",
        "version": 3
      },
      "file_extension": ".py",
      "mimetype": "text/x-python",
      "name": "python",
      "nbconvert_exporter": "python",
      "pygments_lexer": "ipython3",
      "version": "3.11.4"
    },
    "orig_nbformat": 4,
    "colab": {
      "provenance": [],
      "include_colab_link": true
    }
  },
  "nbformat": 4,
  "nbformat_minor": 0
}