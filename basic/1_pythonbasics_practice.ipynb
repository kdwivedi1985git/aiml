{
  "cells": [
    {
      "cell_type": "markdown",
      "metadata": {
        "id": "view-in-github",
        "colab_type": "text"
      },
      "source": [
        "<a href=\"https://colab.research.google.com/github/kdwivedi1985git/datascience/blob/main/basic/1_pythonbasics_practice.ipynb\" target=\"_parent\"><img src=\"https://colab.research.google.com/assets/colab-badge.svg\" alt=\"Open In Colab\"/></a>"
      ]
    },
    {
      "cell_type": "markdown",
      "source": [
        "# This notebook covers basic stuff like variable declaration, condition, loop maths function, String, lambda etc."
      ],
      "metadata": {
        "id": "3nmRE5DT27bJ"
      },
      "id": "3nmRE5DT27bJ"
    },
    {
      "cell_type": "markdown",
      "source": [
        "## Python Keywords"
      ],
      "metadata": {
        "id": "o0EZG_2VwAl4"
      },
      "id": "o0EZG_2VwAl4"
    },
    {
      "cell_type": "code",
      "source": [
        "import keyword\n",
        "print(keyword.kwlist)"
      ],
      "metadata": {
        "colab": {
          "base_uri": "https://localhost:8080/"
        },
        "id": "1Woqjb6RwKZD",
        "outputId": "b91d9e64-d799-46dd-8fd5-037ccc2433f3"
      },
      "id": "1Woqjb6RwKZD",
      "execution_count": 168,
      "outputs": [
        {
          "output_type": "stream",
          "name": "stdout",
          "text": [
            "['False', 'None', 'True', 'and', 'as', 'assert', 'async', 'await', 'break', 'class', 'continue', 'def', 'del', 'elif', 'else', 'except', 'finally', 'for', 'from', 'global', 'if', 'import', 'in', 'is', 'lambda', 'nonlocal', 'not', 'or', 'pass', 'raise', 'return', 'try', 'while', 'with', 'yield']\n"
          ]
        }
      ]
    },
    {
      "cell_type": "markdown",
      "id": "9f462f54",
      "metadata": {
        "id": "9f462f54"
      },
      "source": [
        "# Min max between numbers and format method"
      ]
    },
    {
      "cell_type": "code",
      "execution_count": null,
      "id": "7318cb41",
      "metadata": {
        "id": "7318cb41",
        "outputId": "320e5fd1-0dc4-4bc3-fd4a-9cce2e4e9c5e",
        "colab": {
          "base_uri": "https://localhost:8080/"
        }
      },
      "outputs": [
        {
          "output_type": "stream",
          "name": "stdout",
          "text": [
            "20\n",
            "10\n",
            "max=20 and min=10\n"
          ]
        }
      ],
      "source": [
        "a=20\n",
        "b=10\n",
        "print(max(a,b))\n",
        "print(min(a,b))\n",
        "txt=\"max={} and min={}\"\n",
        "print(txt.format(max(a,b), min(a,b)))"
      ]
    },
    {
      "cell_type": "markdown",
      "id": "7d5bcda2",
      "metadata": {
        "id": "7d5bcda2"
      },
      "source": [
        "# Check Armstrong Number\n",
        "abcd... = pow(a,n) + pow(b,n) + pow(c,n) + pow(d,n) + ....\n",
        "153 is an Armstrong number.\n",
        "1*1*1 + 5*5*5 + 3*3*3 = 153"
      ]
    },
    {
      "cell_type": "code",
      "execution_count": null,
      "id": "fad86b39",
      "metadata": {
        "id": "fad86b39",
        "outputId": "518eea32-6791-428a-cf72-f470c7fd468e",
        "colab": {
          "base_uri": "https://localhost:8080/"
        }
      },
      "outputs": [
        {
          "output_type": "stream",
          "name": "stdout",
          "text": [
            "153\n"
          ]
        }
      ],
      "source": [
        "x=153\n",
        "\n",
        "tmpStr=str(x)\n",
        "y=len(tmpStr)\n",
        "sum=0\n",
        "\n",
        "while x > 10:\n",
        "    num=x%10\n",
        "    sum=sum+pow(num,y)\n",
        "    x=x//10\n",
        "\n",
        "sum=sum+pow(x,y)\n",
        "\n",
        "print(sum)"
      ]
    },
    {
      "cell_type": "markdown",
      "source": [
        "* / gives value in decimal while // will remove the decimal value while dividing tho numbers.\n",
        "- e.g. 153/10 = 15.3\n",
        "\n",
        "     153//10= 15"
      ],
      "metadata": {
        "id": "vCbqq4B84zes"
      },
      "id": "vCbqq4B84zes"
    },
    {
      "cell_type": "code",
      "execution_count": null,
      "id": "ca044f8c",
      "metadata": {
        "id": "ca044f8c",
        "colab": {
          "base_uri": "https://localhost:8080/"
        },
        "outputId": "b3a27943-187f-4e30-cb68-9f10a387670f"
      },
      "outputs": [
        {
          "output_type": "stream",
          "name": "stdout",
          "text": [
            "153\n"
          ]
        }
      ],
      "source": [
        "x=153\n",
        "\n",
        "tmpStr=str(x)\n",
        "y=len(tmpStr)\n",
        "total=0\n",
        "\n",
        "for num in tmpStr:\n",
        "    total+= int(num) ** y\n",
        "\n",
        "print(total)"
      ]
    },
    {
      "cell_type": "markdown",
      "id": "82f65710",
      "metadata": {
        "id": "82f65710"
      },
      "source": [
        "## Print Prime numbers\n"
      ]
    },
    {
      "cell_type": "markdown",
      "source": [
        "* input(<>) - is used for taking input from user\n",
        "- int(X) - will convert X in numeric value, if that is a number"
      ],
      "metadata": {
        "id": "jkklEwit5Puo"
      },
      "id": "jkklEwit5Puo"
    },
    {
      "cell_type": "code",
      "execution_count": null,
      "id": "a48e7c42",
      "metadata": {
        "id": "a48e7c42",
        "outputId": "bcd905ae-a462-4802-a0cd-f0e936bd0468",
        "colab": {
          "base_uri": "https://localhost:8080/"
        }
      },
      "outputs": [
        {
          "output_type": "stream",
          "name": "stdout",
          "text": [
            "Enter the interval for prime numbers 30\n",
            "[2, 3, 5, 7, 11, 13, 17, 19, 23, 25, 29]\n"
          ]
        }
      ],
      "source": [
        "x=int(input(\"Enter the interval for prime numbers \"))\n",
        "\n",
        "primeNum=[2,3]\n",
        "\n",
        "for i in range(4,x):\n",
        "    if i%2 !=0 and i%3 !=0:\n",
        "        primeNum.append(i)\n",
        "\n",
        "print(primeNum)\n"
      ]
    },
    {
      "cell_type": "code",
      "execution_count": null,
      "id": "6c555b49",
      "metadata": {
        "id": "6c555b49",
        "outputId": "f23aa27d-c509-4f55-cd6d-9429b1992d7e",
        "colab": {
          "base_uri": "https://localhost:8080/"
        }
      },
      "outputs": [
        {
          "output_type": "stream",
          "name": "stdout",
          "text": [
            "Enter the interval for prime numbers 30\n",
            "[2, 3, 5, 7, 11, 13, 17, 19, 23, 25, 29]\n"
          ]
        }
      ],
      "source": [
        "x=int(input(\"Enter the interval for prime numbers \"))\n",
        "\n",
        "primeNum=[2,3]\n",
        "primeNum=[i for i in range(4,x) if i%2 !=0 and i%3 !=0]\n",
        "\n",
        "\n",
        "primeNum.insert(0,2)\n",
        "primeNum.insert(1,3)\n",
        "print(primeNum)"
      ]
    },
    {
      "cell_type": "markdown",
      "id": "f7c8ef49",
      "metadata": {
        "id": "f7c8ef49"
      },
      "source": [
        "# Fibbonacci Series"
      ]
    },
    {
      "cell_type": "code",
      "execution_count": null,
      "id": "750d4192",
      "metadata": {
        "id": "750d4192",
        "outputId": "b7fe0b42-2fcc-4ef5-e34d-b2143c254d58",
        "colab": {
          "base_uri": "https://localhost:8080/"
        }
      },
      "outputs": [
        {
          "output_type": "stream",
          "name": "stdout",
          "text": [
            "Enter the number you want fibbonacci series upto 30\n",
            "[1, 2, 3, 5, 8, 13, 21]\n"
          ]
        }
      ],
      "source": [
        "x=int(input(\"Enter the number you want fibbonacci series upto \"))\n",
        "\n",
        "\n",
        "fibbo=[1,2]\n",
        "num=fibbo[-1]\n",
        "\n",
        "while num < x:\n",
        "    newnum=fibbo[-1]+fibbo[-2]\n",
        "    if newnum<x:\n",
        "        fibbo.append(newnum)\n",
        "    num=newnum\n",
        "\n",
        "print(fibbo)"
      ]
    },
    {
      "cell_type": "markdown",
      "source": [
        "#### Uncomment and run this if running next section throws - TypeError: 'int' object is not callable. This error comes if you define OOTB function as variable in you notebook. We have defined \"sum\" as variable above but \"sum()\" is OOTB function as well. Deleting the variable will remove the error. - **del sum**"
      ],
      "metadata": {
        "id": "36BERp-a9cNt"
      },
      "id": "36BERp-a9cNt"
    },
    {
      "cell_type": "code",
      "source": [
        "#del sum"
      ],
      "metadata": {
        "id": "wDTaNwEk8iJh"
      },
      "id": "wDTaNwEk8iJh",
      "execution_count": null,
      "outputs": []
    },
    {
      "cell_type": "code",
      "execution_count": null,
      "id": "844c6272",
      "metadata": {
        "id": "844c6272",
        "outputId": "de45ad43-3a6e-4df2-9ff7-116b6aa8104a",
        "colab": {
          "base_uri": "https://localhost:8080/"
        }
      },
      "outputs": [
        {
          "output_type": "stream",
          "name": "stdout",
          "text": [
            "53\n"
          ]
        }
      ],
      "source": [
        "print(sum(fibbo))"
      ]
    },
    {
      "cell_type": "markdown",
      "id": "ebd04616",
      "metadata": {
        "id": "ebd04616"
      },
      "source": [
        "# nth Fibbonacci number"
      ]
    },
    {
      "cell_type": "markdown",
      "id": "67aedbb8",
      "metadata": {
        "id": "67aedbb8"
      },
      "source": [
        "- Fibbonacci series with recursion\n",
        "- **def** keyword to defin the function"
      ]
    },
    {
      "cell_type": "code",
      "execution_count": null,
      "id": "0e2e7676",
      "metadata": {
        "id": "0e2e7676",
        "outputId": "b2dc2105-2937-4857-ee40-b7a411f86248",
        "colab": {
          "base_uri": "https://localhost:8080/"
        }
      },
      "outputs": [
        {
          "output_type": "execute_result",
          "data": {
            "text/plain": [
              "34"
            ]
          },
          "metadata": {},
          "execution_count": 79
        }
      ],
      "source": [
        "def fibbo(n):\n",
        "    if n<=0:\n",
        "        return \"Incorrect Num\"\n",
        "    elif n==1:\n",
        "        return 0\n",
        "    elif n==2:\n",
        "        return 1\n",
        "    else:\n",
        "        return fibbo(n-1)+fibbo(n-2)\n",
        "\n",
        "fibbo(10)"
      ]
    },
    {
      "cell_type": "markdown",
      "id": "f38e06b1",
      "metadata": {
        "id": "f38e06b1"
      },
      "source": [
        "# ASCII code\n",
        "\n",
        "The **ord()** function returns an integer representing the Unicode character"
      ]
    },
    {
      "cell_type": "code",
      "execution_count": null,
      "id": "9c2fda39",
      "metadata": {
        "id": "9c2fda39",
        "outputId": "822491c8-315e-4716-8a43-a21c124e77a1",
        "colab": {
          "base_uri": "https://localhost:8080/"
        }
      },
      "outputs": [
        {
          "output_type": "stream",
          "name": "stdout",
          "text": [
            "97\n",
            "100\n",
            "a\n",
            "d\n"
          ]
        }
      ],
      "source": [
        "ch='a'\n",
        "\n",
        "print(ord(ch))\n",
        "print(ord(ch)+3)\n",
        "print(chr(97))\n",
        "print(chr(ord(ch)+3))"
      ]
    },
    {
      "cell_type": "markdown",
      "id": "23d8fe3a",
      "metadata": {
        "id": "23d8fe3a"
      },
      "source": [
        "# Cube sum of n number\n",
        "\n",
        "- Iterating through loop and storing the output as list in one line."
      ]
    },
    {
      "cell_type": "code",
      "execution_count": null,
      "id": "33231bd5",
      "metadata": {
        "id": "33231bd5",
        "outputId": "80b05150-3548-4b78-e9b6-1613eae1dbbf",
        "colab": {
          "base_uri": "https://localhost:8080/"
        }
      },
      "outputs": [
        {
          "output_type": "stream",
          "name": "stdout",
          "text": [
            "[1, 8, 27, 64, 125]\n",
            "225\n"
          ]
        }
      ],
      "source": [
        "num=5\n",
        "\n",
        "x=[pow(i,3) for i in range(1,num+1)]\n",
        "print(x)\n",
        "print(sum(x))\n"
      ]
    },
    {
      "cell_type": "markdown",
      "id": "31382b9f",
      "metadata": {
        "id": "31382b9f"
      },
      "source": [
        "# Largest and Smallest element in an array"
      ]
    },
    {
      "cell_type": "code",
      "execution_count": null,
      "id": "1e38b148",
      "metadata": {
        "id": "1e38b148",
        "outputId": "3992966d-3d3b-4684-9a60-a08c5699048f",
        "colab": {
          "base_uri": "https://localhost:8080/"
        }
      },
      "outputs": [
        {
          "output_type": "stream",
          "name": "stdout",
          "text": [
            "1\n",
            "5348\n"
          ]
        }
      ],
      "source": [
        "arr=[4,5,2,5,7,324,7,5348,1,535,1,4]\n",
        "\n",
        "print(min(arr))\n",
        "print(max(arr))"
      ]
    },
    {
      "cell_type": "markdown",
      "id": "e678e4b5",
      "metadata": {
        "id": "e678e4b5"
      },
      "source": [
        "# Reverse the array"
      ]
    },
    {
      "cell_type": "code",
      "execution_count": null,
      "id": "653f70b2",
      "metadata": {
        "id": "653f70b2",
        "outputId": "a18da430-dc24-4a81-b9b9-b2a859d30bc6",
        "colab": {
          "base_uri": "https://localhost:8080/"
        }
      },
      "outputs": [
        {
          "output_type": "stream",
          "name": "stdout",
          "text": [
            "Reversed List:: [4, 1, 535, 1, 5348, 7, 324, 7, 5, 2, 5, 4]\n",
            "Every Alternate value in Reversed order:::: [4, 535, 5348, 324, 5, 5]\n",
            "All elements except last one:: [4, 5, 2, 5, 7, 324, 7, 5348, 1, 535, 1]\n",
            "All elements except last two:: [4, 5, 2, 5, 7, 324, 7, 5348, 1, 535]\n"
          ]
        }
      ],
      "source": [
        "print(\"Reversed List::\",arr[::-1])\n",
        "print(\"Every Alternate value in Reversed order::::\",arr[::-2])\n",
        "print(\"All elements except last one::\",arr[:-1])\n",
        "print(\"All elements except last two::\",arr[:-2])\n"
      ]
    },
    {
      "cell_type": "code",
      "execution_count": null,
      "id": "a3a28bbb",
      "metadata": {
        "id": "a3a28bbb",
        "outputId": "241c33e1-1b3b-4604-dcd8-1384c00bff3f",
        "colab": {
          "base_uri": "https://localhost:8080/"
        }
      },
      "outputs": [
        {
          "output_type": "stream",
          "name": "stdout",
          "text": [
            "[55, 44, 33, 22, 11]\n"
          ]
        }
      ],
      "source": [
        "arr = [11, 22, 33, 44, 55]\n",
        "arr.reverse()\n",
        "print(arr)"
      ]
    },
    {
      "cell_type": "markdown",
      "id": "d5e9d95d",
      "metadata": {
        "id": "d5e9d95d"
      },
      "source": [
        "# Reverse and pickup evey alternate"
      ]
    },
    {
      "cell_type": "code",
      "execution_count": null,
      "id": "4bb1e9ad",
      "metadata": {
        "id": "4bb1e9ad",
        "outputId": "ce6152d4-204b-4154-e199-83b7a2ebc743",
        "colab": {
          "base_uri": "https://localhost:8080/"
        }
      },
      "outputs": [
        {
          "output_type": "stream",
          "name": "stdout",
          "text": [
            "Reversed in difference on 2- [11, 33, 55]\n",
            "all before second last [55, 44, 33]\n"
          ]
        }
      ],
      "source": [
        "print(\"Reversed in difference on 2-\",arr[::-2])\n",
        "print(\"all before second last\",arr[:-2])"
      ]
    },
    {
      "cell_type": "markdown",
      "id": "b7e5c419",
      "metadata": {
        "id": "b7e5c419"
      },
      "source": [
        "# Program to Split the array and add the first part to the end"
      ]
    },
    {
      "cell_type": "code",
      "execution_count": 96,
      "id": "7690ff36",
      "metadata": {
        "id": "7690ff36",
        "outputId": "6909a344-04b5-4a65-b3d1-36cdbec48ffb",
        "colab": {
          "base_uri": "https://localhost:8080/"
        }
      },
      "outputs": [
        {
          "output_type": "stream",
          "name": "stdout",
          "text": [
            "[12, 10]\n",
            "[5, 6, 52, 36]\n",
            "[5, 6, 52, 36, 12, 10]\n"
          ]
        }
      ],
      "source": [
        "arr = [12, 10, 5, 6, 52, 36]\n",
        "\n",
        "x=arr[0:2]\n",
        "y=arr[2:len(arr)]\n",
        "\n",
        "print(x)\n",
        "print(y)\n",
        "\n",
        "z=y+x\n",
        "print(z)"
      ]
    },
    {
      "cell_type": "markdown",
      "id": "b382d0f5",
      "metadata": {
        "id": "b382d0f5"
      },
      "source": [
        "# lambda\n",
        "\n",
        "> Add blockquote\n",
        "\n"
      ]
    },
    {
      "cell_type": "code",
      "execution_count": 97,
      "id": "40979111",
      "metadata": {
        "id": "40979111",
        "outputId": "4e853eea-a11f-401d-86a0-dce27a5d3587",
        "colab": {
          "base_uri": "https://localhost:8080/"
        }
      },
      "outputs": [
        {
          "output_type": "stream",
          "name": "stdout",
          "text": [
            "27\n"
          ]
        }
      ],
      "source": [
        "x = (lambda a: pow(a,a)) (3)\n",
        "print(x)"
      ]
    },
    {
      "cell_type": "code",
      "execution_count": 98,
      "id": "418b0655",
      "metadata": {
        "id": "418b0655",
        "outputId": "a829e020-bae8-4fe9-b48b-f0909b4470a0",
        "colab": {
          "base_uri": "https://localhost:8080/"
        }
      },
      "outputs": [
        {
          "output_type": "stream",
          "name": "stdout",
          "text": [
            "100\n"
          ]
        }
      ],
      "source": [
        "x =lambda a: a*a\n",
        "print(x(10))"
      ]
    },
    {
      "cell_type": "code",
      "execution_count": 99,
      "id": "5c4801ce",
      "metadata": {
        "id": "5c4801ce",
        "outputId": "6d8eec6e-0e4e-47b2-85df-d56c6c3da0e1",
        "colab": {
          "base_uri": "https://localhost:8080/"
        }
      },
      "outputs": [
        {
          "output_type": "stream",
          "name": "stdout",
          "text": [
            "30\n"
          ]
        }
      ],
      "source": [
        "x=lambda a,b: a+b\n",
        "print(x(10,20))"
      ]
    },
    {
      "cell_type": "code",
      "execution_count": 100,
      "id": "04b05988",
      "metadata": {
        "id": "04b05988",
        "outputId": "03aeac0a-40e0-4003-ff1d-cc9a3adadd05",
        "colab": {
          "base_uri": "https://localhost:8080/"
        }
      },
      "outputs": [
        {
          "output_type": "stream",
          "name": "stdout",
          "text": [
            "1000\n",
            "1000\n",
            "1000\n"
          ]
        }
      ],
      "source": [
        "#Type1\n",
        "def cube(x):\n",
        "    return x*x*x\n",
        "\n",
        "print(cube(10))\n",
        "\n",
        "#Type2\n",
        "cb=(lambda y: y*y*y) (10)\n",
        "print(cb)\n",
        "\n",
        "#Type 3\n",
        "cb1=lambda y: y*y*y\n",
        "print(cb1(10))\n"
      ]
    },
    {
      "cell_type": "markdown",
      "id": "32570fce",
      "metadata": {
        "id": "32570fce"
      },
      "source": [
        "# Left Rotate the array from specified index"
      ]
    },
    {
      "cell_type": "code",
      "execution_count": null,
      "id": "a8629fff",
      "metadata": {
        "id": "a8629fff",
        "outputId": "a9019db6-9fb9-480a-d154-1601b3af2bb8"
      },
      "outputs": [
        {
          "name": "stdout",
          "output_type": "stream",
          "text": [
            "index= 3\n",
            "index= -5\n",
            "[2, 3, 4, 5, 6, 7, 8, 1]\n"
          ]
        }
      ],
      "source": [
        "num=4\n",
        "arr=[1,2,3,4,5,6,7,8]\n",
        "\n",
        "pidx=arr.index(num)\n",
        "nidx=pidx-len(arr)\n",
        "\n",
        "print(\"index=\",pidx)\n",
        "print(\"index=\",nidx)\n",
        "\n",
        "while pidx > nidx:\n",
        "    tmp=arr[pidx-1]\n",
        "    arr[pidx-1]=num\n",
        "    num=tmp\n",
        "    pidx=pidx-1\n",
        "\n",
        "print(arr)\n"
      ]
    },
    {
      "cell_type": "markdown",
      "id": "c9ceddda",
      "metadata": {
        "id": "c9ceddda"
      },
      "source": [
        "# Enumerate - index and value"
      ]
    },
    {
      "cell_type": "code",
      "execution_count": 101,
      "id": "9a52c9e0",
      "metadata": {
        "id": "9a52c9e0",
        "outputId": "07f3e757-194e-433c-addc-bf3c3c7e3460",
        "colab": {
          "base_uri": "https://localhost:8080/"
        }
      },
      "outputs": [
        {
          "output_type": "stream",
          "name": "stdout",
          "text": [
            "0 :: 100\n",
            "1 :: 200\n",
            "2 :: 300\n",
            "3 :: 400\n",
            "4 :: 5000\n",
            "5 :: 600\n",
            "6 :: 70\n",
            "7 :: 80\n"
          ]
        }
      ],
      "source": [
        "arr=[100,200,300,400,5000,600,70,80]\n",
        "\n",
        "for i, j in enumerate(arr):\n",
        "    print(i,\"::\",j)"
      ]
    },
    {
      "cell_type": "markdown",
      "id": "dca5ab54",
      "metadata": {
        "id": "dca5ab54"
      },
      "source": [
        "# Swap Two Elements in a List"
      ]
    },
    {
      "cell_type": "code",
      "execution_count": null,
      "id": "498c878d",
      "metadata": {
        "id": "498c878d",
        "outputId": "592d42d0-093d-47e4-dec6-c4c800316636"
      },
      "outputs": [
        {
          "name": "stdout",
          "output_type": "stream",
          "text": [
            "[1, 2, 3, 4, 5]\n",
            "['2', '4']\n",
            "[1, 2, 5, 4, 3]\n"
          ]
        }
      ],
      "source": [
        "lst = [1, 2, 3, 4, 5]\n",
        "print(lst)\n",
        "\n",
        "poslist = input(\"Input two number in comma seperated way \")\n",
        "#pos = list(map(int,poslist.split(','))) #This should work, map calls the first paramenter for each item in the list\n",
        "pos=poslist.split(',')\n",
        "print(pos)\n",
        "\n",
        "x=lst[int(pos[0])]\n",
        "lst[int(pos[0])]=lst[int(pos[1])]\n",
        "lst[int(pos[1])]=x\n",
        "\n",
        "\n",
        "print(lst)"
      ]
    },
    {
      "cell_type": "markdown",
      "id": "d6a9a211",
      "metadata": {
        "id": "d6a9a211"
      },
      "source": [
        "# Check if element exists in list in Python"
      ]
    },
    {
      "cell_type": "code",
      "execution_count": 102,
      "id": "2db55242",
      "metadata": {
        "id": "2db55242",
        "outputId": "9a738667-0f85-421b-af84-9311e306b641",
        "colab": {
          "base_uri": "https://localhost:8080/"
        }
      },
      "outputs": [
        {
          "output_type": "stream",
          "name": "stdout",
          "text": [
            "Which number you want to seach? 5\n",
            "5 Exists!\n"
          ]
        }
      ],
      "source": [
        "lst = [1, 6, 3, 5, 3, 4]\n",
        "x=int(input(\"Which number you want to seach? \"))\n",
        "\n",
        "if x in lst:\n",
        "    print(x,\"Exists!\")\n",
        "else:\n",
        "    print(x,\"doesn't exists!\")"
      ]
    },
    {
      "cell_type": "markdown",
      "id": "31ce4b46",
      "metadata": {
        "id": "31ce4b46"
      },
      "source": [
        "# Different ways to clear a list in Python"
      ]
    },
    {
      "cell_type": "code",
      "execution_count": 103,
      "id": "e01f9b8a",
      "metadata": {
        "id": "e01f9b8a",
        "outputId": "3f500328-0678-4ded-bd9d-985f77be2f6d",
        "colab": {
          "base_uri": "https://localhost:8080/",
          "height": 292
        }
      },
      "outputs": [
        {
          "output_type": "stream",
          "name": "stdout",
          "text": [
            "[]\n",
            "[1, 6, 3, 5, 3]\n",
            "[1, 3, 5, 3]\n",
            "['a', 'c', 'd']\n",
            "[]\n",
            "[]\n"
          ]
        },
        {
          "output_type": "error",
          "ename": "NameError",
          "evalue": "name 'lst' is not defined",
          "traceback": [
            "\u001b[0;31m---------------------------------------------------------------------------\u001b[0m",
            "\u001b[0;31mNameError\u001b[0m                                 Traceback (most recent call last)",
            "\u001b[0;32m<ipython-input-103-b857e805c42e>\u001b[0m in \u001b[0;36m<cell line: 27>\u001b[0;34m()\u001b[0m\n\u001b[1;32m     25\u001b[0m \u001b[0;34m\u001b[0m\u001b[0m\n\u001b[1;32m     26\u001b[0m \u001b[0;32mdel\u001b[0m\u001b[0;34m(\u001b[0m\u001b[0mlst\u001b[0m\u001b[0;34m)\u001b[0m \u001b[0;31m#or del lst\u001b[0m\u001b[0;34m\u001b[0m\u001b[0;34m\u001b[0m\u001b[0m\n\u001b[0;32m---> 27\u001b[0;31m \u001b[0mprint\u001b[0m\u001b[0;34m(\u001b[0m\u001b[0mlst\u001b[0m\u001b[0;34m)\u001b[0m \u001b[0;31m#removes the object from memory\u001b[0m\u001b[0;34m\u001b[0m\u001b[0;34m\u001b[0m\u001b[0m\n\u001b[0m",
            "\u001b[0;31mNameError\u001b[0m: name 'lst' is not defined"
          ]
        }
      ],
      "source": [
        "lst = [1, 6, 3, 5, 3, 4]\n",
        "lst.clear()\n",
        "print(lst)\n",
        "\n",
        "lst = [1, 6, 3, 5, 3, 4]\n",
        "lst.pop()\n",
        "print(lst)\n",
        "\n",
        "lst.remove(6)\n",
        "print(lst)\n",
        "\n",
        "lst = ['a', 'b', 'c', 'd']\n",
        "lst.remove('b')\n",
        "print(lst)\n",
        "\n",
        "\n",
        "lst = [1, 6, 3, 5, 3, 4]\n",
        "lst=[]\n",
        "print(lst)\n",
        "\n",
        "lst = [1, 6, 3, 5, 3, 4]\n",
        "del lst[:]\n",
        "print(lst)\n",
        "\n",
        "\n",
        "del(lst) #or del lst\n",
        "print(lst) #removes the object from memory"
      ]
    },
    {
      "cell_type": "markdown",
      "id": "5e18dc97",
      "metadata": {
        "id": "5e18dc97"
      },
      "source": [
        "# Python program to find sum,max,min of elements in list\n"
      ]
    },
    {
      "cell_type": "code",
      "execution_count": 104,
      "id": "307e4253",
      "metadata": {
        "id": "307e4253",
        "outputId": "5be1ad00-b2c4-4a4d-f187-69fb09288ecc",
        "colab": {
          "base_uri": "https://localhost:8080/"
        }
      },
      "outputs": [
        {
          "output_type": "stream",
          "name": "stdout",
          "text": [
            "40\n",
            "15\n",
            "3\n"
          ]
        }
      ],
      "source": [
        "lst=[12, 15, 3, 10]\n",
        "print(sum(lst))\n",
        "print(max(lst))\n",
        "print(min(lst))\n"
      ]
    },
    {
      "cell_type": "markdown",
      "id": "74334aec",
      "metadata": {
        "id": "74334aec"
      },
      "source": [
        "# Multiply all numbers in the list"
      ]
    },
    {
      "cell_type": "code",
      "execution_count": 105,
      "id": "74b52d07",
      "metadata": {
        "id": "74b52d07",
        "outputId": "e16fd0f5-61e2-4f22-dfe1-f742995c773c",
        "colab": {
          "base_uri": "https://localhost:8080/"
        }
      },
      "outputs": [
        {
          "output_type": "stream",
          "name": "stdout",
          "text": [
            "300\n"
          ]
        }
      ],
      "source": [
        "lst = [1, 2, 3,5,10]\n",
        "\n",
        "def multiply(mylist):\n",
        "    res=0\n",
        "    for i in mylist:\n",
        "        if(res==0):\n",
        "            res=i\n",
        "        else:\n",
        "            res=res*i\n",
        "    return res\n",
        "\n",
        "print(multiply(lst))"
      ]
    },
    {
      "cell_type": "markdown",
      "id": "a0167d83",
      "metadata": {
        "id": "a0167d83"
      },
      "source": [
        "# find N largest elements from a list"
      ]
    },
    {
      "cell_type": "code",
      "execution_count": 106,
      "id": "63f0a113",
      "metadata": {
        "id": "63f0a113",
        "outputId": "18d5585c-e442-407f-e3b0-60e532d25a22",
        "colab": {
          "base_uri": "https://localhost:8080/"
        }
      },
      "outputs": [
        {
          "output_type": "stream",
          "name": "stdout",
          "text": [
            "{1, 2, 3, 5, 6, 7, 9, 15, 90}\n",
            "3\n"
          ]
        }
      ],
      "source": [
        "mylst=[2,6,1,90,3,5,7,15,9,1]\n",
        "myset=set(mylst)\n",
        "print(myset)\n",
        "#since, set doesn't have index method to read the value, conver that to list\n",
        "finallist=list(myset)\n",
        "#n largest = n-1\n",
        "print(finallist[2])\n"
      ]
    },
    {
      "cell_type": "markdown",
      "id": "7cd098cc",
      "metadata": {
        "id": "7cd098cc"
      },
      "source": [
        "# print even numbers in a list\n"
      ]
    },
    {
      "cell_type": "code",
      "execution_count": 107,
      "id": "6bceaec3",
      "metadata": {
        "id": "6bceaec3",
        "outputId": "dc40de68-45ed-4fdf-e27e-7f164fcc4b48",
        "colab": {
          "base_uri": "https://localhost:8080/"
        }
      },
      "outputs": [
        {
          "output_type": "stream",
          "name": "stdout",
          "text": [
            "[2, 64, 14]\n"
          ]
        }
      ],
      "source": [
        "arr=[2, 7, 5, 64, 14]\n",
        "\n",
        "res=[i for i in arr if i%2==0]\n",
        "print(res)\n",
        "\n"
      ]
    },
    {
      "cell_type": "markdown",
      "id": "35955a38",
      "metadata": {
        "id": "35955a38"
      },
      "source": [
        "# print all positive numbers in a range"
      ]
    },
    {
      "cell_type": "code",
      "execution_count": 108,
      "id": "537ac44f",
      "metadata": {
        "id": "537ac44f",
        "outputId": "41285e62-42a9-4741-bd1e-cbeadf07cb94",
        "colab": {
          "base_uri": "https://localhost:8080/"
        }
      },
      "outputs": [
        {
          "output_type": "stream",
          "name": "stdout",
          "text": [
            "0\n",
            "1\n",
            "2\n",
            "3\n",
            "4\n",
            "5\n"
          ]
        }
      ],
      "source": [
        "start,end = -4,5\n",
        "\n",
        "for i in range(start, end+1):\n",
        "    if i>=0:\n",
        "        print(i)\n",
        "\n"
      ]
    },
    {
      "cell_type": "markdown",
      "id": "fe8de944",
      "metadata": {
        "id": "fe8de944"
      },
      "source": [
        "# Print the negative numbers in the list"
      ]
    },
    {
      "cell_type": "code",
      "execution_count": 109,
      "id": "116d9a2e",
      "metadata": {
        "id": "116d9a2e",
        "outputId": "fda32566-ac32-493c-da72-2f9ad116598f",
        "colab": {
          "base_uri": "https://localhost:8080/"
        }
      },
      "outputs": [
        {
          "output_type": "stream",
          "name": "stdout",
          "text": [
            "-21\n",
            "-93\n"
          ]
        }
      ],
      "source": [
        "lst = [11, -21, 0, 45, 66, -93]\n",
        "\n",
        "for i in lst:\n",
        "    if i<0:\n",
        "        print(i)\n"
      ]
    },
    {
      "cell_type": "markdown",
      "id": "cb329b15",
      "metadata": {
        "id": "cb329b15"
      },
      "source": [
        "# Remove multiple elements from a list in Python"
      ]
    },
    {
      "cell_type": "code",
      "execution_count": 110,
      "id": "fab7db44",
      "metadata": {
        "id": "fab7db44",
        "outputId": "2d29a3a3-3b9e-4c68-af47-4317374e4d6a",
        "colab": {
          "base_uri": "https://localhost:8080/"
        }
      },
      "outputs": [
        {
          "output_type": "stream",
          "name": "stdout",
          "text": [
            "[11, 23, 50]\n"
          ]
        }
      ],
      "source": [
        "input=[11, 5, 17, 18, 23, 50]\n",
        "del input[1:4]\n",
        "print(input)"
      ]
    },
    {
      "cell_type": "markdown",
      "id": "5715301a",
      "metadata": {
        "id": "5715301a"
      },
      "source": [
        "# Remove empty List from List"
      ]
    },
    {
      "cell_type": "code",
      "execution_count": 112,
      "id": "6e1fc879",
      "metadata": {
        "id": "6e1fc879",
        "outputId": "de153a4e-4c32-4e11-aeee-d50abef8a5a5",
        "colab": {
          "base_uri": "https://localhost:8080/"
        }
      },
      "outputs": [
        {
          "output_type": "stream",
          "name": "stdout",
          "text": [
            "[5, 6, 3, 9]\n",
            "[5, 6, 3, 9]\n",
            "[5, 6, 3, 9]\n"
          ]
        }
      ],
      "source": [
        "test_list = [5, 6, [], 3, [], [], 9]\n",
        "\n",
        "res = [i for i in test_list if i !=[]]\n",
        "print(res)\n",
        "\n",
        "res1= list(filter(None,test_list))\n",
        "print(res1)\n",
        "\n",
        "while [] in test_list:\n",
        "    test_list.remove([])\n",
        "print(test_list)\n"
      ]
    },
    {
      "cell_type": "markdown",
      "id": "672c64ee",
      "metadata": {
        "id": "672c64ee"
      },
      "source": [
        "# Cloning or Copying a list"
      ]
    },
    {
      "cell_type": "code",
      "execution_count": 113,
      "id": "a39f3cc0",
      "metadata": {
        "id": "a39f3cc0",
        "outputId": "5137ed68-d597-45b9-881e-2f096215e81f",
        "colab": {
          "base_uri": "https://localhost:8080/"
        }
      },
      "outputs": [
        {
          "output_type": "stream",
          "name": "stdout",
          "text": [
            "[4, 8, 2, 10, 15, 18]\n",
            "[4, 8, 2, 10, 15, 18]\n"
          ]
        }
      ],
      "source": [
        "lst = [4, 8, 2, 10, 15, 18]\n",
        "lst1=lst.copy()\n",
        "del lst\n",
        "print(lst1)\n",
        "\n",
        "lst2=lst1[:]\n",
        "del lst1\n",
        "print(lst2)\n"
      ]
    },
    {
      "cell_type": "markdown",
      "id": "85ad4104",
      "metadata": {
        "id": "85ad4104"
      },
      "source": [
        "# Count occurrences of an element in a list"
      ]
    },
    {
      "cell_type": "code",
      "execution_count": 114,
      "id": "2759d8a9",
      "metadata": {
        "id": "2759d8a9",
        "outputId": "cd81ba69-4e23-49b9-ba27-bbc4b2b68e4f",
        "colab": {
          "base_uri": "https://localhost:8080/"
        }
      },
      "outputs": [
        {
          "output_type": "stream",
          "name": "stdout",
          "text": [
            "8 occurs 5 times\n"
          ]
        }
      ],
      "source": [
        "find=8\n",
        "lst = [8, 6, 8, 10, 8, 20, 10, 8, 8]\n",
        "\n",
        "count=0\n",
        "for i in lst:\n",
        "    if i==find:\n",
        "        count+=1\n",
        "print(find, \"occurs\", count, \"times\")"
      ]
    },
    {
      "cell_type": "markdown",
      "id": "5554ada0",
      "metadata": {
        "id": "5554ada0"
      },
      "source": [
        "# Remove empty tuples from a list"
      ]
    },
    {
      "cell_type": "code",
      "execution_count": null,
      "id": "3809d560",
      "metadata": {
        "id": "3809d560",
        "outputId": "65481b6b-7607-4b33-de24-eaf9ce07f5e2"
      },
      "outputs": [
        {
          "name": "stdout",
          "output_type": "stream",
          "text": [
            "[('ram', '15', '8'), ('laxman', 'sita'), '45', ',']\n"
          ]
        }
      ],
      "source": [
        "lst = [(), (\"ram\",\"15\",\"8\"), (), (\"laxman\", \"sita\"), (\"45\"), (\",\"),()]\n",
        "\n",
        "while () in lst:\n",
        "    lst.remove(())\n",
        "\n",
        "print(lst)"
      ]
    },
    {
      "cell_type": "markdown",
      "id": "8dfc84f0",
      "metadata": {
        "id": "8dfc84f0"
      },
      "source": [
        "# print duplicates from a list of integers"
      ]
    },
    {
      "cell_type": "code",
      "execution_count": 115,
      "id": "fe9b47c6",
      "metadata": {
        "id": "fe9b47c6",
        "outputId": "c2c62d87-6c54-4f82-c91e-314e30e26b91",
        "colab": {
          "base_uri": "https://localhost:8080/"
        }
      },
      "outputs": [
        {
          "output_type": "stream",
          "name": "stdout",
          "text": [
            "{40, 10, -20, 50, 20, 60, 30}\n"
          ]
        }
      ],
      "source": [
        "list = [10, 20, 30, 20, 20, 30, 40, 50, -20, 60, 60, -20, -20]\n",
        "\n",
        "myset=set(list)\n",
        "print(myset)"
      ]
    },
    {
      "cell_type": "markdown",
      "id": "2dc626d5",
      "metadata": {
        "id": "2dc626d5"
      },
      "source": [
        "# Sort the values of first list using second list"
      ]
    },
    {
      "cell_type": "code",
      "execution_count": 125,
      "id": "f4a6464e",
      "metadata": {
        "id": "f4a6464e",
        "outputId": "20ac435b-39ae-45c4-c52a-c05185c93e5c",
        "colab": {
          "base_uri": "https://localhost:8080/"
        }
      },
      "outputs": [
        {
          "output_type": "stream",
          "name": "stdout",
          "text": [
            "['a', 'd', 'h', 'b', 'c', 'e', 'i', 'f', 'g']\n"
          ]
        }
      ],
      "source": [
        "list1 = [\"a\", \"b\", \"c\", \"d\", \"e\", \"f\", \"g\", \"h\", \"i\"]\n",
        "list2 = [ 0,   1,   1,    0,   1,   2,   2,   0,   1]\n",
        "\n",
        "\n",
        "\n",
        "paired= zip(list2,list1)\n",
        "#print(sorted(paired))\n",
        "\n",
        "\n",
        "\n",
        "res=[i[1] for i in sorted(paired)]\n",
        "print(res)"
      ]
    },
    {
      "cell_type": "markdown",
      "id": "a7df7245",
      "metadata": {
        "id": "a7df7245"
      },
      "source": [
        "# check whether the string is Symmetrical or Palindrome"
      ]
    },
    {
      "cell_type": "code",
      "execution_count": 129,
      "id": "1d0f5ff0",
      "metadata": {
        "id": "1d0f5ff0",
        "outputId": "98650009-6263-4b8b-b46f-28cab18e7187",
        "colab": {
          "base_uri": "https://localhost:8080/"
        }
      },
      "outputs": [
        {
          "output_type": "stream",
          "name": "stdout",
          "text": [
            "amaama\n",
            "String is palindrom\n"
          ]
        }
      ],
      "source": [
        "teststr=\"amaama\"\n",
        "revstr=teststr[::-1]\n",
        "\n",
        "print(revstr)\n",
        "if teststr == revstr :\n",
        "    print(\"String is palindrom\")\n"
      ]
    },
    {
      "cell_type": "markdown",
      "id": "6d1094b7",
      "metadata": {
        "id": "6d1094b7"
      },
      "source": [
        "# Reverse Words in a Given String"
      ]
    },
    {
      "cell_type": "code",
      "execution_count": 138,
      "id": "7fd0bb16",
      "metadata": {
        "id": "7fd0bb16",
        "outputId": "721c854c-f1a6-4afe-f937-ed0ef7362194",
        "colab": {
          "base_uri": "https://localhost:8080/"
        }
      },
      "outputs": [
        {
          "output_type": "stream",
          "name": "stdout",
          "text": [
            "['code', 'practice', 'quiz', 'good']\n",
            "['code', 'practice', 'quiz', 'good']\n",
            "code practice quiz good \n"
          ]
        }
      ],
      "source": [
        "str =\" good quiz practice code\"\n",
        "print(str.split()[::-1])\n",
        "\n",
        "#OR\n",
        "wrd= str.strip().split(\" \")\n",
        "reversedStr= wrd[::-1]\n",
        "print(reversedStr)\n",
        "\n",
        "res=\"\"\n",
        "for i in reversedStr:\n",
        "    res=res+i+\" \"\n",
        "print(res)\n"
      ]
    },
    {
      "cell_type": "markdown",
      "id": "0535e3e8",
      "metadata": {
        "id": "0535e3e8"
      },
      "source": [
        "#  Remove/Replcae Letters From a String"
      ]
    },
    {
      "cell_type": "code",
      "execution_count": 139,
      "metadata": {
        "id": "yCvHJ_MruvGG",
        "outputId": "e742895f-3758-4648-eccc-6e13954f0ac7",
        "colab": {
          "base_uri": "https://localhost:8080/"
        }
      },
      "outputs": [
        {
          "output_type": "stream",
          "name": "stdout",
          "text": [
            "Good123For123Good\n",
            "Good123For123Good\n",
            "GoodForGood\n"
          ]
        }
      ],
      "source": [
        "str=\"Good123For123Good\"\n",
        "\n",
        "str1=str.replace(\"e\",\"X\")\n",
        "print(str1)\n",
        "\n",
        "str2=str1.replace(\"X\",\"\")\n",
        "print(str2)\n",
        "\n",
        "str = 'Good123For123Good'\n",
        "str3=str.translate( {ord(i): None for i in \"123\"})\n",
        "print(str3)"
      ],
      "id": "yCvHJ_MruvGG"
    },
    {
      "cell_type": "markdown",
      "id": "60141b20",
      "metadata": {
        "id": "60141b20"
      },
      "source": [
        "# String Contains Substring"
      ]
    },
    {
      "cell_type": "code",
      "execution_count": 140,
      "id": "d8bbb8a3",
      "metadata": {
        "id": "d8bbb8a3",
        "outputId": "0ecb79b2-6413-41ee-897a-06dcf0e4c8ab",
        "colab": {
          "base_uri": "https://localhost:8080/"
        }
      },
      "outputs": [
        {
          "output_type": "stream",
          "name": "stdout",
          "text": [
            "exist!\n",
            "exist!\n",
            "exist!\n"
          ]
        }
      ],
      "source": [
        "MyString1 = \"A person in need is a geek indeed\"\n",
        "\n",
        "if \"geek\" in MyString1:\n",
        "    print(\"exist!\")\n",
        "else:\n",
        "    print(\"Doesn't exists!\")\n",
        "\n",
        "if MyString1.find(\"person\") !=-1:\n",
        "    print(\"exist!\")\n",
        "else:\n",
        "    print(\"Doesn't exists!\")\n",
        "\n",
        "\n",
        "if MyString1.count(\"person\") > 0:\n",
        "    print(\"exist!\")\n",
        "else:\n",
        "    print(\"Doesn't exists!\")\n"
      ]
    },
    {
      "cell_type": "markdown",
      "id": "29c40aca",
      "metadata": {
        "id": "29c40aca"
      },
      "source": [
        "# Words Frequency - String to Map of word count"
      ]
    },
    {
      "cell_type": "code",
      "execution_count": 141,
      "id": "f1fe8368",
      "metadata": {
        "id": "f1fe8368",
        "outputId": "1cdbd74f-37df-44a4-e04d-d256f814c2c7",
        "colab": {
          "base_uri": "https://localhost:8080/"
        }
      },
      "outputs": [
        {
          "output_type": "stream",
          "name": "stdout",
          "text": [
            "{'Gfg': 2, 'is': 1, 'best': 1, '.': 1, 'People': 2, 'are': 1, 'good': 1, 'and': 1, 'like': 1}\n"
          ]
        }
      ],
      "source": [
        "mystr = \"Gfg is best . People are good and People like Gfg\"\n",
        "\n",
        "mydisc= {key: mystr.count(key) for key in mystr.split()}\n",
        "print(mydisc)"
      ]
    },
    {
      "cell_type": "markdown",
      "id": "40565d17",
      "metadata": {
        "id": "40565d17"
      },
      "source": [
        "# print even length words in a string"
      ]
    },
    {
      "cell_type": "code",
      "execution_count": 137,
      "id": "7c517647",
      "metadata": {
        "id": "7c517647",
        "outputId": "2f2eca47-7671-4307-b989-baf2279b8822",
        "colab": {
          "base_uri": "https://localhost:8080/"
        }
      },
      "outputs": [
        {
          "output_type": "stream",
          "name": "stdout",
          "text": [
            "['my', 'name', 'is', 'Kamal!']\n"
          ]
        }
      ],
      "source": [
        "mystr=\" Hello my name is Kamal!\"\n",
        "\n",
        "mylst=[word for word in mystr.strip().split() if len(word)%2==0]\n",
        "print(mylst)\n"
      ]
    },
    {
      "cell_type": "markdown",
      "id": "d6581f85",
      "metadata": {
        "id": "d6581f85"
      },
      "source": [
        "# Program to Accept the Strings Which Contains all Vowels\n",
        "- User **intersection** and **difference** function"
      ]
    },
    {
      "cell_type": "code",
      "execution_count": 143,
      "id": "2eba3b9f",
      "metadata": {
        "id": "2eba3b9f",
        "outputId": "f5deb2d3-a961-4cab-b0bb-96b6cc678fd6",
        "colab": {
          "base_uri": "https://localhost:8080/"
        }
      },
      "outputs": [
        {
          "output_type": "stream",
          "name": "stdout",
          "text": [
            "[0, 0, 0, 5, 0]\n",
            "Not Accepted\n",
            "Not Accepted\n",
            "{'u', 'o', 'a', 'i', 'e'}\n",
            "Not accepted\n",
            "is Accpted: True\n",
            "Not accepted\n",
            "Accpted\n"
          ]
        }
      ],
      "source": [
        "input=\"goodforgood\".lower()\n",
        "\n",
        "vowels=[input.count(\"a\"),input.count(\"e\"),input.count(\"i\"),input.count(\"o\"),input.count(\"u\")]\n",
        "print(vowels)\n",
        "\n",
        "if vowels.index(0) !=-1:\n",
        "    print(\"Not Accepted\")\n",
        "else:\n",
        "    print(\"Accepted\")\n",
        "\n",
        "if vowels.count(0) > 0:\n",
        "    print(\"Not Accepted\")\n",
        "else:\n",
        "    print(\"Accepted\")\n",
        "\n",
        "\n",
        "####OR###########\n",
        "myinput=\"q ew aodsfds u fdsfi\"\n",
        "myset=set(myinput)\n",
        "vow=\"aeiou\"\n",
        "\n",
        "res=myset.intersection(vow)\n",
        "print(res)\n",
        "if(len(res)>5):\n",
        "    print(\"Accepted\")\n",
        "else:\n",
        "    print(\"Not accepted\")\n",
        "\n",
        "print(\"is Accpted:\",set(vow).issubset(myinput))\n",
        "\n",
        "###OR###\n",
        "if set(vow).difference(myinput)==0:\n",
        "    print(\"Accepted\")\n",
        "else:\n",
        "    print(\"Not accepted\")\n",
        "####OR###########\n",
        "\n",
        "myinput=\"q ew aodsfds u fdsfi\"\n",
        "\n",
        "if all(v in myinput for v in vow):\n",
        "    print(\"Accpted\")\n",
        "else:\n",
        "    print(\"NO\")\n",
        "\n"
      ]
    },
    {
      "cell_type": "markdown",
      "id": "29995f2f",
      "metadata": {
        "id": "29995f2f"
      },
      "source": [
        "# Least Frequent Character in String"
      ]
    },
    {
      "cell_type": "code",
      "execution_count": 144,
      "id": "b9c3960a",
      "metadata": {
        "id": "b9c3960a",
        "outputId": "ef7b8833-74de-4c48-e8b0-3f8184d81d65",
        "colab": {
          "base_uri": "https://localhost:8080/"
        }
      },
      "outputs": [
        {
          "output_type": "stream",
          "name": "stdout",
          "text": [
            "{'G': 2, 'o': 5, 'd': 2, 'f': 1, 'r': 1}\n",
            "G 2\n",
            "o 5\n",
            "d 2\n",
            "f 1\n",
            "r 1\n"
          ]
        },
        {
          "output_type": "execute_result",
          "data": {
            "text/plain": [
              "[('f', 1), ('r', 1), ('G', 2), ('d', 2), ('o', 5)]"
            ]
          },
          "metadata": {},
          "execution_count": 144
        }
      ],
      "source": [
        "str = \"GoodforGood\"\n",
        "\n",
        "disc={ch:str.count(ch) for ch in str}\n",
        "print(disc)\n",
        "\n",
        "for i,j in disc.items():\n",
        "    print(i,j)\n",
        "\n",
        "sorted(disc.items(),key=lambda x:x[1])"
      ]
    },
    {
      "cell_type": "markdown",
      "id": "373051cd",
      "metadata": {
        "id": "373051cd"
      },
      "source": [
        "# Maximum frequency character in String"
      ]
    },
    {
      "cell_type": "code",
      "execution_count": 145,
      "id": "25faef8d",
      "metadata": {
        "id": "25faef8d",
        "outputId": "dcf7162a-e50a-448a-fbd3-9e474b21aad9",
        "colab": {
          "base_uri": "https://localhost:8080/"
        }
      },
      "outputs": [
        {
          "output_type": "stream",
          "name": "stdout",
          "text": [
            "{'G': 2, 'o': 5, 'd': 2, 'f': 1, 'r': 1}\n"
          ]
        }
      ],
      "source": [
        "str = \"GoodforGood\"\n",
        "\n",
        "mydisc={}\n",
        "for ch in str:\n",
        "    if ch in mydisc:\n",
        "        mydisc[ch]+=1\n",
        "    else:\n",
        "        mydisc[ch]=1\n",
        "\n",
        "print(mydisc)"
      ]
    },
    {
      "cell_type": "markdown",
      "id": "2a24d2a8",
      "metadata": {
        "id": "2a24d2a8"
      },
      "source": [
        "# check if a string contains any special character"
      ]
    },
    {
      "cell_type": "code",
      "execution_count": 146,
      "id": "fcc486e9",
      "metadata": {
        "id": "fcc486e9",
        "outputId": "3f76aa56-b5cb-494f-e974-5fb30ed9a86e",
        "colab": {
          "base_uri": "https://localhost:8080/"
        }
      },
      "outputs": [
        {
          "output_type": "stream",
          "name": "stdout",
          "text": [
            "GoodforGood\n"
          ]
        }
      ],
      "source": [
        "str=\"Good$for$Good\"\n",
        "\n",
        "spcl=\"!@#$%^&*()_\"\n",
        "\n",
        "for ch in str:\n",
        "    if ch in spcl:\n",
        "        str=str.replace(ch,\"\")\n",
        "print(str)\n",
        "\n"
      ]
    },
    {
      "cell_type": "markdown",
      "id": "6ae18123",
      "metadata": {
        "id": "6ae18123"
      },
      "source": [
        "#  Remove i-th character from a string"
      ]
    },
    {
      "cell_type": "code",
      "execution_count": 151,
      "id": "4914aa1e",
      "metadata": {
        "id": "4914aa1e",
        "outputId": "4aad14f2-4a5d-4ab0-aa93-a2443d37bb5d",
        "colab": {
          "base_uri": "https://localhost:8080/"
        }
      },
      "outputs": [
        {
          "output_type": "stream",
          "name": "stdout",
          "text": [
            "G  o  o  d  f  o  r  G  o  o  d\n",
            "['G', 'o', 'o', 'd', 'f', 'o', 'r', 'G', 'o', 'o', 'd']\n",
            "['G', 'o', 'o', 'd', 'f', 'r', 'G', 'o', 'o', 'd']\n"
          ]
        }
      ],
      "source": [
        "str=\"GoodforGood\"\n",
        "print(\"  \".join(str))\n",
        "strlst=\" \".join(str).split(\" \")\n",
        "print(strlst)\n",
        "del strlst[5]\n",
        "\n",
        "print(strlst)\n",
        "\n"
      ]
    },
    {
      "cell_type": "markdown",
      "id": "74e3683d",
      "metadata": {
        "id": "74e3683d"
      },
      "source": [
        "# Find all duplicate characters in string"
      ]
    },
    {
      "cell_type": "code",
      "execution_count": 153,
      "id": "700193e1",
      "metadata": {
        "id": "700193e1",
        "outputId": "ff995949-07ff-47fc-d2af-fc334a9ed034",
        "colab": {
          "base_uri": "https://localhost:8080/"
        }
      },
      "outputs": [
        {
          "output_type": "stream",
          "name": "stdout",
          "text": [
            "{'G', 'o', 'd'}\n",
            "{'G': 2, 'o': 5, 'd': 2, 'f': 1, 'r': 1}\n"
          ]
        }
      ],
      "source": [
        "input=\"GoodforGood\"\n",
        "\n",
        "chdisc={}\n",
        "reslst=set({})\n",
        "for ch in input:\n",
        "    if ch in chdisc:\n",
        "        chdisc[ch]+=1\n",
        "        reslst.add(ch)\n",
        "    else:\n",
        "        chdisc[ch]=1\n",
        "\n",
        "print(reslst)\n",
        "print(chdisc)"
      ]
    },
    {
      "cell_type": "markdown",
      "id": "d972dea1",
      "metadata": {
        "id": "d972dea1"
      },
      "source": [
        "# Extract Unique values dictionary values"
      ]
    },
    {
      "cell_type": "code",
      "execution_count": 154,
      "id": "86335565",
      "metadata": {
        "id": "86335565",
        "outputId": "5559f3f9-48a1-47f2-f3b1-68c52cb186f3",
        "colab": {
          "base_uri": "https://localhost:8080/"
        }
      },
      "outputs": [
        {
          "output_type": "stream",
          "name": "stdout",
          "text": [
            "{1, 2, 5, 6, 7, 8, 10, 11, 12}\n"
          ]
        }
      ],
      "source": [
        "test_dict = {'gfg': [5, 6, 7, 8],\n",
        "             'is': [10, 11, 7, 5],\n",
        "             'best': [6, 12, 10, 8],\n",
        "             'for': [1, 2, 5]}\n",
        "\n",
        "myset={ele for val in test_dict.values() for ele in val}\n",
        "print(myset)"
      ]
    },
    {
      "cell_type": "markdown",
      "id": "d6f56d51",
      "metadata": {
        "id": "d6f56d51"
      },
      "source": [
        "# find the sum of all items in a dictionary"
      ]
    },
    {
      "cell_type": "code",
      "execution_count": 155,
      "id": "a0215b95",
      "metadata": {
        "id": "a0215b95",
        "outputId": "cdb24251-861c-4b85-ede0-476e61304f3b",
        "colab": {
          "base_uri": "https://localhost:8080/"
        }
      },
      "outputs": [
        {
          "output_type": "stream",
          "name": "stdout",
          "text": [
            "600\n"
          ]
        }
      ],
      "source": [
        "input={\"a\": 100, \"b\":200, \"c\":300}\n",
        "print(sum(input.values()))"
      ]
    },
    {
      "cell_type": "markdown",
      "id": "5f864e2e",
      "metadata": {
        "id": "5f864e2e"
      },
      "source": [
        "# remove a key from dictionary"
      ]
    },
    {
      "cell_type": "code",
      "execution_count": 156,
      "id": "d5d7b06c",
      "metadata": {
        "id": "d5d7b06c",
        "outputId": "19882d0c-e4cd-4adb-9e9d-8c4c3b5077ac",
        "colab": {
          "base_uri": "https://localhost:8080/",
          "height": 238
        }
      },
      "outputs": [
        {
          "output_type": "stream",
          "name": "stdout",
          "text": [
            "{'Anuradha': 21, 'Haritha': 21, 'Mani': 21}\n",
            "{'Anuradha': 21, 'Haritha': 21}\n",
            "{}\n"
          ]
        },
        {
          "output_type": "error",
          "ename": "NameError",
          "evalue": "name 'mydsc' is not defined",
          "traceback": [
            "\u001b[0;31m---------------------------------------------------------------------------\u001b[0m",
            "\u001b[0;31mNameError\u001b[0m                                 Traceback (most recent call last)",
            "\u001b[0;32m<ipython-input-156-39e54ddd425d>\u001b[0m in \u001b[0;36m<cell line: 14>\u001b[0;34m()\u001b[0m\n\u001b[1;32m     12\u001b[0m \u001b[0;32mdel\u001b[0m \u001b[0mmydsc\u001b[0m\u001b[0;34m\u001b[0m\u001b[0;34m\u001b[0m\u001b[0m\n\u001b[1;32m     13\u001b[0m \u001b[0;34m\u001b[0m\u001b[0m\n\u001b[0;32m---> 14\u001b[0;31m \u001b[0mprint\u001b[0m\u001b[0;34m(\u001b[0m\u001b[0mmydsc\u001b[0m\u001b[0;34m)\u001b[0m\u001b[0;34m\u001b[0m\u001b[0;34m\u001b[0m\u001b[0m\n\u001b[0m",
            "\u001b[0;31mNameError\u001b[0m: name 'mydsc' is not defined"
          ]
        }
      ],
      "source": [
        "mydsc={\"Anuradha\": 21, \"Haritha\": 21, \"Arushi\": 22, \"Mani\": 21}\n",
        "\n",
        "mydsc.pop(\"Arushi\")\n",
        "print(mydsc)\n",
        "\n",
        "mydsc.popitem()\n",
        "print(mydsc)\n",
        "\n",
        "mydsc.clear()\n",
        "print(mydsc)\n",
        "\n",
        "del mydsc\n",
        "\n",
        "print(mydsc)"
      ]
    },
    {
      "cell_type": "markdown",
      "id": "cd33dac8",
      "metadata": {
        "id": "cd33dac8"
      },
      "source": [
        "# sort list of dictionaries by values"
      ]
    },
    {
      "cell_type": "code",
      "execution_count": 157,
      "id": "69785012",
      "metadata": {
        "id": "69785012",
        "outputId": "ba5fb3cb-c5eb-4c5a-ce64-50e7c24a2ef4",
        "colab": {
          "base_uri": "https://localhost:8080/"
        }
      },
      "outputs": [
        {
          "output_type": "stream",
          "name": "stdout",
          "text": [
            "[{'name': 'Nikhil', 'age': 19}, {'name': 'Manjeet', 'age': 20}, {'name': 'Nandini', 'age': 20}]\n",
            "[{'name': 'Nandini', 'age': 20}, {'name': 'Manjeet', 'age': 20}, {'name': 'Nikhil', 'age': 19}]\n"
          ]
        }
      ],
      "source": [
        "list = [{\"name\": \"Nandini\", \"age\": 20},\n",
        "       {\"name\": \"Manjeet\", \"age\": 20},\n",
        "       {\"name\": \"Nikhil\", \"age\": 19}]\n",
        "\n",
        "print(sorted(list, key=lambda i: (i['age'], i['name'])))\n",
        "\n",
        "print(sorted(list, key=lambda i: (i['age']),reverse=True))\n"
      ]
    },
    {
      "cell_type": "markdown",
      "id": "67e859b9",
      "metadata": {
        "id": "67e859b9"
      },
      "source": [
        "# Merging two Dictionaries"
      ]
    },
    {
      "cell_type": "code",
      "execution_count": 158,
      "id": "ea3b3d2e",
      "metadata": {
        "id": "ea3b3d2e",
        "outputId": "9206f51a-8f2a-4415-8834-1c93f313d3f9",
        "colab": {
          "base_uri": "https://localhost:8080/"
        }
      },
      "outputs": [
        {
          "output_type": "stream",
          "name": "stdout",
          "text": [
            "{'a': 10, 'b': 8, 'd': 6, 'c': 4}\n"
          ]
        }
      ],
      "source": [
        "dict1 = {'a': 10, 'b': 8}\n",
        "dict2 = {'d': 6, 'c': 4}\n",
        "\n",
        "dict1.update(dict2)\n",
        "print(dict1)"
      ]
    },
    {
      "cell_type": "markdown",
      "id": "78f14bc5",
      "metadata": {
        "id": "78f14bc5"
      },
      "source": [
        "# Convert key-values list to flat dictionary"
      ]
    },
    {
      "cell_type": "code",
      "execution_count": 160,
      "id": "76e09432",
      "metadata": {
        "id": "76e09432",
        "outputId": "6cb99ebb-3578-4e44-8400-78d195345301",
        "colab": {
          "base_uri": "https://localhost:8080/"
        }
      },
      "outputs": [
        {
          "output_type": "stream",
          "name": "stdout",
          "text": [
            "1 Jan\n",
            "2 Feb\n",
            "3 March\n",
            "{1: 'Jan', 2: 'Feb', 3: 'March'}\n",
            "{1: 'Jan', 2: 'Feb', 3: 'March'}\n",
            "{1: 'Jan', 2: 'Feb', 3: 'March'}\n"
          ]
        }
      ],
      "source": [
        "test_dict = {'month' : [1, 2, 3],\n",
        "             'name' : ['Jan', 'Feb', 'March']}\n",
        "\n",
        "newdisc={}\n",
        "for i, j in zip(test_dict[\"month\"], test_dict[\"name\"]):\n",
        "    print(i, j)\n",
        "    newdisc[i]=j\n",
        "\n",
        "print(newdisc)\n",
        "\n",
        "mydisc={i:j for i, j in zip(test_dict[\"month\"], test_dict[\"name\"])}\n",
        "print(mydisc)\n",
        "\n",
        "mydisc=dict(zip(test_dict[\"month\"], test_dict[\"name\"]))\n",
        "print(mydisc)\n"
      ]
    },
    {
      "cell_type": "markdown",
      "id": "f11ebca0",
      "metadata": {
        "id": "f11ebca0"
      },
      "source": [
        "#   Append Dictionary Keys and Values"
      ]
    },
    {
      "cell_type": "code",
      "execution_count": 165,
      "id": "7da57f5f",
      "metadata": {
        "id": "7da57f5f",
        "colab": {
          "base_uri": "https://localhost:8080/"
        },
        "outputId": "223c170b-9be2-4d59-8cbb-84296dd59ebc"
      },
      "outputs": [
        {
          "output_type": "stream",
          "name": "stdout",
          "text": [
            "['Gfg', 'is', 'Best', 1, 2, 3]\n"
          ]
        }
      ],
      "source": [
        "test_dict = {\"Gfg\" : 1, \"is\" : 2, \"Best\": 3}\n",
        "del list\n",
        "res = list(test_dict.keys()) + list(test_dict.values())\n",
        "print(res)\n"
      ]
    },
    {
      "cell_type": "markdown",
      "id": "8b13c287",
      "metadata": {
        "id": "8b13c287"
      },
      "source": [
        "# Convert a list of Tuples into Dictionary"
      ]
    },
    {
      "cell_type": "code",
      "execution_count": 166,
      "id": "27649df2",
      "metadata": {
        "id": "27649df2",
        "outputId": "79543772-5695-46f2-b9a5-567161bbeb74",
        "colab": {
          "base_uri": "https://localhost:8080/"
        }
      },
      "outputs": [
        {
          "output_type": "stream",
          "name": "stdout",
          "text": [
            "{'akash': 10, 'gaurav': 12, 'anand': 14, 'suraj': 20, 'akhil': 25, 'ashish': 30}\n",
            "{'akash': 10, 'gaurav': 12, 'anand': 14, 'suraj': 20, 'akhil': 25, 'ashish': 30}\n"
          ]
        }
      ],
      "source": [
        "def convert(tup, di):\n",
        "    di=dict(tup)\n",
        "    return di\n",
        "\n",
        "lst=[(\"akash\", 10), (\"gaurav\", 12), (\"anand\", 14),\n",
        "         (\"suraj\", 20), (\"akhil\", 25), (\"ashish\", 30)]\n",
        "\n",
        "di={}\n",
        "print(convert(lst, di))\n",
        "\n",
        "print(dict(lst))\n",
        "\n",
        "\n"
      ]
    },
    {
      "cell_type": "markdown",
      "id": "05c7d844",
      "metadata": {
        "id": "05c7d844"
      },
      "source": [
        "# Python keywords"
      ]
    },
    {
      "cell_type": "code",
      "execution_count": 167,
      "id": "03013ade",
      "metadata": {
        "id": "03013ade",
        "outputId": "721600e1-e8d4-469a-884e-d3a5fe070a2b",
        "colab": {
          "base_uri": "https://localhost:8080/"
        }
      },
      "outputs": [
        {
          "output_type": "stream",
          "name": "stdout",
          "text": [
            "['False', 'None', 'True', 'and', 'as', 'assert', 'async', 'await', 'break', 'class', 'continue', 'def', 'del', 'elif', 'else', 'except', 'finally', 'for', 'from', 'global', 'if', 'import', 'in', 'is', 'lambda', 'nonlocal', 'not', 'or', 'pass', 'raise', 'return', 'try', 'while', 'with', 'yield']\n"
          ]
        }
      ],
      "source": [
        "import keyword\n",
        "print(keyword.kwlist)"
      ]
    },
    {
      "cell_type": "markdown",
      "id": "e4178295",
      "metadata": {
        "id": "e4178295"
      },
      "source": [
        "['False', 'None', 'True', 'and', 'as', 'assert', 'async', 'await', 'break', 'class', 'continue', 'def', 'del', 'elif', 'else', 'except', 'finally', 'for', 'from', 'global', 'if', 'import', 'in', 'is', 'lambda', 'nonlocal', 'not', 'or', 'pass', 'raise', 'return', 'try', 'while', 'with', 'yield']"
      ]
    },
    {
      "cell_type": "markdown",
      "id": "efc3d1e2",
      "metadata": {
        "id": "efc3d1e2"
      },
      "source": [
        "# OS Module and working thouugh directories"
      ]
    },
    {
      "cell_type": "code",
      "execution_count": 179,
      "id": "8331f15a",
      "metadata": {
        "id": "8331f15a",
        "outputId": "95c6c8e7-079e-4147-e193-b11346ad896f",
        "colab": {
          "base_uri": "https://localhost:8080/"
        }
      },
      "outputs": [
        {
          "output_type": "stream",
          "name": "stdout",
          "text": [
            "Environment Variable None\n",
            "PID:: 205\n",
            "PPID:: 84\n",
            "Directory path:: /content\n",
            "path:: b'/content'\n",
            "chmod:: None\n",
            "cpu:: 2\n",
            "list:: ['.config', 'test.txt', 'sample_data']\n",
            "OS Name:: posix\n",
            "Path:: /content\n",
            "Absolute Path:: /content/sampledata\n",
            "If file exists:: True\n",
            "If dir:: False\n",
            "If file :: True\n",
            "################Iterator through a Directory#####################\n",
            "['test.txt']\n",
            "['.config', 'sample_data']\n"
          ]
        }
      ],
      "source": [
        "import os\n",
        "\n",
        "#print(\"Current user\",os.getlogin())\n",
        "print(\"Environment Variable\", os.getenv(\"JAVA_HOME\"))\n",
        "print(\"PID::\",os.getpid())\n",
        "print(\"PPID::\",os.getppid())\n",
        "print(\"Directory path::\",os.getcwd())\n",
        "print(\"path::\",os.getcwdb())\n",
        "print(\"chmod::\",os.chmod(\"/content/test.txt\",mode=1))\n",
        "print(\"cpu::\",os.cpu_count())\n",
        "print(\"list::\",os.listdir())\n",
        "#print(os.dup(0)) #Create duplicate file descriptor\n",
        "#print(os.dup2(2))\n",
        "print(\"OS Name::\",os.name)\n",
        "#print(os.chdir(\"your dir\\\\sampledata\"))\n",
        "print(\"Path::\",os.getcwd())\n",
        "#print(\"New dir\",os.mkdir(\"pybasicpractice-samples\"))\n",
        "#print(\"New dirs::\",os.makedirs(\"pybasicpractice-samples2\"))\n",
        "#print(\"Abort kernel. You will require to restart\",os.abort())\n",
        "print(\"Absolute Path::\",os.path.abspath(\"sampledata\"))\n",
        "#print(\"Size of file::\",os.path.getsize(filename=\"test.txt\"))\n",
        "print(\"If file exists::\",os.path.exists(\"test.txt\"))\n",
        "print(\"If dir::\",os.path.isdir(\"test.txt\"))\n",
        "print(\"If file ::\",os.path.isfile(\"test.txt\"))\n",
        "\n",
        "print(\"################Iterator through a Directory#####################\")\n",
        "filelst=[]\n",
        "folderlst=[]\n",
        "for ele in os.listdir():\n",
        "    if os.path.isfile(ele):\n",
        "        filelst.append(ele)\n",
        "    else:\n",
        "        folderlst.append(ele)\n",
        "\n",
        "print(filelst)\n",
        "print(folderlst)"
      ]
    },
    {
      "cell_type": "markdown",
      "id": "f2ed715b",
      "metadata": {
        "id": "f2ed715b"
      },
      "source": [
        "# File Handling"
      ]
    },
    {
      "cell_type": "markdown",
      "id": "79e775bc",
      "metadata": {
        "id": "79e775bc"
      },
      "source": [
        "### Write a Python program to read an entire text file."
      ]
    },
    {
      "cell_type": "code",
      "execution_count": 174,
      "id": "165b762e",
      "metadata": {
        "id": "165b762e",
        "outputId": "68e5a090-c2a0-48a4-acb4-27dc73e38595",
        "colab": {
          "base_uri": "https://localhost:8080/"
        }
      },
      "outputs": [
        {
          "output_type": "stream",
          "name": "stdout",
          "text": [
            "1>> ['This is line1\\n', 'This is line2\\n', 'This is line3']\n",
            "\n",
            "\n",
            "2>> This is line1\n",
            "This is line2\n",
            "This is line3\n",
            "\n",
            "\n",
            "3>>readline only reads first line This is line1\n",
            "\n",
            "\n",
            "\n"
          ]
        }
      ],
      "source": [
        "filename=\"/content/test.txt\"\n",
        "fd= open(file=filename, mode=\"r\")\n",
        "print(\"1>>\",fd.readlines())\n",
        "print(\"\\n\")\n",
        "\n",
        "\n",
        "\n",
        "with open(filename,\"r\") as fd1:\n",
        "    print(\"2>>\",fd1.read())\n",
        "    print(\"\\n\")\n",
        "\n",
        "with open(filename,\"r\") as fd2:\n",
        "    print(\"3>>readline only reads first line\",fd2.readline())\n",
        "    print(\"\\n\")\n",
        "\n",
        "fd.close()\n",
        "fd1.close()\n",
        "fd2.close()\n"
      ]
    },
    {
      "cell_type": "markdown",
      "id": "ea7d2133",
      "metadata": {
        "id": "ea7d2133"
      },
      "source": [
        "### Write a Python program to read first n lines of a file."
      ]
    },
    {
      "cell_type": "code",
      "execution_count": 180,
      "id": "f2d79e07",
      "metadata": {
        "id": "f2d79e07",
        "outputId": "60ab26d6-8cbe-4f5f-a1b4-ef7c61268659",
        "colab": {
          "base_uri": "https://localhost:8080/"
        }
      },
      "outputs": [
        {
          "output_type": "stream",
          "name": "stdout",
          "text": [
            "This is line1\n",
            "\n",
            "This is line2\n",
            "\n",
            "This is line1\n",
            "\n",
            "This is line2\n",
            "\n",
            "This is line3\n"
          ]
        }
      ],
      "source": [
        "filename=\"/content/test.txt\"\n",
        "\n",
        "fd=open(filename,\"r\")\n",
        "\n",
        "#Read fist 2 lines\n",
        "for line in range(2):\n",
        "    print(fd.readline())\n",
        "\n",
        "fd1=open(filename,\"r\")\n",
        "\n",
        "x=0\n",
        "while x<3:\n",
        "    print(fd1.readline())\n",
        "    x+=1\n",
        "\n",
        "fd.close()\n",
        "fd1.close()"
      ]
    },
    {
      "cell_type": "markdown",
      "id": "a73e39ba",
      "metadata": {
        "id": "a73e39ba"
      },
      "source": [
        "###  program to append text to a file and display the text"
      ]
    },
    {
      "cell_type": "code",
      "execution_count": 182,
      "id": "85df95ea",
      "metadata": {
        "id": "85df95ea",
        "outputId": "4b83b89c-fe19-41fc-b835-4dac82bf55b4",
        "colab": {
          "base_uri": "https://localhost:8080/"
        }
      },
      "outputs": [
        {
          "output_type": "stream",
          "name": "stdout",
          "text": [
            "Currunt position of the cursor:: 96\n",
            "Set the cursor position:: 0\n",
            "['This is line1\\n', 'This is line2\\n', 'This is line3This is new appended line\\n', '\\n', 'This is new appended line\\n']\n"
          ]
        }
      ],
      "source": [
        "filename=\"/content/test.txt\"\n",
        "\n",
        "fd=open(filename,\"a+\")\n",
        "\n",
        "fd.write(\"\\nThis is new appended line\\n\")\n",
        "print(\"Currunt position of the cursor::\",fd.tell())\n",
        "print(\"Set the cursor position::\",fd.seek(0))\n",
        "print(fd.readlines())\n",
        "\n",
        "fd.close()"
      ]
    },
    {
      "cell_type": "markdown",
      "id": "a61fba0a",
      "metadata": {
        "id": "a61fba0a"
      },
      "source": [
        "### Python program to read last n lines of a file"
      ]
    },
    {
      "cell_type": "code",
      "execution_count": 183,
      "id": "97949ea5",
      "metadata": {
        "id": "97949ea5",
        "outputId": "630e6272-0921-43e9-d6d3-a1e82d57c781",
        "colab": {
          "base_uri": "https://localhost:8080/"
        }
      },
      "outputs": [
        {
          "output_type": "stream",
          "name": "stdout",
          "text": [
            "totallines available:: 0\n",
            "lines to be skipped:: -3\n",
            "lines to be printed:: 3\n",
            "[]\n"
          ]
        }
      ],
      "source": [
        "filename=\"/content/test.txt\"\n",
        "\n",
        "fd=open(filename,\"r\")\n",
        "printlastlines=3\n",
        "\n",
        "filecontent=fd.readlines()\n",
        "totallines=len(fd.readlines())\n",
        "print(\"totallines available::\",totallines)\n",
        "\n",
        "linestobeskipped=totallines-printlastlines\n",
        "print(\"lines to be skipped::\",linestobeskipped)\n",
        "\n",
        "print(\"lines to be printed::\",printlastlines)\n",
        "\n",
        "print(filecontent[8:11])\n"
      ]
    }
  ],
  "metadata": {
    "kernelspec": {
      "display_name": "Python 3 (ipykernel)",
      "language": "python",
      "name": "python3"
    },
    "language_info": {
      "codemirror_mode": {
        "name": "ipython",
        "version": 3
      },
      "file_extension": ".py",
      "mimetype": "text/x-python",
      "name": "python",
      "nbconvert_exporter": "python",
      "pygments_lexer": "ipython3",
      "version": "3.11.4"
    },
    "colab": {
      "provenance": [],
      "include_colab_link": true
    }
  },
  "nbformat": 4,
  "nbformat_minor": 5
}