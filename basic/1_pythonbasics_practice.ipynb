{
  "cells": [
    {
      "cell_type": "markdown",
      "metadata": {
        "id": "view-in-github",
        "colab_type": "text"
      },
      "source": [
        "<a href=\"https://colab.research.google.com/github/kdwivedi1985git/datascience/blob/main/basic/1_pythonbasics_practice.ipynb\" target=\"_parent\"><img src=\"https://colab.research.google.com/assets/colab-badge.svg\" alt=\"Open In Colab\"/></a>"
      ]
    },
    {
      "cell_type": "markdown",
      "id": "9f462f54",
      "metadata": {
        "id": "9f462f54"
      },
      "source": [
        "# Min max between numbers and format method"
      ]
    },
    {
      "cell_type": "code",
      "execution_count": null,
      "id": "7318cb41",
      "metadata": {
        "id": "7318cb41",
        "outputId": "1fd18172-33e1-4bf8-ffb0-729b763b6fe0"
      },
      "outputs": [
        {
          "name": "stdout",
          "output_type": "stream",
          "text": [
            "20\n",
            "10\n",
            "max=20 and min=10\n"
          ]
        }
      ],
      "source": [
        "a=20\n",
        "b=10\n",
        "print(max(a,b))\n",
        "print(min(a,b))\n",
        "txt=\"max={} and min={}\"\n",
        "print(txt.format(max(a,b), min(a,b)))"
      ]
    },
    {
      "cell_type": "markdown",
      "id": "7d5bcda2",
      "metadata": {
        "id": "7d5bcda2"
      },
      "source": [
        "# Check Armstrong Number\n",
        "abcd... = pow(a,n) + pow(b,n) + pow(c,n) + pow(d,n) + ....\n",
        "153 is an Armstrong number.\n",
        "1*1*1 + 5*5*5 + 3*3*3 = 153"
      ]
    },
    {
      "cell_type": "code",
      "execution_count": null,
      "id": "fad86b39",
      "metadata": {
        "id": "fad86b39",
        "outputId": "faa79980-3252-4903-ed91-586e22293ed8"
      },
      "outputs": [
        {
          "name": "stdout",
          "output_type": "stream",
          "text": [
            "36\n"
          ]
        }
      ],
      "source": [
        "x=153\n",
        "\n",
        "tmpStr=str(x)\n",
        "y=len(tmpStr)\n",
        "sum=0\n",
        "\n",
        "while x > 10:\n",
        "    num=x%10\n",
        "    sum=sum+pow(num,y)\n",
        "    x=x//10\n",
        "\n",
        "sum=sum+pow(x,y)\n",
        "\n",
        "print(sum)"
      ]
    },
    {
      "cell_type": "code",
      "execution_count": null,
      "id": "ca044f8c",
      "metadata": {
        "id": "ca044f8c"
      },
      "outputs": [],
      "source": [
        "x=153\n",
        "\n",
        "tmpStr=str(x)\n",
        "y=len(tmpStr)\n",
        "sum=0\n",
        "\n",
        "for num in tmpStr:\n",
        "    sum+= int(num) ** y\n",
        "\n",
        "print(sum)"
      ]
    },
    {
      "cell_type": "markdown",
      "id": "82f65710",
      "metadata": {
        "id": "82f65710"
      },
      "source": [
        "## Print Prime numbers\n"
      ]
    },
    {
      "cell_type": "code",
      "execution_count": null,
      "id": "a48e7c42",
      "metadata": {
        "id": "a48e7c42",
        "outputId": "dfd9630a-d53c-4c4a-e408-91a7f1215174"
      },
      "outputs": [
        {
          "name": "stdout",
          "output_type": "stream",
          "text": [
            "Enter the interval for prime numbers 30\n",
            "[2, 3, 5, 7, 11, 13, 17, 19, 23, 25, 29]\n"
          ]
        }
      ],
      "source": [
        "x=int(input(\"Enter the interval for prime numbers \"))\n",
        "\n",
        "primeNum=[2,3]\n",
        "\n",
        "for i in range(4,x):\n",
        "    if i%2 !=0 and i%3 !=0:\n",
        "        primeNum.append(i)\n",
        "\n",
        "print(primeNum)\n"
      ]
    },
    {
      "cell_type": "code",
      "execution_count": null,
      "id": "6c555b49",
      "metadata": {
        "id": "6c555b49",
        "outputId": "f00e2de7-418e-43cb-93b8-03c58f970c59"
      },
      "outputs": [
        {
          "name": "stdout",
          "output_type": "stream",
          "text": [
            "Enter the interval for prime numbers 30\n",
            "[5, 7, 11, 13, 17, 19, 23, 25, 29]\n",
            "[2, 3, 5, 7, 11, 13, 17, 19, 23, 25, 29]\n"
          ]
        }
      ],
      "source": [
        "x=int(input(\"Enter the interval for prime numbers \"))\n",
        "\n",
        "primeNum=[2,3]\n",
        "\n",
        "primeNum=[i for i in range(4,x) if i%2 !=0 and i%3 !=0]\n",
        "\n",
        "print(primeNum)\n",
        "\n",
        "primeNum.insert(0,2)\n",
        "primeNum.insert(1,3)\n",
        "print(primeNum)"
      ]
    },
    {
      "cell_type": "markdown",
      "id": "f7c8ef49",
      "metadata": {
        "id": "f7c8ef49"
      },
      "source": [
        "# Fibbonacci Series"
      ]
    },
    {
      "cell_type": "code",
      "execution_count": null,
      "id": "750d4192",
      "metadata": {
        "id": "750d4192",
        "outputId": "9cb8ecca-b4f8-4a2e-a212-eaca755b6b05"
      },
      "outputs": [
        {
          "name": "stdout",
          "output_type": "stream",
          "text": [
            "Enter the number you want fibbonacci series upto 10\n",
            "[1, 2, 3, 5, 8]\n"
          ]
        }
      ],
      "source": [
        "x=int(input(\"Enter the number you want fibbonacci series upto \"))\n",
        "\n",
        "\n",
        "fibbo=[1,2]\n",
        "num=fibbo[-1]\n",
        "\n",
        "while num < x:\n",
        "    newnum=fibbo[-1]+fibbo[-2]\n",
        "    if newnum<x:\n",
        "        fibbo.append(newnum)\n",
        "    num=newnum\n",
        "\n",
        "print(fibbo)"
      ]
    },
    {
      "cell_type": "code",
      "execution_count": null,
      "id": "844c6272",
      "metadata": {
        "id": "844c6272",
        "outputId": "1a76ebfe-c499-4e2b-9b31-cf5718055f76"
      },
      "outputs": [
        {
          "name": "stdout",
          "output_type": "stream",
          "text": [
            "19\n"
          ]
        }
      ],
      "source": [
        "\n",
        "print(sum(fibbo))"
      ]
    },
    {
      "cell_type": "markdown",
      "id": "ebd04616",
      "metadata": {
        "id": "ebd04616"
      },
      "source": [
        "# nth Fibbonacci number"
      ]
    },
    {
      "cell_type": "code",
      "execution_count": null,
      "id": "4e80baf8",
      "metadata": {
        "id": "4e80baf8"
      },
      "outputs": [],
      "source": []
    },
    {
      "cell_type": "markdown",
      "id": "67aedbb8",
      "metadata": {
        "id": "67aedbb8"
      },
      "source": [
        "Fibbonacci series with recursion"
      ]
    },
    {
      "cell_type": "code",
      "execution_count": null,
      "id": "0e2e7676",
      "metadata": {
        "id": "0e2e7676",
        "outputId": "43559c7e-7f99-403e-d6e7-1d8ad39e4bdb"
      },
      "outputs": [
        {
          "data": {
            "text/plain": [
              "34"
            ]
          },
          "execution_count": 4,
          "metadata": {},
          "output_type": "execute_result"
        }
      ],
      "source": [
        "def fibbo(n):\n",
        "    if n<=0:\n",
        "        return \"Incorrect Num\"\n",
        "    elif n==1:\n",
        "        return 0\n",
        "    elif n==2:\n",
        "        return 1\n",
        "    else:\n",
        "        return fibbo(n-1)+fibbo(n-2)\n",
        "\n",
        "fibbo(10)"
      ]
    },
    {
      "cell_type": "markdown",
      "id": "f38e06b1",
      "metadata": {
        "id": "f38e06b1"
      },
      "source": [
        "# ASCII code"
      ]
    },
    {
      "cell_type": "code",
      "execution_count": null,
      "id": "9c2fda39",
      "metadata": {
        "id": "9c2fda39",
        "outputId": "cde86655-7815-4d27-c479-7194b3752113"
      },
      "outputs": [
        {
          "name": "stdout",
          "output_type": "stream",
          "text": [
            "97\n",
            "100\n",
            "a\n",
            "d\n"
          ]
        }
      ],
      "source": [
        "ch='a'\n",
        "\n",
        "print(ord(ch))\n",
        "print(ord(ch)+3)\n",
        "print(chr(97))\n",
        "print(chr(ord(ch)+3))"
      ]
    },
    {
      "cell_type": "markdown",
      "id": "23d8fe3a",
      "metadata": {
        "id": "23d8fe3a"
      },
      "source": [
        "# Cube sum of n number"
      ]
    },
    {
      "cell_type": "code",
      "execution_count": null,
      "id": "33231bd5",
      "metadata": {
        "id": "33231bd5",
        "outputId": "95575f92-c1c0-40e9-8f27-a4b5955ad2cb"
      },
      "outputs": [
        {
          "name": "stdout",
          "output_type": "stream",
          "text": [
            "[1, 8, 27, 64, 125]\n",
            "225\n"
          ]
        }
      ],
      "source": [
        "num=5\n",
        "\n",
        "x=[pow(i,3) for i in range(1,num+1)]\n",
        "print(x)\n",
        "print(sum(x))\n"
      ]
    },
    {
      "cell_type": "markdown",
      "id": "31382b9f",
      "metadata": {
        "id": "31382b9f"
      },
      "source": [
        "# Largest and Smallest element in an array"
      ]
    },
    {
      "cell_type": "code",
      "execution_count": null,
      "id": "1e38b148",
      "metadata": {
        "id": "1e38b148",
        "outputId": "b43d9a24-e533-47e7-e7af-d2712fc090a6"
      },
      "outputs": [
        {
          "name": "stdout",
          "output_type": "stream",
          "text": [
            "1\n",
            "5348\n"
          ]
        }
      ],
      "source": [
        "arr=[4,5,2,5,7,324,7,5348,1,535,1,4]\n",
        "\n",
        "print(min(arr))\n",
        "print(max(arr))"
      ]
    },
    {
      "cell_type": "markdown",
      "id": "e678e4b5",
      "metadata": {
        "id": "e678e4b5"
      },
      "source": [
        "# Reverse the array"
      ]
    },
    {
      "cell_type": "code",
      "execution_count": null,
      "id": "653f70b2",
      "metadata": {
        "id": "653f70b2",
        "outputId": "ea06ba7f-cd24-4d94-9b22-6e7147db4ec5"
      },
      "outputs": [
        {
          "name": "stdout",
          "output_type": "stream",
          "text": [
            "[4, 1, 535, 1, 5348, 7, 324, 7, 5, 2, 5, 4]\n",
            "[4, 5, 2, 5, 7, 324, 7, 5348, 1, 535, 1]\n"
          ]
        }
      ],
      "source": [
        "print(\"Reversed::\",arr[::-1])\n",
        "print(\"All before last\",arr[:-1])"
      ]
    },
    {
      "cell_type": "code",
      "execution_count": null,
      "id": "a3a28bbb",
      "metadata": {
        "id": "a3a28bbb",
        "outputId": "f93699e5-8013-4512-bc12-22310a6d0abd"
      },
      "outputs": [
        {
          "name": "stdout",
          "output_type": "stream",
          "text": [
            "[55, 44, 33, 22, 11]\n"
          ]
        }
      ],
      "source": [
        "arr = [11, 22, 33, 44, 55]\n",
        "arr.reverse()\n",
        "print(arr)"
      ]
    },
    {
      "cell_type": "markdown",
      "id": "d5e9d95d",
      "metadata": {
        "id": "d5e9d95d"
      },
      "source": [
        "# Reverse and pickup evey alternate"
      ]
    },
    {
      "cell_type": "code",
      "execution_count": null,
      "id": "4bb1e9ad",
      "metadata": {
        "id": "4bb1e9ad",
        "outputId": "0db27338-6b5f-473c-be52-e97d549a1131"
      },
      "outputs": [
        {
          "name": "stdout",
          "output_type": "stream",
          "text": [
            "Reversed in difference on 2- [4, 535, 5348, 324, 5, 5]\n",
            "all before second last [4, 5, 2, 5, 7, 324, 7, 5348, 1, 535]\n"
          ]
        }
      ],
      "source": [
        "print(\"Reversed in difference on 2-\",arr[::-2])\n",
        "print(\"all before second last\",arr[:-2])"
      ]
    },
    {
      "cell_type": "markdown",
      "id": "b7e5c419",
      "metadata": {
        "id": "b7e5c419"
      },
      "source": [
        "# Program to Split the array and add the first part to the end"
      ]
    },
    {
      "cell_type": "code",
      "execution_count": null,
      "id": "7690ff36",
      "metadata": {
        "id": "7690ff36",
        "outputId": "fefeecbd-d19a-4d2e-9d94-9a016d892e2f"
      },
      "outputs": [
        {
          "name": "stdout",
          "output_type": "stream",
          "text": [
            "[12, 10]\n",
            "[5, 6, 52, 36]\n",
            "[5, 6, 52, 36, 12, 10]\n"
          ]
        }
      ],
      "source": [
        "arr = [12, 10, 5, 6, 52, 36]\n",
        "\n",
        "x=arr[0:2]\n",
        "y=arr[2:len(arr)]\n",
        "\n",
        "print(x)\n",
        "print(y)\n",
        "\n",
        "z=y+x\n",
        "print(z)"
      ]
    },
    {
      "cell_type": "markdown",
      "id": "b382d0f5",
      "metadata": {
        "id": "b382d0f5"
      },
      "source": [
        "# lambda"
      ]
    },
    {
      "cell_type": "code",
      "execution_count": null,
      "id": "40979111",
      "metadata": {
        "id": "40979111",
        "outputId": "616cdbd4-8eb2-4817-8c96-4ba153995970"
      },
      "outputs": [
        {
          "name": "stdout",
          "output_type": "stream",
          "text": [
            "27\n"
          ]
        }
      ],
      "source": [
        "x = (lambda a: pow(a,a)) (3)\n",
        "print(x)"
      ]
    },
    {
      "cell_type": "code",
      "execution_count": null,
      "id": "418b0655",
      "metadata": {
        "id": "418b0655",
        "outputId": "f21a0209-f8fe-466a-f21d-beb0e5faf10b"
      },
      "outputs": [
        {
          "name": "stdout",
          "output_type": "stream",
          "text": [
            "100\n"
          ]
        }
      ],
      "source": [
        "x =lambda a: a*a\n",
        "print(x(10))"
      ]
    },
    {
      "cell_type": "code",
      "execution_count": null,
      "id": "5c4801ce",
      "metadata": {
        "id": "5c4801ce",
        "outputId": "0313aad2-9b0c-44dc-93e3-625a7945c274"
      },
      "outputs": [
        {
          "name": "stdout",
          "output_type": "stream",
          "text": [
            "30\n"
          ]
        }
      ],
      "source": [
        "x=lambda a,b: a+b\n",
        "print(x(10,20))"
      ]
    },
    {
      "cell_type": "code",
      "execution_count": null,
      "id": "04b05988",
      "metadata": {
        "id": "04b05988",
        "outputId": "52ac19af-648f-4180-d868-135b72f79d40"
      },
      "outputs": [
        {
          "name": "stdout",
          "output_type": "stream",
          "text": [
            "1000\n",
            "1000\n",
            "1000\n"
          ]
        }
      ],
      "source": [
        "#Type1\n",
        "def cube(x):\n",
        "    return x*x*x\n",
        "\n",
        "print(cube(10))\n",
        "\n",
        "#Type2\n",
        "cb=(lambda y: y*y*y) (10)\n",
        "print(cb)\n",
        "\n",
        "#Type 3\n",
        "cb1=lambda y: y*y*y\n",
        "print(cb1(10))\n"
      ]
    },
    {
      "cell_type": "markdown",
      "id": "32570fce",
      "metadata": {
        "id": "32570fce"
      },
      "source": [
        "# Left Rotate the array from specified index"
      ]
    },
    {
      "cell_type": "code",
      "execution_count": null,
      "id": "a8629fff",
      "metadata": {
        "id": "a8629fff",
        "outputId": "a9019db6-9fb9-480a-d154-1601b3af2bb8"
      },
      "outputs": [
        {
          "name": "stdout",
          "output_type": "stream",
          "text": [
            "index= 3\n",
            "index= -5\n",
            "[2, 3, 4, 5, 6, 7, 8, 1]\n"
          ]
        }
      ],
      "source": [
        "num=4\n",
        "arr=[1,2,3,4,5,6,7,8]\n",
        "\n",
        "pidx=arr.index(num)\n",
        "nidx=pidx-len(arr)\n",
        "\n",
        "print(\"index=\",pidx)\n",
        "print(\"index=\",nidx)\n",
        "\n",
        "while pidx > nidx:\n",
        "    tmp=arr[pidx-1]\n",
        "    arr[pidx-1]=num\n",
        "    num=tmp\n",
        "    pidx=pidx-1\n",
        "\n",
        "print(arr)\n"
      ]
    },
    {
      "cell_type": "markdown",
      "id": "c9ceddda",
      "metadata": {
        "id": "c9ceddda"
      },
      "source": [
        "# Enumerate - index and value"
      ]
    },
    {
      "cell_type": "code",
      "execution_count": null,
      "id": "9a52c9e0",
      "metadata": {
        "id": "9a52c9e0",
        "outputId": "a07157ad-2037-4f32-dcc4-b634ae8f0a5a"
      },
      "outputs": [
        {
          "name": "stdout",
          "output_type": "stream",
          "text": [
            "0 :: 100\n",
            "1 :: 200\n",
            "2 :: 300\n",
            "3 :: 400\n",
            "4 :: 5000\n",
            "5 :: 600\n",
            "6 :: 70\n",
            "7 :: 80\n"
          ]
        }
      ],
      "source": [
        "arr=[100,200,300,400,5000,600,70,80]\n",
        "\n",
        "for i, j in enumerate(arr):\n",
        "    print(i,\"::\",j)"
      ]
    },
    {
      "cell_type": "markdown",
      "id": "dca5ab54",
      "metadata": {
        "id": "dca5ab54"
      },
      "source": [
        "# Swap Two Elements in a List"
      ]
    },
    {
      "cell_type": "code",
      "execution_count": null,
      "id": "498c878d",
      "metadata": {
        "id": "498c878d",
        "outputId": "592d42d0-093d-47e4-dec6-c4c800316636"
      },
      "outputs": [
        {
          "name": "stdout",
          "output_type": "stream",
          "text": [
            "[1, 2, 3, 4, 5]\n",
            "['2', '4']\n",
            "[1, 2, 5, 4, 3]\n"
          ]
        }
      ],
      "source": [
        "lst = [1, 2, 3, 4, 5]\n",
        "print(lst)\n",
        "\n",
        "poslist = input(\"Input two number in comma seperated way \")\n",
        "#pos = list(map(int,poslist.split(','))) #This should work, map calls the first paramenter for each item in the list\n",
        "pos=poslist.split(',')\n",
        "print(pos)\n",
        "\n",
        "x=lst[int(pos[0])]\n",
        "lst[int(pos[0])]=lst[int(pos[1])]\n",
        "lst[int(pos[1])]=x\n",
        "\n",
        "\n",
        "print(lst)"
      ]
    },
    {
      "cell_type": "markdown",
      "id": "d6a9a211",
      "metadata": {
        "id": "d6a9a211"
      },
      "source": [
        "# Check if element exists in list in Python"
      ]
    },
    {
      "cell_type": "code",
      "execution_count": null,
      "id": "2db55242",
      "metadata": {
        "id": "2db55242",
        "outputId": "bbe1bbaf-892f-46f6-8335-2de0b07b3788"
      },
      "outputs": [
        {
          "name": "stdout",
          "output_type": "stream",
          "text": [
            "10 doesn't exists!\n"
          ]
        }
      ],
      "source": [
        "lst = [1, 6, 3, 5, 3, 4]\n",
        "x=int(input(\"Which number you want to seach? \"))\n",
        "\n",
        "if x in lst:\n",
        "    print(x,\"Exists!\")\n",
        "else:\n",
        "    print(x,\"doesn't exists!\")"
      ]
    },
    {
      "cell_type": "markdown",
      "id": "31ce4b46",
      "metadata": {
        "id": "31ce4b46"
      },
      "source": [
        "# Different ways to clear a list in Python"
      ]
    },
    {
      "cell_type": "code",
      "execution_count": null,
      "id": "e01f9b8a",
      "metadata": {
        "id": "e01f9b8a",
        "outputId": "4a829717-1f9a-4c7f-99dd-4d3c0113d407"
      },
      "outputs": [
        {
          "name": "stdout",
          "output_type": "stream",
          "text": [
            "[]\n",
            "[1, 6, 3, 5, 3]\n",
            "[1, 3, 5, 3]\n",
            "['a', 'c', 'd']\n",
            "[]\n"
          ]
        },
        {
          "ename": "NameError",
          "evalue": "name 'lst' is not defined",
          "output_type": "error",
          "traceback": [
            "\u001b[1;31m---------------------------------------------------------------------------\u001b[0m",
            "\u001b[1;31mNameError\u001b[0m                                 Traceback (most recent call last)",
            "\u001b[1;32mc:\\Users\\dwivedik\\Documents\\aiml\\python\\notebooks\\0.edxtests\\6.pythonbasics-practice.ipynb Cell 43\u001b[0m line \u001b[0;36m2\n\u001b[0;32m     <a href='vscode-notebook-cell:/c%3A/Users/dwivedik/Documents/aiml/python/notebooks/0.edxtests/6.pythonbasics-practice.ipynb#X64sZmlsZQ%3D%3D?line=19'>20</a>\u001b[0m \u001b[39mprint\u001b[39m(lst)\n\u001b[0;32m     <a href='vscode-notebook-cell:/c%3A/Users/dwivedik/Documents/aiml/python/notebooks/0.edxtests/6.pythonbasics-practice.ipynb#X64sZmlsZQ%3D%3D?line=20'>21</a>\u001b[0m \u001b[39mdel\u001b[39;00m(lst) \u001b[39m#or del lst\u001b[39;00m\n\u001b[1;32m---> <a href='vscode-notebook-cell:/c%3A/Users/dwivedik/Documents/aiml/python/notebooks/0.edxtests/6.pythonbasics-practice.ipynb#X64sZmlsZQ%3D%3D?line=21'>22</a>\u001b[0m \u001b[39mprint\u001b[39m(lst) \u001b[39m#removes the object from memory\u001b[39;00m\n",
            "\u001b[1;31mNameError\u001b[0m: name 'lst' is not defined"
          ]
        }
      ],
      "source": [
        "lst = [1, 6, 3, 5, 3, 4]\n",
        "lst.clear()\n",
        "print(lst)\n",
        "\n",
        "lst = [1, 6, 3, 5, 3, 4]\n",
        "lst.pop()\n",
        "print(lst)\n",
        "\n",
        "lst.remove(6)\n",
        "print(lst)\n",
        "\n",
        "lst = ['a', 'b', 'c', 'd']\n",
        "lst.remove('b')\n",
        "print(lst)\n",
        "\n",
        "\n",
        "lst = [1, 6, 3, 5, 3, 4]\n",
        "lst=[]\n",
        "print(lst)\n",
        "\n",
        "lst = [1, 6, 3, 5, 3, 4]\n",
        "del lst[:]\n",
        "print(lst)\n",
        "\n",
        "\n",
        "del(lst) #or del lst\n",
        "print(lst) #removes the object from memory"
      ]
    },
    {
      "cell_type": "markdown",
      "id": "5e18dc97",
      "metadata": {
        "id": "5e18dc97"
      },
      "source": [
        "# Python program to find sum,max,min of elements in list\n"
      ]
    },
    {
      "cell_type": "code",
      "execution_count": null,
      "id": "307e4253",
      "metadata": {
        "id": "307e4253",
        "outputId": "7e423b34-6082-4ecd-f807-883df26638d0"
      },
      "outputs": [
        {
          "name": "stdout",
          "output_type": "stream",
          "text": [
            "40\n",
            "15\n",
            "3\n"
          ]
        }
      ],
      "source": [
        "lst=[12, 15, 3, 10]\n",
        "print(sum(lst))\n",
        "print(max(lst))\n",
        "print(min(lst))\n"
      ]
    },
    {
      "cell_type": "markdown",
      "id": "74334aec",
      "metadata": {
        "id": "74334aec"
      },
      "source": [
        "# Multiply all numbers in the list"
      ]
    },
    {
      "cell_type": "code",
      "execution_count": null,
      "id": "74b52d07",
      "metadata": {
        "id": "74b52d07",
        "outputId": "4035ffdc-4f4d-4846-f3f2-1fd02b96d2b5"
      },
      "outputs": [
        {
          "name": "stdout",
          "output_type": "stream",
          "text": [
            "300\n"
          ]
        }
      ],
      "source": [
        "lst = [1, 2, 3,5,10]\n",
        "\n",
        "def multiply(mylist):\n",
        "    res=0\n",
        "    for i in mylist:\n",
        "        if(res==0):\n",
        "            res=i\n",
        "        else:\n",
        "            res=res*i\n",
        "    return res\n",
        "\n",
        "print(multiply(lst))"
      ]
    },
    {
      "cell_type": "markdown",
      "id": "a0167d83",
      "metadata": {
        "id": "a0167d83"
      },
      "source": [
        "# find N largest elements from a list"
      ]
    },
    {
      "cell_type": "code",
      "execution_count": null,
      "id": "63f0a113",
      "metadata": {
        "id": "63f0a113",
        "outputId": "3a455df2-6a9d-41fb-d60f-8fe0a91ed52b"
      },
      "outputs": [
        {
          "name": "stdout",
          "output_type": "stream",
          "text": [
            "{1, 2, 3, 5, 6, 7, 9, 15, 90}\n",
            "3\n"
          ]
        }
      ],
      "source": [
        "mylst=[2,6,1,90,3,5,7,15,9,1]\n",
        "myset=set(mylst)\n",
        "print(myset)\n",
        "#since, set doesn't have index method to read the value, conver that to list\n",
        "finallist=list(myset)\n",
        "#n largest = n-1\n",
        "print(finallist[2])\n"
      ]
    },
    {
      "cell_type": "markdown",
      "id": "7cd098cc",
      "metadata": {
        "id": "7cd098cc"
      },
      "source": [
        "# print even numbers in a list\n"
      ]
    },
    {
      "cell_type": "code",
      "execution_count": null,
      "id": "6bceaec3",
      "metadata": {
        "id": "6bceaec3",
        "outputId": "db40d666-e87d-4eae-97a3-daef786d49bc"
      },
      "outputs": [
        {
          "name": "stdout",
          "output_type": "stream",
          "text": [
            "[2, 64, 14]\n"
          ]
        }
      ],
      "source": [
        "arr=[2, 7, 5, 64, 14]\n",
        "\n",
        "res=[i for i in arr if i%2==0]\n",
        "print(res)\n",
        "\n"
      ]
    },
    {
      "cell_type": "markdown",
      "id": "35955a38",
      "metadata": {
        "id": "35955a38"
      },
      "source": [
        "# print all positive numbers in a range"
      ]
    },
    {
      "cell_type": "code",
      "execution_count": null,
      "id": "537ac44f",
      "metadata": {
        "id": "537ac44f",
        "outputId": "bd865dec-3f8f-4d76-b484-a3c08ffeb15e"
      },
      "outputs": [
        {
          "name": "stdout",
          "output_type": "stream",
          "text": [
            "0\n",
            "1\n",
            "2\n",
            "3\n",
            "4\n",
            "5\n"
          ]
        }
      ],
      "source": [
        "start,end = -4,5\n",
        "\n",
        "for i in range(start, end+1):\n",
        "    if i>=0:\n",
        "        print(i)\n",
        "\n"
      ]
    },
    {
      "cell_type": "markdown",
      "id": "fe8de944",
      "metadata": {
        "id": "fe8de944"
      },
      "source": [
        "# Print the negative numbers in the list"
      ]
    },
    {
      "cell_type": "code",
      "execution_count": null,
      "id": "116d9a2e",
      "metadata": {
        "id": "116d9a2e",
        "outputId": "31d36b81-fa41-4ecf-9a92-6e3839cbf8f6"
      },
      "outputs": [
        {
          "name": "stdout",
          "output_type": "stream",
          "text": [
            "-21\n",
            "-93\n"
          ]
        }
      ],
      "source": [
        "lst = [11, -21, 0, 45, 66, -93]\n",
        "\n",
        "for i in lst:\n",
        "    if i<0:\n",
        "        print(i)\n"
      ]
    },
    {
      "cell_type": "markdown",
      "id": "cb329b15",
      "metadata": {
        "id": "cb329b15"
      },
      "source": [
        "# Remove multiple elements from a list in Python"
      ]
    },
    {
      "cell_type": "code",
      "execution_count": null,
      "id": "fab7db44",
      "metadata": {
        "id": "fab7db44",
        "outputId": "e9604f6a-1a38-4c68-d95a-09a8d475be9d"
      },
      "outputs": [
        {
          "name": "stdout",
          "output_type": "stream",
          "text": [
            "[11, 23, 50]\n"
          ]
        }
      ],
      "source": [
        "input=[11, 5, 17, 18, 23, 50]\n",
        "del input[1:4]\n",
        "print(input)"
      ]
    },
    {
      "cell_type": "markdown",
      "id": "5715301a",
      "metadata": {
        "id": "5715301a"
      },
      "source": [
        "# Remove empty List from List"
      ]
    },
    {
      "cell_type": "code",
      "execution_count": null,
      "id": "6e1fc879",
      "metadata": {
        "id": "6e1fc879",
        "outputId": "7b2dc1c8-a0b9-4d81-a4d8-23db4a525733"
      },
      "outputs": [
        {
          "name": "stdout",
          "output_type": "stream",
          "text": [
            "[5, 6, 3, 9]\n",
            "[5, 6, 3, 9]\n",
            "[5, 6, 3, 9]\n"
          ]
        }
      ],
      "source": [
        "test_list = [5, 6, [], 3, [], [], 9]\n",
        "\n",
        "res = [i for i in test_list if i !=[]]\n",
        "print(res)\n",
        "\n",
        "res1= list(filter(None,test_list))\n",
        "print(res1)\n",
        "\n",
        "while [] in test_list:\n",
        "    test_list.remove([])\n",
        "print(test_list)\n"
      ]
    },
    {
      "cell_type": "markdown",
      "id": "672c64ee",
      "metadata": {
        "id": "672c64ee"
      },
      "source": [
        "# Cloning or Copying a list"
      ]
    },
    {
      "cell_type": "code",
      "execution_count": null,
      "id": "a39f3cc0",
      "metadata": {
        "id": "a39f3cc0",
        "outputId": "058da413-b0b8-4c5e-f2e0-9cbc589df674"
      },
      "outputs": [
        {
          "name": "stdout",
          "output_type": "stream",
          "text": [
            "[4, 8, 2, 10, 15, 18]\n",
            "[4, 8, 2, 10, 15, 18]\n"
          ]
        }
      ],
      "source": [
        "lst = [4, 8, 2, 10, 15, 18]\n",
        "lst1=lst.copy()\n",
        "del lst\n",
        "print(lst1)\n",
        "\n",
        "lst2=lst1[:]\n",
        "del lst1\n",
        "print(lst2)\n"
      ]
    },
    {
      "cell_type": "markdown",
      "id": "85ad4104",
      "metadata": {
        "id": "85ad4104"
      },
      "source": [
        "# Count occurrences of an element in a list"
      ]
    },
    {
      "cell_type": "code",
      "execution_count": null,
      "id": "2759d8a9",
      "metadata": {
        "id": "2759d8a9",
        "outputId": "3a0b7630-4098-4e69-bd01-712fb8f92e8f"
      },
      "outputs": [
        {
          "name": "stdout",
          "output_type": "stream",
          "text": [
            "8 occurs 5 times\n"
          ]
        }
      ],
      "source": [
        "find=8\n",
        "lst = [8, 6, 8, 10, 8, 20, 10, 8, 8]\n",
        "\n",
        "count=0\n",
        "for i in lst:\n",
        "    if i==find:\n",
        "        count+=1\n",
        "print(find, \"occurs\", count, \"times\")"
      ]
    },
    {
      "cell_type": "markdown",
      "id": "5554ada0",
      "metadata": {
        "id": "5554ada0"
      },
      "source": [
        "# Remove empty tuples from a list"
      ]
    },
    {
      "cell_type": "code",
      "execution_count": null,
      "id": "3809d560",
      "metadata": {
        "id": "3809d560",
        "outputId": "65481b6b-7607-4b33-de24-eaf9ce07f5e2"
      },
      "outputs": [
        {
          "name": "stdout",
          "output_type": "stream",
          "text": [
            "[('ram', '15', '8'), ('laxman', 'sita'), '45', ',']\n"
          ]
        }
      ],
      "source": [
        "lst = [(), (\"ram\",\"15\",\"8\"), (), (\"laxman\", \"sita\"), (\"45\"), (\",\"),()]\n",
        "\n",
        "while () in lst:\n",
        "    lst.remove(())\n",
        "\n",
        "print(lst)"
      ]
    },
    {
      "cell_type": "markdown",
      "id": "8dfc84f0",
      "metadata": {
        "id": "8dfc84f0"
      },
      "source": [
        "# print duplicates from a list of integers"
      ]
    },
    {
      "cell_type": "code",
      "execution_count": null,
      "id": "fe9b47c6",
      "metadata": {
        "id": "fe9b47c6",
        "outputId": "5cb974b7-cb9b-458c-8d13-f92195585a56"
      },
      "outputs": [
        {
          "name": "stdout",
          "output_type": "stream",
          "text": [
            "{40, 10, -20, 50, 20, 60, 30}\n"
          ]
        }
      ],
      "source": [
        "list = [10, 20, 30, 20, 20, 30, 40, 50, -20, 60, 60, -20, -20]\n",
        "\n",
        "myset=set(list)\n",
        "print(myset)"
      ]
    },
    {
      "cell_type": "markdown",
      "id": "2dc626d5",
      "metadata": {
        "id": "2dc626d5"
      },
      "source": [
        "# Sort the values of first list using second list"
      ]
    },
    {
      "cell_type": "code",
      "execution_count": null,
      "id": "f4a6464e",
      "metadata": {
        "id": "f4a6464e",
        "outputId": "4efb340e-84f0-4f18-d623-f1e2fb6c9e66"
      },
      "outputs": [
        {
          "name": "stdout",
          "output_type": "stream",
          "text": [
            "['a', 'd', 'h', 'b', 'c', 'e', 'i', 'f', 'g']\n"
          ]
        }
      ],
      "source": [
        "list1 = [\"a\", \"b\", \"c\", \"d\", \"e\", \"f\", \"g\", \"h\", \"i\"]\n",
        "list2 = [ 0,   1,   1,    0,   1,   2,   2,   0,   1]\n",
        "\n",
        "\n",
        "\n",
        "paired= zip(list2,list1)\n",
        "#print(sorted(paired))\n",
        "\n",
        "\n",
        "res=[i[1] for i in sorted(paired)]\n",
        "print(res)"
      ]
    },
    {
      "cell_type": "markdown",
      "id": "a7df7245",
      "metadata": {
        "id": "a7df7245"
      },
      "source": [
        "# check whether the string is Symmetrical or Palindrome"
      ]
    },
    {
      "cell_type": "code",
      "execution_count": null,
      "id": "1d0f5ff0",
      "metadata": {
        "id": "1d0f5ff0",
        "outputId": "c4ba0385-bd4e-4c16-d600-9601ac508a46"
      },
      "outputs": [
        {
          "name": "stdout",
          "output_type": "stream",
          "text": [
            "amaama\n",
            "String is palindrom\n",
            "the string is not palindrome\n"
          ]
        }
      ],
      "source": [
        "teststr=\"amaama\"\n",
        "revstr=teststr[::-1]\n",
        "\n",
        "print(revstr)\n",
        "if teststr == revstr :\n",
        "    print(\"String is palindrom\")\n",
        "\n",
        "\n",
        "string =\"amaama\"\n",
        "print(\"the string is palindrome\" if string==reversed(string) else \"the string is not palindrome\")"
      ]
    },
    {
      "cell_type": "markdown",
      "id": "6d1094b7",
      "metadata": {
        "id": "6d1094b7"
      },
      "source": [
        "# Reverse Words in a Given String"
      ]
    },
    {
      "cell_type": "code",
      "execution_count": null,
      "id": "7fd0bb16",
      "metadata": {
        "id": "7fd0bb16",
        "outputId": "16253b14-4e49-4a79-999d-14683e377552"
      },
      "outputs": [
        {
          "name": "stdout",
          "output_type": "stream",
          "text": [
            "['code', 'practice', 'quiz', 'geeks']\n",
            "['code', 'practice', 'quiz', 'geeks']\n",
            "code practice quiz geeks \n"
          ]
        }
      ],
      "source": [
        "str =\" geeks quiz practice code\"\n",
        "print(str.split()[::-1])\n",
        "\n",
        "#OR\n",
        "wrd= str.strip().split(\" \")\n",
        "reversedStr= wrd[::-1]\n",
        "print(reversedStr)\n",
        "\n",
        "res=\"\"\n",
        "for i in reversedStr:\n",
        "    res=res+i+\" \"\n",
        "print(res)\n"
      ]
    },
    {
      "cell_type": "markdown",
      "id": "0535e3e8",
      "metadata": {
        "id": "0535e3e8"
      },
      "source": [
        "#  Remove/Replcae Letters From a String"
      ]
    },
    {
      "cell_type": "code",
      "execution_count": null,
      "metadata": {
        "id": "yCvHJ_MruvGG",
        "outputId": "2e0e6bc4-d6fd-4078-816d-cf5092347eba"
      },
      "outputs": [
        {
          "name": "stdout",
          "output_type": "stream",
          "text": [
            "GXXks123For123GXXks\n",
            "Gks123For123Gks\n",
            "GeeksForGeeks\n"
          ]
        }
      ],
      "source": [
        "str=\"Geeks123For123Geeks\"\n",
        "\n",
        "str1=str.replace(\"e\",\"X\")\n",
        "print(str1)\n",
        "\n",
        "str2=str1.replace(\"X\",\"\")\n",
        "print(str2)\n",
        "\n",
        "str = 'Geeks123For123Geeks'\n",
        "str3=str.translate( {ord(i): None for i in \"123\"})\n",
        "print(str3)"
      ],
      "id": "yCvHJ_MruvGG"
    },
    {
      "cell_type": "markdown",
      "id": "60141b20",
      "metadata": {
        "id": "60141b20"
      },
      "source": [
        "# String Contains Substring"
      ]
    },
    {
      "cell_type": "code",
      "execution_count": null,
      "id": "d8bbb8a3",
      "metadata": {
        "id": "d8bbb8a3",
        "outputId": "6d50b318-7102-4036-a571-f6ff61a293e4"
      },
      "outputs": [
        {
          "name": "stdout",
          "output_type": "stream",
          "text": [
            "exist!\n",
            "exist!\n",
            "exist!\n"
          ]
        }
      ],
      "source": [
        "MyString1 = \"A geek in need is a geek indeed\"\n",
        "\n",
        "if \"geek\" in MyString1:\n",
        "    print(\"exist!\")\n",
        "else:\n",
        "    print(\"Doesn't exists!\")\n",
        "\n",
        "if MyString1.find(\"geek\") !=-1:\n",
        "    print(\"exist!\")\n",
        "else:\n",
        "    print(\"Doesn't exists!\")\n",
        "\n",
        "\n",
        "if MyString1.count(\"geek\") > 0:\n",
        "    print(\"exist!\")\n",
        "else:\n",
        "    print(\"Doesn't exists!\")\n"
      ]
    },
    {
      "cell_type": "markdown",
      "id": "29c40aca",
      "metadata": {
        "id": "29c40aca"
      },
      "source": [
        "# Words Frequency in String Shorthands"
      ]
    },
    {
      "cell_type": "code",
      "execution_count": null,
      "id": "f1fe8368",
      "metadata": {
        "id": "f1fe8368",
        "outputId": "d5c28dcf-c66f-43c9-a901-b08ea3da3aa4"
      },
      "outputs": [
        {
          "name": "stdout",
          "output_type": "stream",
          "text": [
            "{'Gfg': 2, 'is': 1, 'best': 1, '.': 1, 'Geeks': 2, 'are': 1, 'good': 1, 'and': 1, 'like': 1}\n"
          ]
        }
      ],
      "source": [
        "mystr = \"Gfg is best . Geeks are good and Geeks like Gfg\"\n",
        "\n",
        "mydisc= {key: mystr.count(key) for key in mystr.split()}\n",
        "print(mydisc)"
      ]
    },
    {
      "cell_type": "markdown",
      "id": "40565d17",
      "metadata": {
        "id": "40565d17"
      },
      "source": [
        "# print even length words in a string"
      ]
    },
    {
      "cell_type": "code",
      "execution_count": null,
      "id": "7c517647",
      "metadata": {
        "id": "7c517647",
        "outputId": "21c272d4-4d8d-4af6-cc59-88508cfef4b8"
      },
      "outputs": [
        {
          "name": "stdout",
          "output_type": "stream",
          "text": [
            "['my', 'name', 'is', 'Kamal!']\n"
          ]
        }
      ],
      "source": [
        "mystr=\" Hello my name is Kamal!\"\n",
        "\n",
        "mylst=[word for word in mystr.strip().split() if len(word)%2==0]\n",
        "print(mylst)\n"
      ]
    },
    {
      "cell_type": "markdown",
      "id": "d6581f85",
      "metadata": {
        "id": "d6581f85"
      },
      "source": [
        "# Program to Accept the Strings Which Contains all Vowels"
      ]
    },
    {
      "cell_type": "code",
      "execution_count": null,
      "id": "2eba3b9f",
      "metadata": {
        "id": "2eba3b9f",
        "outputId": "6d8ce1f5-c904-402c-98e0-39cf3e11d7c5"
      },
      "outputs": [
        {
          "name": "stdout",
          "output_type": "stream",
          "text": [
            "[0, 4, 0, 1, 0]\n",
            "Not Accepted\n",
            "Not Accepted\n",
            "{'e', 'o', 'i', 'u', 'a'}\n",
            "Not accepted\n",
            "is Accpted: True\n",
            "Not accepted\n",
            "Accpted\n"
          ]
        }
      ],
      "source": [
        "input=\"geeksforgeeks\".lower()\n",
        "\n",
        "vowels=[input.count(\"a\"),input.count(\"e\"),input.count(\"i\"),input.count(\"o\"),input.count(\"u\")]\n",
        "print(vowels)\n",
        "\n",
        "if vowels.index(0) !=-1:\n",
        "    print(\"Not Accepted\")\n",
        "else:\n",
        "    print(\"Accepted\")\n",
        "\n",
        "if vowels.count(0) > 0:\n",
        "    print(\"Not Accepted\")\n",
        "else:\n",
        "    print(\"Accepted\")\n",
        "\n",
        "\n",
        "####OR###########\n",
        "myinput=\"q ew aodsfds u fdsfi\"\n",
        "myset=set(myinput)\n",
        "vow=\"aeiou\"\n",
        "\n",
        "res=myset.intersection(vow)\n",
        "print(res)\n",
        "if(len(res)>5):\n",
        "    print(\"Accepted\")\n",
        "else:\n",
        "    print(\"Not accepted\")\n",
        "\n",
        "print(\"is Accpted:\",set(vow).issubset(myinput))\n",
        "\n",
        "###OR###\n",
        "if set(vow).difference(myinput)==0:\n",
        "    print(\"Accepted\")\n",
        "else:\n",
        "    print(\"Not accepted\")\n",
        "####OR###########\n",
        "\n",
        "myinput=\"q ew aodsfds u fdsfi\"\n",
        "\n",
        "if all(v in myinput for v in vow):\n",
        "    print(\"Accpted\")\n",
        "else:\n",
        "    print(\"NO\")\n",
        "\n"
      ]
    },
    {
      "cell_type": "markdown",
      "id": "29995f2f",
      "metadata": {
        "id": "29995f2f"
      },
      "source": [
        "# Least Frequent Character in String"
      ]
    },
    {
      "cell_type": "code",
      "execution_count": null,
      "id": "b9c3960a",
      "metadata": {
        "id": "b9c3960a",
        "outputId": "e430388e-6399-4836-a213-0a561e8ffef2"
      },
      "outputs": [
        {
          "name": "stdout",
          "output_type": "stream",
          "text": [
            "{'G': 2, 'e': 4, 'k': 2, 's': 2, 'f': 1, 'o': 1, 'r': 1}\n",
            "G 2\n",
            "e 4\n",
            "k 2\n",
            "s 2\n",
            "f 1\n",
            "o 1\n",
            "r 1\n"
          ]
        },
        {
          "data": {
            "text/plain": [
              "[('f', 1), ('o', 1), ('r', 1), ('G', 2), ('k', 2), ('s', 2), ('e', 4)]"
            ]
          },
          "execution_count": 188,
          "metadata": {},
          "output_type": "execute_result"
        }
      ],
      "source": [
        "str = \"GeeksforGeeks\"\n",
        "\n",
        "disc={ch:str.count(ch) for ch in str}\n",
        "print(disc)\n",
        "\n",
        "for i,j in disc.items():\n",
        "    print(i,j)\n",
        "\n",
        "sorted(disc.items(),key=lambda x:x[1])"
      ]
    },
    {
      "cell_type": "markdown",
      "id": "373051cd",
      "metadata": {
        "id": "373051cd"
      },
      "source": [
        "# Maximum frequency character in String"
      ]
    },
    {
      "cell_type": "code",
      "execution_count": null,
      "id": "25faef8d",
      "metadata": {
        "id": "25faef8d",
        "outputId": "ca49f547-c1d6-4f28-dba5-abc26f1801f7"
      },
      "outputs": [
        {
          "name": "stdout",
          "output_type": "stream",
          "text": [
            "{'G': 2, 'e': 4, 'k': 2, 's': 2, 'f': 1, 'o': 1, 'r': 1}\n"
          ]
        }
      ],
      "source": [
        "str = \"GeeksforGeeks\"\n",
        "\n",
        "mydisc={}\n",
        "for ch in str:\n",
        "    if ch in mydisc:\n",
        "        mydisc[ch]+=1\n",
        "    else:\n",
        "        mydisc[ch]=1\n",
        "\n",
        "print(mydisc)"
      ]
    },
    {
      "cell_type": "markdown",
      "id": "2a24d2a8",
      "metadata": {
        "id": "2a24d2a8"
      },
      "source": [
        "# check if a string contains any special character"
      ]
    },
    {
      "cell_type": "code",
      "execution_count": null,
      "id": "fcc486e9",
      "metadata": {
        "id": "fcc486e9",
        "outputId": "7371bda7-86c8-4f7a-e99c-1c9f333cbe05"
      },
      "outputs": [
        {
          "name": "stdout",
          "output_type": "stream",
          "text": [
            "GeeksForGeeks\n"
          ]
        }
      ],
      "source": [
        "str=\"Geeks$For$Geeks\"\n",
        "\n",
        "spcl=\"!@#$%^&*()_\"\n",
        "\n",
        "for ch in str:\n",
        "    if ch in spcl:\n",
        "        str=str.replace(ch,\"\")\n",
        "print(str)\n",
        "\n"
      ]
    },
    {
      "cell_type": "markdown",
      "id": "6ae18123",
      "metadata": {
        "id": "6ae18123"
      },
      "source": [
        "#  Remove i-th character from a string"
      ]
    },
    {
      "cell_type": "code",
      "execution_count": null,
      "id": "4914aa1e",
      "metadata": {
        "id": "4914aa1e",
        "outputId": "75c304ab-0aed-486b-84eb-d666edfd6e25"
      },
      "outputs": [
        {
          "name": "stdout",
          "output_type": "stream",
          "text": [
            "['G', 'e', 'e', 'k', 's', 'F', 'o', 'r', 'G', 'e', 'e', 'k', 's']\n",
            "['G', 'e', 'e', 'k', 's', 'o', 'r', 'G', 'e', 'e', 'k', 's']\n"
          ]
        }
      ],
      "source": [
        "str=\"GeeksForGeeks\"\n",
        "strlst=\" \".join(str).split(\" \")\n",
        "print(strlst)\n",
        "del strlst[5]\n",
        "\n",
        "print(strlst)\n",
        "\n"
      ]
    },
    {
      "cell_type": "markdown",
      "id": "74e3683d",
      "metadata": {
        "id": "74e3683d"
      },
      "source": [
        "# Find all duplicate characters in string"
      ]
    },
    {
      "cell_type": "code",
      "execution_count": null,
      "id": "700193e1",
      "metadata": {
        "id": "700193e1",
        "outputId": "1b120c7f-3b4c-466a-d58c-613ee24049f3"
      },
      "outputs": [
        {
          "name": "stdout",
          "output_type": "stream",
          "text": [
            "{'e', 's', 'g', 'k'}\n"
          ]
        }
      ],
      "source": [
        "input=\"geeksforgeeeks\"\n",
        "\n",
        "chdisc={}\n",
        "reslst=set({})\n",
        "for ch in input:\n",
        "    if ch in chdisc:\n",
        "        chdisc[ch]+=1\n",
        "        reslst.add(ch)\n",
        "    else:\n",
        "        chdisc[ch]=1\n",
        "\n",
        "print(reslst)"
      ]
    },
    {
      "cell_type": "markdown",
      "id": "d972dea1",
      "metadata": {
        "id": "d972dea1"
      },
      "source": [
        "# Extract Unique values dictionary values"
      ]
    },
    {
      "cell_type": "code",
      "execution_count": null,
      "id": "86335565",
      "metadata": {
        "id": "86335565",
        "outputId": "800931db-15bd-481d-db35-980f5cc42b4a"
      },
      "outputs": [
        {
          "name": "stdout",
          "output_type": "stream",
          "text": [
            "{1, 2, 5, 6, 7, 8, 10, 11, 12}\n"
          ]
        }
      ],
      "source": [
        "test_dict = {'gfg': [5, 6, 7, 8],\n",
        "             'is': [10, 11, 7, 5],\n",
        "             'best': [6, 12, 10, 8],\n",
        "             'for': [1, 2, 5]}\n",
        "\n",
        "myset={ele for val in test_dict.values() for ele in val}\n",
        "print(myset)"
      ]
    },
    {
      "cell_type": "markdown",
      "id": "d6f56d51",
      "metadata": {
        "id": "d6f56d51"
      },
      "source": [
        "# find the sum of all items in a dictionary"
      ]
    },
    {
      "cell_type": "code",
      "execution_count": null,
      "id": "a0215b95",
      "metadata": {
        "id": "a0215b95",
        "outputId": "3dd35146-7098-43dc-85ca-cc5a94b935c1"
      },
      "outputs": [
        {
          "data": {
            "text/plain": [
              "600"
            ]
          },
          "execution_count": 218,
          "metadata": {},
          "output_type": "execute_result"
        }
      ],
      "source": [
        "input={\"a\": 100, \"b\":200, \"c\":300}\n",
        "print(sum(input.values()))"
      ]
    },
    {
      "cell_type": "markdown",
      "id": "5f864e2e",
      "metadata": {
        "id": "5f864e2e"
      },
      "source": [
        "# remove a key from dictionary"
      ]
    },
    {
      "cell_type": "code",
      "execution_count": null,
      "id": "d5d7b06c",
      "metadata": {
        "id": "d5d7b06c",
        "outputId": "ba802ee7-53d3-40a0-b5ce-063fd07349db"
      },
      "outputs": [
        {
          "name": "stdout",
          "output_type": "stream",
          "text": [
            "{'Anuradha': 21, 'Haritha': 21, 'Mani': 21}\n",
            "{'Anuradha': 21, 'Haritha': 21}\n",
            "{}\n"
          ]
        },
        {
          "ename": "NameError",
          "evalue": "name 'mydsc' is not defined",
          "output_type": "error",
          "traceback": [
            "\u001b[1;31m---------------------------------------------------------------------------\u001b[0m",
            "\u001b[1;31mNameError\u001b[0m                                 Traceback (most recent call last)",
            "\u001b[1;32mc:\\Users\\dwivedik\\Documents\\aiml\\python\\notebooks\\0.edxtests\\6.pythonbasics-practice.ipynb Cell 99\u001b[0m line \u001b[0;36m1\n\u001b[0;32m     <a href='vscode-notebook-cell:/c%3A/Users/dwivedik/Documents/aiml/python/notebooks/0.edxtests/6.pythonbasics-practice.ipynb#Y211sZmlsZQ%3D%3D?line=9'>10</a>\u001b[0m \u001b[39mprint\u001b[39m(mydsc)\n\u001b[0;32m     <a href='vscode-notebook-cell:/c%3A/Users/dwivedik/Documents/aiml/python/notebooks/0.edxtests/6.pythonbasics-practice.ipynb#Y211sZmlsZQ%3D%3D?line=11'>12</a>\u001b[0m \u001b[39mdel\u001b[39;00m mydsc\n\u001b[1;32m---> <a href='vscode-notebook-cell:/c%3A/Users/dwivedik/Documents/aiml/python/notebooks/0.edxtests/6.pythonbasics-practice.ipynb#Y211sZmlsZQ%3D%3D?line=13'>14</a>\u001b[0m \u001b[39mprint\u001b[39m(mydsc)\n",
            "\u001b[1;31mNameError\u001b[0m: name 'mydsc' is not defined"
          ]
        }
      ],
      "source": [
        "mydsc={\"Anuradha\": 21, \"Haritha\": 21, \"Arushi\": 22, \"Mani\": 21}\n",
        "\n",
        "mydsc.pop(\"Arushi\")\n",
        "print(mydsc)\n",
        "\n",
        "mydsc.popitem()\n",
        "print(mydsc)\n",
        "\n",
        "mydsc.clear()\n",
        "print(mydsc)\n",
        "\n",
        "del mydsc\n",
        "\n",
        "print(mydsc)"
      ]
    },
    {
      "cell_type": "markdown",
      "id": "cd33dac8",
      "metadata": {
        "id": "cd33dac8"
      },
      "source": [
        "# sort list of dictionaries by values"
      ]
    },
    {
      "cell_type": "code",
      "execution_count": null,
      "id": "69785012",
      "metadata": {
        "id": "69785012",
        "outputId": "792306a1-b3cd-4c8e-9fba-a9fcc6e64087"
      },
      "outputs": [
        {
          "name": "stdout",
          "output_type": "stream",
          "text": [
            "[{'name': 'Nikhil', 'age': 19}, {'name': 'Manjeet', 'age': 20}, {'name': 'Nandini', 'age': 20}]\n",
            "[{'name': 'Nandini', 'age': 20}, {'name': 'Manjeet', 'age': 20}, {'name': 'Nikhil', 'age': 19}]\n"
          ]
        }
      ],
      "source": [
        "list = [{\"name\": \"Nandini\", \"age\": 20},\n",
        "       {\"name\": \"Manjeet\", \"age\": 20},\n",
        "       {\"name\": \"Nikhil\", \"age\": 19}]\n",
        "\n",
        "print(sorted(list, key=lambda i: (i['age'], i['name'])))\n",
        "\n",
        "print(sorted(list, key=lambda i: (i['age']),reverse=True))\n"
      ]
    },
    {
      "cell_type": "markdown",
      "id": "67e859b9",
      "metadata": {
        "id": "67e859b9"
      },
      "source": [
        "# Merging two Dictionaries"
      ]
    },
    {
      "cell_type": "code",
      "execution_count": null,
      "id": "ea3b3d2e",
      "metadata": {
        "id": "ea3b3d2e",
        "outputId": "31f540d9-30ae-41dd-e238-6692a220738c"
      },
      "outputs": [
        {
          "name": "stdout",
          "output_type": "stream",
          "text": [
            "{'a': 10, 'b': 8, 'd': 6, 'c': 4}\n"
          ]
        }
      ],
      "source": [
        "dict1 = {'a': 10, 'b': 8}\n",
        "dict2 = {'d': 6, 'c': 4}\n",
        "\n",
        "dict1.update(dict2)\n",
        "print(dict1)"
      ]
    },
    {
      "cell_type": "markdown",
      "id": "78f14bc5",
      "metadata": {
        "id": "78f14bc5"
      },
      "source": [
        "# Convert key-values list to flat dictionary"
      ]
    },
    {
      "cell_type": "code",
      "execution_count": null,
      "id": "76e09432",
      "metadata": {
        "id": "76e09432",
        "outputId": "7b3c517c-bf96-4a64-bdf5-89c36d7100af"
      },
      "outputs": [
        {
          "name": "stdout",
          "output_type": "stream",
          "text": [
            "1 Jan\n",
            "2 Feb\n",
            "3 March\n",
            "{1: 'Jan', 2: 'Feb', 3: 'March'}\n",
            "{1: 'Jan', 2: 'Feb', 3: 'March'}\n",
            "{1: 'Jan', 2: 'Feb', 3: 'March'}\n"
          ]
        }
      ],
      "source": [
        "test_dict = {'month' : [1, 2, 3],\n",
        "             'name' : ['Jan', 'Feb', 'March']}\n",
        "\n",
        "newdisc={}\n",
        "for i, j in zip(test_dict[\"month\"], test_dict[\"name\"]):\n",
        "    print(i, j)\n",
        "    newdisc[i]=j\n",
        "\n",
        "print(newdisc)\n",
        "\n",
        "mydisc={i:j for i, j in zip(test_dict[\"month\"], test_dict[\"name\"])}\n",
        "print(mydisc)\n",
        "\n",
        "mydisc=dict(zip(test_dict[\"month\"], test_dict[\"name\"]))\n",
        "print(mydisc)\n"
      ]
    },
    {
      "cell_type": "markdown",
      "id": "f11ebca0",
      "metadata": {
        "id": "f11ebca0"
      },
      "source": [
        "#   Append Dictionary Keys and Values"
      ]
    },
    {
      "cell_type": "code",
      "execution_count": null,
      "id": "7da57f5f",
      "metadata": {
        "id": "7da57f5f"
      },
      "outputs": [],
      "source": [
        "test_dict = {\"Gfg\" : 1, \"is\" : 2, \"Best\": 3}\n",
        "\n",
        "#res = list(test_dict.keys()) + list(test_dict.values())\n",
        "\n"
      ]
    },
    {
      "cell_type": "markdown",
      "id": "8b13c287",
      "metadata": {
        "id": "8b13c287"
      },
      "source": [
        "# Convert a list of Tuples into Dictionary"
      ]
    },
    {
      "cell_type": "code",
      "execution_count": null,
      "id": "27649df2",
      "metadata": {
        "id": "27649df2",
        "outputId": "8940aa71-6017-4720-e953-aa5a09ffe30b"
      },
      "outputs": [
        {
          "name": "stdout",
          "output_type": "stream",
          "text": [
            "{'akash': 10, 'gaurav': 12, 'anand': 14, 'suraj': 20, 'akhil': 25, 'ashish': 30}\n",
            "{'akash': 10, 'gaurav': 12, 'anand': 14, 'suraj': 20, 'akhil': 25, 'ashish': 30}\n"
          ]
        }
      ],
      "source": [
        "def convert(tup, di):\n",
        "    di=dict(tup)\n",
        "    return di\n",
        "\n",
        "lst=[(\"akash\", 10), (\"gaurav\", 12), (\"anand\", 14),\n",
        "         (\"suraj\", 20), (\"akhil\", 25), (\"ashish\", 30)]\n",
        "\n",
        "di={}\n",
        "print(convert(lst, di))\n",
        "\n",
        "print(dict(lst))\n",
        "\n",
        "\n"
      ]
    },
    {
      "cell_type": "markdown",
      "id": "05c7d844",
      "metadata": {
        "id": "05c7d844"
      },
      "source": [
        "# Python keywords"
      ]
    },
    {
      "cell_type": "code",
      "execution_count": null,
      "id": "03013ade",
      "metadata": {
        "id": "03013ade",
        "outputId": "24e9632a-7745-4c9f-b27c-fa7ee53eb0a0"
      },
      "outputs": [
        {
          "name": "stdout",
          "output_type": "stream",
          "text": [
            "['False', 'None', 'True', 'and', 'as', 'assert', 'async', 'await', 'break', 'class', 'continue', 'def', 'del', 'elif', 'else', 'except', 'finally', 'for', 'from', 'global', 'if', 'import', 'in', 'is', 'lambda', 'nonlocal', 'not', 'or', 'pass', 'raise', 'return', 'try', 'while', 'with', 'yield']\n"
          ]
        }
      ],
      "source": [
        "import keyword\n",
        "print(keyword.kwlist)"
      ]
    },
    {
      "cell_type": "markdown",
      "id": "e4178295",
      "metadata": {
        "id": "e4178295"
      },
      "source": [
        "['False', 'None', 'True', 'and', 'as', 'assert', 'async', 'await', 'break', 'class', 'continue', 'def', 'del', 'elif', 'else', 'except', 'finally', 'for', 'from', 'global', 'if', 'import', 'in', 'is', 'lambda', 'nonlocal', 'not', 'or', 'pass', 'raise', 'return', 'try', 'while', 'with', 'yield']"
      ]
    },
    {
      "cell_type": "markdown",
      "id": "efc3d1e2",
      "metadata": {
        "id": "efc3d1e2"
      },
      "source": [
        "# OS Module and working thouugh directories"
      ]
    },
    {
      "cell_type": "code",
      "execution_count": null,
      "id": "8331f15a",
      "metadata": {
        "id": "8331f15a",
        "outputId": "61221f66-88ea-4797-d9ee-2082e367f794"
      },
      "outputs": [
        {
          "name": "stdout",
          "output_type": "stream",
          "text": [
            "Current user dwivedik\n",
            "Environment Variable C:\\Program Files\\Java\\jdk-17\n",
            "PID:: 9868\n",
            "PPID:: 9828\n",
            "Directory path:: c:\\Users\\dwivedik\\Documents\\aiml\\python\\notebooks\\0.edxtests\\sampledata\n",
            "path:: b'c:\\\\Users\\\\dwivedik\\\\Documents\\\\aiml\\\\python\\\\notebooks\\\\0.edxtests\\\\sampledata'\n",
            "chmod:: None\n",
            "cpu:: 8\n",
            "list:: ['excercise', 'myfile.txt', 'myfileCopy', 'pybasicpractice-samples', 'pybasicpractice-samples2', 'test.txt']\n",
            "OS Name:: nt\n",
            "None\n",
            "Path:: c:\\Users\\dwivedik\\Documents\\aiml\\python\\notebooks\\0.edxtests\\sampledata\n",
            "Absolute Path:: c:\\Users\\dwivedik\\Documents\\aiml\\python\\notebooks\\0.edxtests\\sampledata\\sampledata\n",
            "Size of file:: 58\n",
            "If file exists:: True\n",
            "If dir:: False\n",
            "If file :: True\n",
            "################Iterator through a Directory#####################\n",
            "['myfile.txt', 'myfileCopy', 'test.txt']\n",
            "['excercise', 'pybasicpractice-samples', 'pybasicpractice-samples2']\n"
          ]
        }
      ],
      "source": [
        "import os\n",
        "\n",
        "print(\"Current user\",os.getlogin())\n",
        "print(\"Environment Variable\", os.getenv(\"JAVA_HOME\"))\n",
        "print(\"PID::\",os.getpid())\n",
        "print(\"PPID::\",os.getppid())\n",
        "print(\"Directory path::\",os.getcwd())\n",
        "print(\"path::\",os.getcwdb())\n",
        "print(\"chmod::\",os.chmod(\"c:\\\\Users\\\\dwivedik\\\\Documents\\\\aiml\\\\python\\\\notebooks\\\\0.edxtests\\\\sampledata\\\\myfile.txt\",mode=1))\n",
        "print(\"cpu::\",os.cpu_count())\n",
        "print(\"list::\",os.listdir())\n",
        "#print(os.dup(0)) #Create duplicate file descriptor\n",
        "#print(os.dup2(2))\n",
        "print(\"OS Name::\",os.name)\n",
        "print(os.chdir(\"c:\\\\Users\\\\dwivedik\\\\Documents\\\\aiml\\\\python\\\\notebooks\\\\0.edxtests\\\\sampledata\"))\n",
        "print(\"Path::\",os.getcwd())\n",
        "#print(\"New dir\",os.mkdir(\"pybasicpractice-samples\"))\n",
        "#print(\"New dirs::\",os.makedirs(\"pybasicpractice-samples2\"))\n",
        "#print(\"Abort kernel. You will require to restart\",os.abort())\n",
        "print(\"Absolute Path::\",os.path.abspath(\"sampledata\"))\n",
        "print(\"Size of file::\",os.path.getsize(filename=\"test.txt\"))\n",
        "print(\"If file exists::\",os.path.exists(\"test.txt\"))\n",
        "print(\"If dir::\",os.path.isdir(\"test.txt\"))\n",
        "print(\"If file ::\",os.path.isfile(\"test.txt\"))\n",
        "\n",
        "print(\"################Iterator through a Directory#####################\")\n",
        "filelst=[]\n",
        "folderlst=[]\n",
        "for ele in os.listdir():\n",
        "    if os.path.isfile(ele):\n",
        "        filelst.append(ele)\n",
        "    else:\n",
        "        folderlst.append(ele)\n",
        "\n",
        "print(filelst)\n",
        "print(folderlst)"
      ]
    },
    {
      "cell_type": "markdown",
      "id": "f2ed715b",
      "metadata": {
        "id": "f2ed715b"
      },
      "source": [
        "# File Handling"
      ]
    },
    {
      "cell_type": "markdown",
      "id": "79e775bc",
      "metadata": {
        "id": "79e775bc"
      },
      "source": [
        "### Write a Python program to read an entire text file."
      ]
    },
    {
      "cell_type": "code",
      "execution_count": null,
      "id": "165b762e",
      "metadata": {
        "id": "165b762e",
        "outputId": "6ac849e3-ba28-4183-8bd6-7de0039c91ab"
      },
      "outputs": [
        {
          "name": "stdout",
          "output_type": "stream",
          "text": [
            "1>> ['This is Line1\\n', 'This is Line2\\n', 'This is Line3\\n', 'This is Line4']\n",
            "\n",
            "\n",
            "2>> This is Line1\n",
            "This is Line2\n",
            "This is Line3\n",
            "This is Line4\n",
            "\n",
            "\n",
            "3>> This is Line1\n",
            "\n",
            "\n",
            "\n"
          ]
        }
      ],
      "source": [
        "filename=\"c:\\\\Users\\\\dwivedik\\\\Documents\\\\aiml\\\\python\\\\notebooks\\\\0.edxtests\\\\sampledata\\\\pybasicpractice-samples\\\\test.txt\"\n",
        "fd= open(file=filename, mode=\"r\")\n",
        "print(\"1>>\",fd.readlines())\n",
        "print(\"\\n\")\n",
        "\n",
        "\n",
        "\n",
        "with open(filename,\"r\") as fd1:\n",
        "    print(\"2>>\",fd1.read())\n",
        "    print(\"\\n\")\n",
        "\n",
        "with open(filename,\"r\") as fd2:\n",
        "    print(\"3>>readline only reads first line\",fd2.readline())\n",
        "    print(\"\\n\")\n",
        "\n",
        "fd.close()\n",
        "fd1.close()\n",
        "fd2.close()\n"
      ]
    },
    {
      "cell_type": "markdown",
      "id": "ea7d2133",
      "metadata": {
        "id": "ea7d2133"
      },
      "source": [
        "### Write a Python program to read first n lines of a file."
      ]
    },
    {
      "cell_type": "code",
      "execution_count": null,
      "id": "f2d79e07",
      "metadata": {
        "id": "f2d79e07",
        "outputId": "5775eddc-9bc7-4ca9-bccd-a256853ce40d"
      },
      "outputs": [
        {
          "name": "stdout",
          "output_type": "stream",
          "text": [
            "This is Line1\n",
            "\n",
            "This is Line2\n",
            "\n",
            "This is Line1\n",
            "\n",
            "This is Line2\n",
            "\n",
            "This is Line3\n",
            "\n"
          ]
        }
      ],
      "source": [
        "filename=\"c:\\\\Users\\\\dwivedik\\\\Documents\\\\aiml\\\\python\\\\notebooks\\\\0.edxtests\\\\sampledata\\\\pybasicpractice-samples\\\\test.txt\"\n",
        "\n",
        "fd=open(filename,\"r\")\n",
        "\n",
        "#Read fist 2 lines\n",
        "for line in range(2):\n",
        "    print(fd.readline())\n",
        "\n",
        "fd1=open(filename,\"r\")\n",
        "\n",
        "x=0\n",
        "while x<3:\n",
        "    print(fd1.readline())\n",
        "    x+=1\n",
        "\n",
        "fd.close()\n",
        "fd1.close()"
      ]
    },
    {
      "cell_type": "markdown",
      "id": "a73e39ba",
      "metadata": {
        "id": "a73e39ba"
      },
      "source": [
        "###  program to append text to a file and display the text"
      ]
    },
    {
      "cell_type": "code",
      "execution_count": null,
      "id": "85df95ea",
      "metadata": {
        "id": "85df95ea",
        "outputId": "d3ef2c71-9d23-4a68-dff2-f29ca648712d"
      },
      "outputs": [
        {
          "name": "stdout",
          "output_type": "stream",
          "text": [
            "Currunt position of the cursor:: 249\n",
            "Set the cursor position:: 0\n",
            "['This is Line1\\n', 'This is Line2\\n', 'This is Line3\\n', 'This is Line4\\n', 'This is new appended line\\n', 'This is new appended line\\n', 'This is new appended line\\n', 'This is new appended line\\n', 'This is new appended line\\n', 'This is new appended line\\n', 'This is new appended line\\n']\n"
          ]
        }
      ],
      "source": [
        "filename=\"c:\\\\Users\\\\dwivedik\\\\Documents\\\\aiml\\\\python\\\\notebooks\\\\0.edxtests\\\\sampledata\\\\pybasicpractice-samples\\\\test.txt\"\n",
        "\n",
        "fd=open(filename,\"a+\")\n",
        "\n",
        "fd.write(\"This is new appended line\\n\")\n",
        "print(\"Currunt position of the cursor::\",fd.tell())\n",
        "print(\"Set the cursor position::\",fd.seek(0))\n",
        "print(fd.readlines())\n",
        "\n",
        "fd.close()"
      ]
    },
    {
      "cell_type": "markdown",
      "id": "a61fba0a",
      "metadata": {
        "id": "a61fba0a"
      },
      "source": [
        "### Python program to read last n lines of a file"
      ]
    },
    {
      "cell_type": "code",
      "execution_count": null,
      "id": "97949ea5",
      "metadata": {
        "id": "97949ea5",
        "outputId": "de18eb25-fba6-46cb-c776-b23b98055c3b"
      },
      "outputs": [
        {
          "name": "stdout",
          "output_type": "stream",
          "text": [
            "totallines available:: 0\n",
            "lines to be skipped:: -3\n",
            "lines to be printed:: 3\n",
            "['This is new appended line\\n', 'This is new appended line\\n', 'This is new appended line\\n']\n"
          ]
        }
      ],
      "source": [
        "filename=\"c:\\\\Users\\\\dwivedik\\\\Documents\\\\aiml\\\\python\\\\notebooks\\\\0.edxtests\\\\sampledata\\\\pybasicpractice-samples\\\\test.txt\"\n",
        "\n",
        "fd=open(filename,\"r\")\n",
        "printlastlines=3\n",
        "\n",
        "filecontent=fd.readlines()\n",
        "totallines=len(fd.readlines())\n",
        "print(\"totallines available::\",totallines)\n",
        "\n",
        "linestobeskipped=totallines-printlastlines\n",
        "print(\"lines to be skipped::\",linestobeskipped)\n",
        "\n",
        "print(\"lines to be printed::\",printlastlines)\n",
        "\n",
        "print(filecontent[8:11])\n"
      ]
    }
  ],
  "metadata": {
    "kernelspec": {
      "display_name": "Python 3 (ipykernel)",
      "language": "python",
      "name": "python3"
    },
    "language_info": {
      "codemirror_mode": {
        "name": "ipython",
        "version": 3
      },
      "file_extension": ".py",
      "mimetype": "text/x-python",
      "name": "python",
      "nbconvert_exporter": "python",
      "pygments_lexer": "ipython3",
      "version": "3.11.4"
    },
    "colab": {
      "provenance": [],
      "include_colab_link": true
    }
  },
  "nbformat": 4,
  "nbformat_minor": 5
}